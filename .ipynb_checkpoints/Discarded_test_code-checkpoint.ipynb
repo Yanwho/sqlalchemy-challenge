{
 "cells": [
  {
   "cell_type": "markdown",
   "metadata": {},
   "source": [
    "# Reflect Tables into SQLAlchemy ORM"
   ]
  },
  {
   "cell_type": "code",
   "execution_count": 10,
   "metadata": {},
   "outputs": [],
   "source": [
    "### OLD TEST CODE BELOW ###\n",
    "### OLD TEST CODE BELOW ###"
   ]
  },
  {
   "cell_type": "code",
   "execution_count": 11,
   "metadata": {},
   "outputs": [],
   "source": [
    "# commented out during tutor session.  looks to be object declarations\n",
    "# Base = declarative_base()\n",
    "# class measurement(Base):\n",
    "#     __tablename__ = \"measurement\"\n",
    "#     id = Column(Integer, primary_key=True)\n",
    "#     station = Column(String)\n",
    "#     date = Column(Date)\n",
    "#     prcp = Column(Float)\n",
    "#     tobs = Column(Float)\n",
    "    \n",
    "# class station(Base):\n",
    "#     __tablename__ = \"station\"\n",
    "#     id = Column(Integer, primary_key=True)\n",
    "#     station = Column(String)\n",
    "#     name = Column(String)\n",
    "#     latitude = Column(Float)\n",
    "#     longitude = Column(Float)\n",
    "#     elevation = Column(Float)"
   ]
  },
  {
   "cell_type": "code",
   "execution_count": 12,
   "metadata": {},
   "outputs": [],
   "source": [
    "# commented out during tutor session.  \n",
    "# inspector = inspect(engine)\n",
    "# inspector.get_table_names()"
   ]
  },
  {
   "cell_type": "code",
   "execution_count": 13,
   "metadata": {},
   "outputs": [],
   "source": [
    "# m_columns = inspector.get_columns(\"measurement\")\n",
    "# pprint(m_columns)"
   ]
  },
  {
   "cell_type": "code",
   "execution_count": 14,
   "metadata": {},
   "outputs": [],
   "source": [
    "# s_columns = inspector.get_columns(\"stations\")\n",
    "# pprint(s_columns)"
   ]
  },
  {
   "cell_type": "code",
   "execution_count": 15,
   "metadata": {},
   "outputs": [],
   "source": [
    "# station_read = pd.read_sql('station', engine) \n",
    "# station_read"
   ]
  },
  {
   "cell_type": "code",
   "execution_count": 16,
   "metadata": {},
   "outputs": [],
   "source": [
    "# measurement_read = pd.read_sql('measurement', engine) \n",
    "# measurement_read"
   ]
  },
  {
   "cell_type": "code",
   "execution_count": 17,
   "metadata": {},
   "outputs": [],
   "source": [
    "# hawaii_merged_df = pd.merge(station_read, measurement_read, how='inner', on=\"station\")\n",
    "# hawaii_merged_df.to_csv(\"all_data.csv\")\n",
    "# hawaii_merged_df\n"
   ]
  },
  {
   "cell_type": "markdown",
   "metadata": {},
   "source": [
    "# Exploratory Climate Analysis"
   ]
  },
  {
   "cell_type": "code",
   "execution_count": null,
   "metadata": {},
   "outputs": [],
   "source": [
    "### OLD TEST CODE BELOW ###\n",
    "### OLD TEST CODE BELOW ###"
   ]
  },
  {
   "cell_type": "code",
   "execution_count": null,
   "metadata": {},
   "outputs": [],
   "source": [
    "# SELECT DATEADD(month, -2, '2017/08/25') AS DateAdd;\n",
    "# result = session.query(func.strftime(\"%Y-%m-%d\",measurement.date).all()\n",
    "# this works fior creating a dataframe of the last date, but that is ultimately useless.  fun, but useless.\n",
    "# last_date_skip_code = pd.read_sql(\"SELECT * FROM measurement WHERE date IN (SELECT max(date) FROM measurement)\", con=engine)\n",
    "# print(last_date)"
   ]
  },
  {
   "cell_type": "code",
   "execution_count": null,
   "metadata": {},
   "outputs": [],
   "source": [
    "# one_year_ago_skip_code = dt.date(2017,8,23) - timedelta(days=365)\n",
    "# print(one_year_ago_skip_code)"
   ]
  },
  {
   "cell_type": "code",
   "execution_count": null,
   "metadata": {},
   "outputs": [],
   "source": [
    "# Two different ways to get the last year of data"
   ]
  },
  {
   "cell_type": "code",
   "execution_count": null,
   "metadata": {},
   "outputs": [],
   "source": [
    "# works for finding the 1 year of data, but creates a list that I cant do anything with\n",
    "# results = session.query(measurement.date, measurement.prcp).filter(measurement.date>=one_year_ago).all()"
   ]
  },
  {
   "cell_type": "code",
   "execution_count": null,
   "metadata": {},
   "outputs": [],
   "source": [
    "# activity_count_3 = pd.read_sql(activity_count, con=engine)\n",
    "# activity_count_3"
   ]
  }
 ],
 "metadata": {
  "environment": {
   "name": "common-cpu.m54",
   "type": "gcloud",
   "uri": "gcr.io/deeplearning-platform-release/base-cpu:m54"
  },
  "kernelspec": {
   "display_name": "Python 3",
   "language": "python",
   "name": "python3"
  },
  "language_info": {
   "codemirror_mode": {
    "name": "ipython",
    "version": 3
   },
   "file_extension": ".py",
   "mimetype": "text/x-python",
   "name": "python",
   "nbconvert_exporter": "python",
   "pygments_lexer": "ipython3",
   "version": "3.7.8"
  }
 },
 "nbformat": 4,
 "nbformat_minor": 4
}
