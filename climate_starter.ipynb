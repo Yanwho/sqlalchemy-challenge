{
 "cells": [
  {
   "cell_type": "code",
   "execution_count": 1,
   "metadata": {},
   "outputs": [],
   "source": [
    "# %matplotlib inline\n",
    "from matplotlib import style\n",
    "style.use('fivethirtyeight')\n",
    "import matplotlib.pyplot as plt"
   ]
  },
  {
   "cell_type": "code",
   "execution_count": 2,
   "metadata": {},
   "outputs": [],
   "source": [
    "import numpy as np\n",
    "import pandas as pd"
   ]
  },
  {
   "cell_type": "code",
   "execution_count": 3,
   "metadata": {},
   "outputs": [],
   "source": [
    "import datetime as dt\n",
    "from datetime import datetime, timedelta\n",
    "from pprint import pprint"
   ]
  },
  {
   "cell_type": "markdown",
   "metadata": {},
   "source": [
    "# Reflect Tables into SQLAlchemy ORM"
   ]
  },
  {
   "cell_type": "code",
   "execution_count": 4,
   "metadata": {},
   "outputs": [],
   "source": [
    "# Python SQL toolkit and Object Relational Mapper\n",
    "import sqlalchemy\n",
    "from sqlalchemy.ext.automap import automap_base\n",
    "from sqlalchemy.orm import Session\n",
    "from sqlalchemy import create_engine, func\n",
    "from sqlalchemy import inspect\n",
    "from sqlalchemy.ext.declarative import declarative_base\n",
    "from sqlalchemy import Column, Integer, String, Float\n",
    "from sqlalchemy.types import Date\n"
   ]
  },
  {
   "cell_type": "code",
   "execution_count": 5,
   "metadata": {},
   "outputs": [],
   "source": [
    "engine = create_engine(\"sqlite:///Resources/hawaii.sqlite\")"
   ]
  },
  {
   "cell_type": "code",
   "execution_count": 6,
   "metadata": {},
   "outputs": [],
   "source": [
    "# reflect an existing database into a new model\n",
    "base = automap_base()\n",
    "# reflect the tables\n",
    "base.prepare(engine, reflect = True)"
   ]
  },
  {
   "cell_type": "code",
   "execution_count": 7,
   "metadata": {},
   "outputs": [
    {
     "output_type": "execute_result",
     "data": {
      "text/plain": [
       "['measurement', 'station']"
      ]
     },
     "metadata": {},
     "execution_count": 7
    }
   ],
   "source": [
    "# We can view all of the classes that automap found\n",
    "base.classes.keys()\n",
    "# https://www.learnpython.org/en/Classes_and_Objects   (understand difference between object and classes)"
   ]
  },
  {
   "cell_type": "code",
   "execution_count": 8,
   "metadata": {},
   "outputs": [
    {
     "output_type": "execute_result",
     "data": {
      "text/plain": [
       "sqlalchemy.ext.automap.station"
      ]
     },
     "metadata": {},
     "execution_count": 8
    }
   ],
   "source": [
    "# Save references to each table\n",
    "measurement = base.classes.measurement\n",
    "station = base.classes.station\n",
    "station"
   ]
  },
  {
   "cell_type": "code",
   "execution_count": 9,
   "metadata": {},
   "outputs": [
    {
     "output_type": "execute_result",
     "data": {
      "text/plain": [
       "<sqlalchemy.orm.session.Session at 0x13aab407b48>"
      ]
     },
     "metadata": {},
     "execution_count": 9
    }
   ],
   "source": [
    "# Create our session (link) from Python to the DB\n",
    "session = Session(bind=engine)\n",
    "session"
   ]
  },
  {
   "cell_type": "markdown",
   "metadata": {},
   "source": [
    "# Exploratory Climate Analysis"
   ]
  },
  {
   "cell_type": "code",
   "execution_count": 10,
   "metadata": {},
   "outputs": [
    {
     "output_type": "stream",
     "name": "stdout",
     "text": [
      "             date\n0      2010-01-01\n1      2010-01-02\n2      2010-01-03\n3      2010-01-04\n4      2010-01-06\n...           ...\n19545  2017-08-19\n19546  2017-08-20\n19547  2017-08-21\n19548  2017-08-22\n19549  2017-08-23\n\n[19550 rows x 1 columns]\n"
     ]
    }
   ],
   "source": [
    "cmd = \"\"\"SELECT date\n",
    "FROM measurement\n",
    "\"\"\"\n",
    "print(pd.read_sql(cmd, con=engine))\n",
    "\n",
    "\n",
    "# Design a query to retrieve the last 12 months of precipitation data and plot the results\n",
    "\n",
    "\n",
    "# # Calculate the date 1 year ago from the last data point in the database\n",
    "\n",
    "# # Perform a query to retrieve the data and precipitation scores\n",
    "\n",
    "# # Save the query results as a Pandas DataFrame and set the index to the date column\n",
    "\n",
    "# # Sort the dataframe by date\n",
    "\n",
    "# # Use Pandas Plotting with Matplotlib to plot the data"
   ]
  },
  {
   "cell_type": "code",
   "execution_count": 11,
   "metadata": {},
   "outputs": [
    {
     "output_type": "stream",
     "name": "stdout",
     "text": [
      "The last day data was collected was: 2017-08-23\n"
     ]
    }
   ],
   "source": [
    "last_date = session.query(func.max(measurement.date)).first()[0]\n",
    "print(\"The last day data was collected was: \" + last_date)"
   ]
  },
  {
   "cell_type": "code",
   "execution_count": 12,
   "metadata": {},
   "outputs": [
    {
     "output_type": "execute_result",
     "data": {
      "text/plain": [
       "str"
      ]
     },
     "metadata": {},
     "execution_count": 12
    }
   ],
   "source": [
    "type(last_date)"
   ]
  },
  {
   "cell_type": "code",
   "execution_count": 13,
   "metadata": {},
   "outputs": [
    {
     "output_type": "execute_result",
     "data": {
      "text/plain": [
       "datetime.datetime(2017, 8, 23, 0, 0)"
      ]
     },
     "metadata": {},
     "execution_count": 13
    }
   ],
   "source": [
    "date_time_obj = dt.datetime.strptime(last_date, '%Y-%m-%d')\n",
    "date_time_obj"
   ]
  },
  {
   "cell_type": "code",
   "execution_count": 14,
   "metadata": {},
   "outputs": [
    {
     "output_type": "execute_result",
     "data": {
      "text/plain": [
       "datetime.datetime"
      ]
     },
     "metadata": {},
     "execution_count": 14
    }
   ],
   "source": [
    "type(date_time_obj)\n",
    "# convert this one to datetime.delta for te"
   ]
  },
  {
   "cell_type": "code",
   "execution_count": 15,
   "metadata": {},
   "outputs": [
    {
     "output_type": "execute_result",
     "data": {
      "text/plain": [
       "datetime.timedelta"
      ]
     },
     "metadata": {},
     "execution_count": 15
    }
   ],
   "source": [
    "type(dt.timedelta(days=365))"
   ]
  },
  {
   "cell_type": "code",
   "execution_count": 16,
   "metadata": {},
   "outputs": [
    {
     "output_type": "stream",
     "name": "stdout",
     "text": [
      "The last year of data collection began: 2016-08-23 00:00:00\n"
     ]
    }
   ],
   "source": [
    "# # Calculate the date 1 year ago from the last data point in the database\n",
    "one_year_ago = date_time_obj - timedelta(days=365)\n",
    "print(\"The last year of data collection began: \" + str(one_year_ago))"
   ]
  },
  {
   "cell_type": "code",
   "execution_count": 30,
   "metadata": {},
   "outputs": [
    {
     "output_type": "execute_result",
     "data": {
      "text/plain": [
       "[<sqlalchemy.orm.query.Query at 0x13aabff4d08>]"
      ]
     },
     "metadata": {},
     "execution_count": 30
    }
   ],
   "source": [
    "one_year_ago_query = session.query(measurement.date, measurement.prcp).filter(measurement.date >= one_year_ago,  measurement.date <= last_date)\n",
    "# one_year_ago_query_df = pd.DataFrame(one_year_ago_query)\n",
    "precip = list(np.ravel(one_year_ago_query))\n",
    "precip"
   ]
  },
  {
   "cell_type": "code",
   "execution_count": 18,
   "metadata": {},
   "outputs": [
    {
     "output_type": "stream",
     "name": "stdout",
     "text": [
      "This dataframe includes the last year of data via multiple session queries : \n"
     ]
    },
    {
     "output_type": "execute_result",
     "data": {
      "text/plain": [
       "         id      station        date  prcp  tobs\n",
       "0      2365  USC00519397  2016-08-24  0.08  79.0\n",
       "1      2366  USC00519397  2016-08-25  0.08  80.0\n",
       "2      2367  USC00519397  2016-08-26  0.00  79.0\n",
       "3      2368  USC00519397  2016-08-27  0.00  77.0\n",
       "4      2369  USC00519397  2016-08-28  0.01  78.0\n",
       "...     ...          ...         ...   ...   ...\n",
       "2218  19546  USC00516128  2017-08-19  0.09  71.0\n",
       "2219  19547  USC00516128  2017-08-20   NaN  78.0\n",
       "2220  19548  USC00516128  2017-08-21  0.56  76.0\n",
       "2221  19549  USC00516128  2017-08-22  0.50  76.0\n",
       "2222  19550  USC00516128  2017-08-23  0.45  76.0\n",
       "\n",
       "[2223 rows x 5 columns]"
      ],
      "text/html": "<div>\n<style scoped>\n    .dataframe tbody tr th:only-of-type {\n        vertical-align: middle;\n    }\n\n    .dataframe tbody tr th {\n        vertical-align: top;\n    }\n\n    .dataframe thead th {\n        text-align: right;\n    }\n</style>\n<table border=\"1\" class=\"dataframe\">\n  <thead>\n    <tr style=\"text-align: right;\">\n      <th></th>\n      <th>id</th>\n      <th>station</th>\n      <th>date</th>\n      <th>prcp</th>\n      <th>tobs</th>\n    </tr>\n  </thead>\n  <tbody>\n    <tr>\n      <th>0</th>\n      <td>2365</td>\n      <td>USC00519397</td>\n      <td>2016-08-24</td>\n      <td>0.08</td>\n      <td>79.0</td>\n    </tr>\n    <tr>\n      <th>1</th>\n      <td>2366</td>\n      <td>USC00519397</td>\n      <td>2016-08-25</td>\n      <td>0.08</td>\n      <td>80.0</td>\n    </tr>\n    <tr>\n      <th>2</th>\n      <td>2367</td>\n      <td>USC00519397</td>\n      <td>2016-08-26</td>\n      <td>0.00</td>\n      <td>79.0</td>\n    </tr>\n    <tr>\n      <th>3</th>\n      <td>2368</td>\n      <td>USC00519397</td>\n      <td>2016-08-27</td>\n      <td>0.00</td>\n      <td>77.0</td>\n    </tr>\n    <tr>\n      <th>4</th>\n      <td>2369</td>\n      <td>USC00519397</td>\n      <td>2016-08-28</td>\n      <td>0.01</td>\n      <td>78.0</td>\n    </tr>\n    <tr>\n      <th>...</th>\n      <td>...</td>\n      <td>...</td>\n      <td>...</td>\n      <td>...</td>\n      <td>...</td>\n    </tr>\n    <tr>\n      <th>2218</th>\n      <td>19546</td>\n      <td>USC00516128</td>\n      <td>2017-08-19</td>\n      <td>0.09</td>\n      <td>71.0</td>\n    </tr>\n    <tr>\n      <th>2219</th>\n      <td>19547</td>\n      <td>USC00516128</td>\n      <td>2017-08-20</td>\n      <td>NaN</td>\n      <td>78.0</td>\n    </tr>\n    <tr>\n      <th>2220</th>\n      <td>19548</td>\n      <td>USC00516128</td>\n      <td>2017-08-21</td>\n      <td>0.56</td>\n      <td>76.0</td>\n    </tr>\n    <tr>\n      <th>2221</th>\n      <td>19549</td>\n      <td>USC00516128</td>\n      <td>2017-08-22</td>\n      <td>0.50</td>\n      <td>76.0</td>\n    </tr>\n    <tr>\n      <th>2222</th>\n      <td>19550</td>\n      <td>USC00516128</td>\n      <td>2017-08-23</td>\n      <td>0.45</td>\n      <td>76.0</td>\n    </tr>\n  </tbody>\n</table>\n<p>2223 rows × 5 columns</p>\n</div>"
     },
     "metadata": {},
     "execution_count": 18
    }
   ],
   "source": [
    "last_year_df = pd.read_sql(one_year_ago_query.statement, one_year_ago_query.session.bind)\n",
    "print(\"This dataframe includes the last year of data via multiple session queries : \")\n",
    "last_year_df"
   ]
  },
  {
   "cell_type": "code",
   "execution_count": 19,
   "metadata": {},
   "outputs": [
    {
     "output_type": "stream",
     "name": "stdout",
     "text": [
      "This dataframe includes the last year of data from via single line query: \n"
     ]
    },
    {
     "output_type": "execute_result",
     "data": {
      "text/plain": [
       "            date  prcp\n",
       "0     2016-08-24  0.08\n",
       "1     2016-08-25  0.08\n",
       "2     2016-08-26  0.00\n",
       "3     2016-08-27  0.00\n",
       "4     2016-08-28  0.01\n",
       "...          ...   ...\n",
       "2218  2017-08-19  0.09\n",
       "2219  2017-08-20   NaN\n",
       "2220  2017-08-21  0.56\n",
       "2221  2017-08-22  0.50\n",
       "2222  2017-08-23  0.45\n",
       "\n",
       "[2223 rows x 2 columns]"
      ],
      "text/html": "<div>\n<style scoped>\n    .dataframe tbody tr th:only-of-type {\n        vertical-align: middle;\n    }\n\n    .dataframe tbody tr th {\n        vertical-align: top;\n    }\n\n    .dataframe thead th {\n        text-align: right;\n    }\n</style>\n<table border=\"1\" class=\"dataframe\">\n  <thead>\n    <tr style=\"text-align: right;\">\n      <th></th>\n      <th>date</th>\n      <th>prcp</th>\n    </tr>\n  </thead>\n  <tbody>\n    <tr>\n      <th>0</th>\n      <td>2016-08-24</td>\n      <td>0.08</td>\n    </tr>\n    <tr>\n      <th>1</th>\n      <td>2016-08-25</td>\n      <td>0.08</td>\n    </tr>\n    <tr>\n      <th>2</th>\n      <td>2016-08-26</td>\n      <td>0.00</td>\n    </tr>\n    <tr>\n      <th>3</th>\n      <td>2016-08-27</td>\n      <td>0.00</td>\n    </tr>\n    <tr>\n      <th>4</th>\n      <td>2016-08-28</td>\n      <td>0.01</td>\n    </tr>\n    <tr>\n      <th>...</th>\n      <td>...</td>\n      <td>...</td>\n    </tr>\n    <tr>\n      <th>2218</th>\n      <td>2017-08-19</td>\n      <td>0.09</td>\n    </tr>\n    <tr>\n      <th>2219</th>\n      <td>2017-08-20</td>\n      <td>NaN</td>\n    </tr>\n    <tr>\n      <th>2220</th>\n      <td>2017-08-21</td>\n      <td>0.56</td>\n    </tr>\n    <tr>\n      <th>2221</th>\n      <td>2017-08-22</td>\n      <td>0.50</td>\n    </tr>\n    <tr>\n      <th>2222</th>\n      <td>2017-08-23</td>\n      <td>0.45</td>\n    </tr>\n  </tbody>\n</table>\n<p>2223 rows × 2 columns</p>\n</div>"
     },
     "metadata": {},
     "execution_count": 19
    }
   ],
   "source": [
    "# # Perform a query to retrieve the data and precipitation scores\n",
    "# # Save the query results as a Pandas DataFrame and set the index to the date column\n",
    "# # Sort the dataframe by date\n",
    "prcp_data_df = pd.read_sql(\"SELECT date, prcp FROM measurement WHERE date > '2016-08-23'\", con=engine)\n",
    "print(\"This dataframe includes the last year of data from via single line query: \")\n",
    "prcp_data_df"
   ]
  },
  {
   "cell_type": "markdown",
   "metadata": {},
   "source": [
    "## Use Pandas Plotting with Matplotlib to plot the data"
   ]
  },
  {
   "cell_type": "code",
   "execution_count": 20,
   "metadata": {},
   "outputs": [
    {
     "output_type": "display_data",
     "data": {
      "text/plain": "<Figure size 720x432 with 1 Axes>",
      "image/svg+xml": "<?xml version=\"1.0\" encoding=\"utf-8\" standalone=\"no\"?>\r\n<!DOCTYPE svg PUBLIC \"-//W3C//DTD SVG 1.1//EN\"\r\n  \"http://www.w3.org/Graphics/SVG/1.1/DTD/svg11.dtd\">\r\n<!-- Created with matplotlib (https://matplotlib.org/) -->\r\n<svg height=\"423.471125pt\" version=\"1.1\" viewBox=\"0 0 711.40125 423.471125\" width=\"711.40125pt\" xmlns=\"http://www.w3.org/2000/svg\" xmlns:xlink=\"http://www.w3.org/1999/xlink\">\r\n <metadata>\r\n  <rdf:RDF xmlns:cc=\"http://creativecommons.org/ns#\" xmlns:dc=\"http://purl.org/dc/elements/1.1/\" xmlns:rdf=\"http://www.w3.org/1999/02/22-rdf-syntax-ns#\">\r\n   <cc:Work>\r\n    <dc:type rdf:resource=\"http://purl.org/dc/dcmitype/StillImage\"/>\r\n    <dc:date>2020-11-06T20:21:25.986455</dc:date>\r\n    <dc:format>image/svg+xml</dc:format>\r\n    <dc:creator>\r\n     <cc:Agent>\r\n      <dc:title>Matplotlib v3.3.2, https://matplotlib.org/</dc:title>\r\n     </cc:Agent>\r\n    </dc:creator>\r\n   </cc:Work>\r\n  </rdf:RDF>\r\n </metadata>\r\n <defs>\r\n  <style type=\"text/css\">*{stroke-linecap:butt;stroke-linejoin:round;}</style>\r\n </defs>\r\n <g id=\"figure_1\">\r\n  <g id=\"patch_1\">\r\n   <path d=\"M 0 423.471125 \r\nL 711.40125 423.471125 \r\nL 711.40125 0 \r\nL 0 0 \r\nz\r\n\" style=\"fill:none;\"/>\r\n  </g>\r\n  <g id=\"axes_1\">\r\n   <g id=\"patch_2\">\r\n    <path d=\"M 32.67625 339.04175 \r\nL 704.20125 339.04175 \r\nL 704.20125 24.14175 \r\nL 32.67625 24.14175 \r\nz\r\n\" style=\"fill:#f0f0f0;\"/>\r\n   </g>\r\n   <g id=\"matplotlib.axis_1\">\r\n    <g id=\"xtick_1\">\r\n     <g id=\"line2d_1\">\r\n      <path clip-path=\"url(#p1e5dd0a549)\" d=\"M 63.200114 339.04175 \r\nL 63.200114 24.14175 \r\n\" style=\"fill:none;stroke:#cbcbcb;\"/>\r\n     </g>\r\n     <g id=\"line2d_2\"/>\r\n     <g id=\"text_1\">\r\n      <!-- 2016-08-24 -->\r\n      <g transform=\"translate(65.959489 400.657375)rotate(-90)scale(0.1 -0.1)\">\r\n       <defs>\r\n        <path d=\"M 19.1875 8.296875 \r\nL 53.609375 8.296875 \r\nL 53.609375 0 \r\nL 7.328125 0 \r\nL 7.328125 8.296875 \r\nQ 12.9375 14.109375 22.625 23.890625 \r\nQ 32.328125 33.6875 34.8125 36.53125 \r\nQ 39.546875 41.84375 41.421875 45.53125 \r\nQ 43.3125 49.21875 43.3125 52.78125 \r\nQ 43.3125 58.59375 39.234375 62.25 \r\nQ 35.15625 65.921875 28.609375 65.921875 \r\nQ 23.96875 65.921875 18.8125 64.3125 \r\nQ 13.671875 62.703125 7.8125 59.421875 \r\nL 7.8125 69.390625 \r\nQ 13.765625 71.78125 18.9375 73 \r\nQ 24.125 74.21875 28.421875 74.21875 \r\nQ 39.75 74.21875 46.484375 68.546875 \r\nQ 53.21875 62.890625 53.21875 53.421875 \r\nQ 53.21875 48.921875 51.53125 44.890625 \r\nQ 49.859375 40.875 45.40625 35.40625 \r\nQ 44.1875 33.984375 37.640625 27.21875 \r\nQ 31.109375 20.453125 19.1875 8.296875 \r\nz\r\n\" id=\"DejaVuSans-50\"/>\r\n        <path d=\"M 31.78125 66.40625 \r\nQ 24.171875 66.40625 20.328125 58.90625 \r\nQ 16.5 51.421875 16.5 36.375 \r\nQ 16.5 21.390625 20.328125 13.890625 \r\nQ 24.171875 6.390625 31.78125 6.390625 \r\nQ 39.453125 6.390625 43.28125 13.890625 \r\nQ 47.125 21.390625 47.125 36.375 \r\nQ 47.125 51.421875 43.28125 58.90625 \r\nQ 39.453125 66.40625 31.78125 66.40625 \r\nz\r\nM 31.78125 74.21875 \r\nQ 44.046875 74.21875 50.515625 64.515625 \r\nQ 56.984375 54.828125 56.984375 36.375 \r\nQ 56.984375 17.96875 50.515625 8.265625 \r\nQ 44.046875 -1.421875 31.78125 -1.421875 \r\nQ 19.53125 -1.421875 13.0625 8.265625 \r\nQ 6.59375 17.96875 6.59375 36.375 \r\nQ 6.59375 54.828125 13.0625 64.515625 \r\nQ 19.53125 74.21875 31.78125 74.21875 \r\nz\r\n\" id=\"DejaVuSans-48\"/>\r\n        <path d=\"M 12.40625 8.296875 \r\nL 28.515625 8.296875 \r\nL 28.515625 63.921875 \r\nL 10.984375 60.40625 \r\nL 10.984375 69.390625 \r\nL 28.421875 72.90625 \r\nL 38.28125 72.90625 \r\nL 38.28125 8.296875 \r\nL 54.390625 8.296875 \r\nL 54.390625 0 \r\nL 12.40625 0 \r\nz\r\n\" id=\"DejaVuSans-49\"/>\r\n        <path d=\"M 33.015625 40.375 \r\nQ 26.375 40.375 22.484375 35.828125 \r\nQ 18.609375 31.296875 18.609375 23.390625 \r\nQ 18.609375 15.53125 22.484375 10.953125 \r\nQ 26.375 6.390625 33.015625 6.390625 \r\nQ 39.65625 6.390625 43.53125 10.953125 \r\nQ 47.40625 15.53125 47.40625 23.390625 \r\nQ 47.40625 31.296875 43.53125 35.828125 \r\nQ 39.65625 40.375 33.015625 40.375 \r\nz\r\nM 52.59375 71.296875 \r\nL 52.59375 62.3125 \r\nQ 48.875 64.0625 45.09375 64.984375 \r\nQ 41.3125 65.921875 37.59375 65.921875 \r\nQ 27.828125 65.921875 22.671875 59.328125 \r\nQ 17.53125 52.734375 16.796875 39.40625 \r\nQ 19.671875 43.65625 24.015625 45.921875 \r\nQ 28.375 48.1875 33.59375 48.1875 \r\nQ 44.578125 48.1875 50.953125 41.515625 \r\nQ 57.328125 34.859375 57.328125 23.390625 \r\nQ 57.328125 12.15625 50.6875 5.359375 \r\nQ 44.046875 -1.421875 33.015625 -1.421875 \r\nQ 20.359375 -1.421875 13.671875 8.265625 \r\nQ 6.984375 17.96875 6.984375 36.375 \r\nQ 6.984375 53.65625 15.1875 63.9375 \r\nQ 23.390625 74.21875 37.203125 74.21875 \r\nQ 40.921875 74.21875 44.703125 73.484375 \r\nQ 48.484375 72.75 52.59375 71.296875 \r\nz\r\n\" id=\"DejaVuSans-54\"/>\r\n        <path d=\"M 4.890625 31.390625 \r\nL 31.203125 31.390625 \r\nL 31.203125 23.390625 \r\nL 4.890625 23.390625 \r\nz\r\n\" id=\"DejaVuSans-45\"/>\r\n        <path d=\"M 31.78125 34.625 \r\nQ 24.75 34.625 20.71875 30.859375 \r\nQ 16.703125 27.09375 16.703125 20.515625 \r\nQ 16.703125 13.921875 20.71875 10.15625 \r\nQ 24.75 6.390625 31.78125 6.390625 \r\nQ 38.8125 6.390625 42.859375 10.171875 \r\nQ 46.921875 13.96875 46.921875 20.515625 \r\nQ 46.921875 27.09375 42.890625 30.859375 \r\nQ 38.875 34.625 31.78125 34.625 \r\nz\r\nM 21.921875 38.8125 \r\nQ 15.578125 40.375 12.03125 44.71875 \r\nQ 8.5 49.078125 8.5 55.328125 \r\nQ 8.5 64.0625 14.71875 69.140625 \r\nQ 20.953125 74.21875 31.78125 74.21875 \r\nQ 42.671875 74.21875 48.875 69.140625 \r\nQ 55.078125 64.0625 55.078125 55.328125 \r\nQ 55.078125 49.078125 51.53125 44.71875 \r\nQ 48 40.375 41.703125 38.8125 \r\nQ 48.828125 37.15625 52.796875 32.3125 \r\nQ 56.78125 27.484375 56.78125 20.515625 \r\nQ 56.78125 9.90625 50.3125 4.234375 \r\nQ 43.84375 -1.421875 31.78125 -1.421875 \r\nQ 19.734375 -1.421875 13.25 4.234375 \r\nQ 6.78125 9.90625 6.78125 20.515625 \r\nQ 6.78125 27.484375 10.78125 32.3125 \r\nQ 14.796875 37.15625 21.921875 38.8125 \r\nz\r\nM 18.3125 54.390625 \r\nQ 18.3125 48.734375 21.84375 45.5625 \r\nQ 25.390625 42.390625 31.78125 42.390625 \r\nQ 38.140625 42.390625 41.71875 45.5625 \r\nQ 45.3125 48.734375 45.3125 54.390625 \r\nQ 45.3125 60.0625 41.71875 63.234375 \r\nQ 38.140625 66.40625 31.78125 66.40625 \r\nQ 25.390625 66.40625 21.84375 63.234375 \r\nQ 18.3125 60.0625 18.3125 54.390625 \r\nz\r\n\" id=\"DejaVuSans-56\"/>\r\n        <path d=\"M 37.796875 64.3125 \r\nL 12.890625 25.390625 \r\nL 37.796875 25.390625 \r\nz\r\nM 35.203125 72.90625 \r\nL 47.609375 72.90625 \r\nL 47.609375 25.390625 \r\nL 58.015625 25.390625 \r\nL 58.015625 17.1875 \r\nL 47.609375 17.1875 \r\nL 47.609375 0 \r\nL 37.796875 0 \r\nL 37.796875 17.1875 \r\nL 4.890625 17.1875 \r\nL 4.890625 26.703125 \r\nz\r\n\" id=\"DejaVuSans-52\"/>\r\n       </defs>\r\n       <use xlink:href=\"#DejaVuSans-50\"/>\r\n       <use x=\"63.623047\" xlink:href=\"#DejaVuSans-48\"/>\r\n       <use x=\"127.246094\" xlink:href=\"#DejaVuSans-49\"/>\r\n       <use x=\"190.869141\" xlink:href=\"#DejaVuSans-54\"/>\r\n       <use x=\"254.492188\" xlink:href=\"#DejaVuSans-45\"/>\r\n       <use x=\"290.576172\" xlink:href=\"#DejaVuSans-48\"/>\r\n       <use x=\"354.199219\" xlink:href=\"#DejaVuSans-56\"/>\r\n       <use x=\"417.822266\" xlink:href=\"#DejaVuSans-45\"/>\r\n       <use x=\"453.90625\" xlink:href=\"#DejaVuSans-50\"/>\r\n       <use x=\"517.529297\" xlink:href=\"#DejaVuSans-52\"/>\r\n      </g>\r\n     </g>\r\n    </g>\r\n    <g id=\"xtick_2\">\r\n     <g id=\"line2d_3\">\r\n      <path clip-path=\"url(#p1e5dd0a549)\" d=\"M 200.571237 339.04175 \r\nL 200.571237 24.14175 \r\n\" style=\"fill:none;stroke:#cbcbcb;\"/>\r\n     </g>\r\n     <g id=\"line2d_4\"/>\r\n     <g id=\"text_2\">\r\n      <!-- 2017-01-11 -->\r\n      <g transform=\"translate(203.330612 400.657375)rotate(-90)scale(0.1 -0.1)\">\r\n       <defs>\r\n        <path d=\"M 8.203125 72.90625 \r\nL 55.078125 72.90625 \r\nL 55.078125 68.703125 \r\nL 28.609375 0 \r\nL 18.3125 0 \r\nL 43.21875 64.59375 \r\nL 8.203125 64.59375 \r\nz\r\n\" id=\"DejaVuSans-55\"/>\r\n       </defs>\r\n       <use xlink:href=\"#DejaVuSans-50\"/>\r\n       <use x=\"63.623047\" xlink:href=\"#DejaVuSans-48\"/>\r\n       <use x=\"127.246094\" xlink:href=\"#DejaVuSans-49\"/>\r\n       <use x=\"190.869141\" xlink:href=\"#DejaVuSans-55\"/>\r\n       <use x=\"254.492188\" xlink:href=\"#DejaVuSans-45\"/>\r\n       <use x=\"290.576172\" xlink:href=\"#DejaVuSans-48\"/>\r\n       <use x=\"354.199219\" xlink:href=\"#DejaVuSans-49\"/>\r\n       <use x=\"417.822266\" xlink:href=\"#DejaVuSans-45\"/>\r\n       <use x=\"453.90625\" xlink:href=\"#DejaVuSans-49\"/>\r\n       <use x=\"517.529297\" xlink:href=\"#DejaVuSans-49\"/>\r\n      </g>\r\n     </g>\r\n    </g>\r\n    <g id=\"xtick_3\">\r\n     <g id=\"line2d_5\">\r\n      <path clip-path=\"url(#p1e5dd0a549)\" d=\"M 337.942361 339.04175 \r\nL 337.942361 24.14175 \r\n\" style=\"fill:none;stroke:#cbcbcb;\"/>\r\n     </g>\r\n     <g id=\"line2d_6\"/>\r\n     <g id=\"text_3\">\r\n      <!-- 2017-08-17 -->\r\n      <g transform=\"translate(340.701736 400.657375)rotate(-90)scale(0.1 -0.1)\">\r\n       <use xlink:href=\"#DejaVuSans-50\"/>\r\n       <use x=\"63.623047\" xlink:href=\"#DejaVuSans-48\"/>\r\n       <use x=\"127.246094\" xlink:href=\"#DejaVuSans-49\"/>\r\n       <use x=\"190.869141\" xlink:href=\"#DejaVuSans-55\"/>\r\n       <use x=\"254.492188\" xlink:href=\"#DejaVuSans-45\"/>\r\n       <use x=\"290.576172\" xlink:href=\"#DejaVuSans-48\"/>\r\n       <use x=\"354.199219\" xlink:href=\"#DejaVuSans-56\"/>\r\n       <use x=\"417.822266\" xlink:href=\"#DejaVuSans-45\"/>\r\n       <use x=\"453.90625\" xlink:href=\"#DejaVuSans-49\"/>\r\n       <use x=\"517.529297\" xlink:href=\"#DejaVuSans-55\"/>\r\n      </g>\r\n     </g>\r\n    </g>\r\n    <g id=\"xtick_4\">\r\n     <g id=\"line2d_7\">\r\n      <path clip-path=\"url(#p1e5dd0a549)\" d=\"M 475.313484 339.04175 \r\nL 475.313484 24.14175 \r\n\" style=\"fill:none;stroke:#cbcbcb;\"/>\r\n     </g>\r\n     <g id=\"line2d_8\"/>\r\n     <g id=\"text_4\">\r\n      <!-- 2017-07-27 -->\r\n      <g transform=\"translate(478.072859 400.657375)rotate(-90)scale(0.1 -0.1)\">\r\n       <use xlink:href=\"#DejaVuSans-50\"/>\r\n       <use x=\"63.623047\" xlink:href=\"#DejaVuSans-48\"/>\r\n       <use x=\"127.246094\" xlink:href=\"#DejaVuSans-49\"/>\r\n       <use x=\"190.869141\" xlink:href=\"#DejaVuSans-55\"/>\r\n       <use x=\"254.492188\" xlink:href=\"#DejaVuSans-45\"/>\r\n       <use x=\"290.576172\" xlink:href=\"#DejaVuSans-48\"/>\r\n       <use x=\"354.199219\" xlink:href=\"#DejaVuSans-55\"/>\r\n       <use x=\"417.822266\" xlink:href=\"#DejaVuSans-45\"/>\r\n       <use x=\"453.90625\" xlink:href=\"#DejaVuSans-50\"/>\r\n       <use x=\"517.529297\" xlink:href=\"#DejaVuSans-55\"/>\r\n      </g>\r\n     </g>\r\n    </g>\r\n    <g id=\"xtick_5\">\r\n     <g id=\"line2d_9\">\r\n      <path clip-path=\"url(#p1e5dd0a549)\" d=\"M 612.684608 339.04175 \r\nL 612.684608 24.14175 \r\n\" style=\"fill:none;stroke:#cbcbcb;\"/>\r\n     </g>\r\n     <g id=\"line2d_10\"/>\r\n     <g id=\"text_5\">\r\n      <!-- 2016-12-31 -->\r\n      <g transform=\"translate(615.443983 400.657375)rotate(-90)scale(0.1 -0.1)\">\r\n       <defs>\r\n        <path d=\"M 40.578125 39.3125 \r\nQ 47.65625 37.796875 51.625 33 \r\nQ 55.609375 28.21875 55.609375 21.1875 \r\nQ 55.609375 10.40625 48.1875 4.484375 \r\nQ 40.765625 -1.421875 27.09375 -1.421875 \r\nQ 22.515625 -1.421875 17.65625 -0.515625 \r\nQ 12.796875 0.390625 7.625 2.203125 \r\nL 7.625 11.71875 \r\nQ 11.71875 9.328125 16.59375 8.109375 \r\nQ 21.484375 6.890625 26.8125 6.890625 \r\nQ 36.078125 6.890625 40.9375 10.546875 \r\nQ 45.796875 14.203125 45.796875 21.1875 \r\nQ 45.796875 27.640625 41.28125 31.265625 \r\nQ 36.765625 34.90625 28.71875 34.90625 \r\nL 20.21875 34.90625 \r\nL 20.21875 43.015625 \r\nL 29.109375 43.015625 \r\nQ 36.375 43.015625 40.234375 45.921875 \r\nQ 44.09375 48.828125 44.09375 54.296875 \r\nQ 44.09375 59.90625 40.109375 62.90625 \r\nQ 36.140625 65.921875 28.71875 65.921875 \r\nQ 24.65625 65.921875 20.015625 65.03125 \r\nQ 15.375 64.15625 9.8125 62.3125 \r\nL 9.8125 71.09375 \r\nQ 15.4375 72.65625 20.34375 73.4375 \r\nQ 25.25 74.21875 29.59375 74.21875 \r\nQ 40.828125 74.21875 47.359375 69.109375 \r\nQ 53.90625 64.015625 53.90625 55.328125 \r\nQ 53.90625 49.265625 50.4375 45.09375 \r\nQ 46.96875 40.921875 40.578125 39.3125 \r\nz\r\n\" id=\"DejaVuSans-51\"/>\r\n       </defs>\r\n       <use xlink:href=\"#DejaVuSans-50\"/>\r\n       <use x=\"63.623047\" xlink:href=\"#DejaVuSans-48\"/>\r\n       <use x=\"127.246094\" xlink:href=\"#DejaVuSans-49\"/>\r\n       <use x=\"190.869141\" xlink:href=\"#DejaVuSans-54\"/>\r\n       <use x=\"254.492188\" xlink:href=\"#DejaVuSans-45\"/>\r\n       <use x=\"290.576172\" xlink:href=\"#DejaVuSans-49\"/>\r\n       <use x=\"354.199219\" xlink:href=\"#DejaVuSans-50\"/>\r\n       <use x=\"417.822266\" xlink:href=\"#DejaVuSans-45\"/>\r\n       <use x=\"453.90625\" xlink:href=\"#DejaVuSans-51\"/>\r\n       <use x=\"517.529297\" xlink:href=\"#DejaVuSans-49\"/>\r\n      </g>\r\n     </g>\r\n    </g>\r\n    <g id=\"text_6\">\r\n     <!-- Inches -->\r\n     <g transform=\"translate(348.947187 413.7755)scale(0.12 -0.12)\">\r\n      <defs>\r\n       <path d=\"M 9.8125 72.90625 \r\nL 19.671875 72.90625 \r\nL 19.671875 0 \r\nL 9.8125 0 \r\nz\r\n\" id=\"DejaVuSans-73\"/>\r\n       <path d=\"M 54.890625 33.015625 \r\nL 54.890625 0 \r\nL 45.90625 0 \r\nL 45.90625 32.71875 \r\nQ 45.90625 40.484375 42.875 44.328125 \r\nQ 39.84375 48.1875 33.796875 48.1875 \r\nQ 26.515625 48.1875 22.3125 43.546875 \r\nQ 18.109375 38.921875 18.109375 30.90625 \r\nL 18.109375 0 \r\nL 9.078125 0 \r\nL 9.078125 54.6875 \r\nL 18.109375 54.6875 \r\nL 18.109375 46.1875 \r\nQ 21.34375 51.125 25.703125 53.5625 \r\nQ 30.078125 56 35.796875 56 \r\nQ 45.21875 56 50.046875 50.171875 \r\nQ 54.890625 44.34375 54.890625 33.015625 \r\nz\r\n\" id=\"DejaVuSans-110\"/>\r\n       <path d=\"M 48.78125 52.59375 \r\nL 48.78125 44.1875 \r\nQ 44.96875 46.296875 41.140625 47.34375 \r\nQ 37.3125 48.390625 33.40625 48.390625 \r\nQ 24.65625 48.390625 19.8125 42.84375 \r\nQ 14.984375 37.3125 14.984375 27.296875 \r\nQ 14.984375 17.28125 19.8125 11.734375 \r\nQ 24.65625 6.203125 33.40625 6.203125 \r\nQ 37.3125 6.203125 41.140625 7.25 \r\nQ 44.96875 8.296875 48.78125 10.40625 \r\nL 48.78125 2.09375 \r\nQ 45.015625 0.34375 40.984375 -0.53125 \r\nQ 36.96875 -1.421875 32.421875 -1.421875 \r\nQ 20.0625 -1.421875 12.78125 6.34375 \r\nQ 5.515625 14.109375 5.515625 27.296875 \r\nQ 5.515625 40.671875 12.859375 48.328125 \r\nQ 20.21875 56 33.015625 56 \r\nQ 37.15625 56 41.109375 55.140625 \r\nQ 45.0625 54.296875 48.78125 52.59375 \r\nz\r\n\" id=\"DejaVuSans-99\"/>\r\n       <path d=\"M 54.890625 33.015625 \r\nL 54.890625 0 \r\nL 45.90625 0 \r\nL 45.90625 32.71875 \r\nQ 45.90625 40.484375 42.875 44.328125 \r\nQ 39.84375 48.1875 33.796875 48.1875 \r\nQ 26.515625 48.1875 22.3125 43.546875 \r\nQ 18.109375 38.921875 18.109375 30.90625 \r\nL 18.109375 0 \r\nL 9.078125 0 \r\nL 9.078125 75.984375 \r\nL 18.109375 75.984375 \r\nL 18.109375 46.1875 \r\nQ 21.34375 51.125 25.703125 53.5625 \r\nQ 30.078125 56 35.796875 56 \r\nQ 45.21875 56 50.046875 50.171875 \r\nQ 54.890625 44.34375 54.890625 33.015625 \r\nz\r\n\" id=\"DejaVuSans-104\"/>\r\n       <path d=\"M 56.203125 29.59375 \r\nL 56.203125 25.203125 \r\nL 14.890625 25.203125 \r\nQ 15.484375 15.921875 20.484375 11.0625 \r\nQ 25.484375 6.203125 34.421875 6.203125 \r\nQ 39.59375 6.203125 44.453125 7.46875 \r\nQ 49.3125 8.734375 54.109375 11.28125 \r\nL 54.109375 2.78125 \r\nQ 49.265625 0.734375 44.1875 -0.34375 \r\nQ 39.109375 -1.421875 33.890625 -1.421875 \r\nQ 20.796875 -1.421875 13.15625 6.1875 \r\nQ 5.515625 13.8125 5.515625 26.8125 \r\nQ 5.515625 40.234375 12.765625 48.109375 \r\nQ 20.015625 56 32.328125 56 \r\nQ 43.359375 56 49.78125 48.890625 \r\nQ 56.203125 41.796875 56.203125 29.59375 \r\nz\r\nM 47.21875 32.234375 \r\nQ 47.125 39.59375 43.09375 43.984375 \r\nQ 39.0625 48.390625 32.421875 48.390625 \r\nQ 24.90625 48.390625 20.390625 44.140625 \r\nQ 15.875 39.890625 15.1875 32.171875 \r\nz\r\n\" id=\"DejaVuSans-101\"/>\r\n       <path d=\"M 44.28125 53.078125 \r\nL 44.28125 44.578125 \r\nQ 40.484375 46.53125 36.375 47.5 \r\nQ 32.28125 48.484375 27.875 48.484375 \r\nQ 21.1875 48.484375 17.84375 46.4375 \r\nQ 14.5 44.390625 14.5 40.28125 \r\nQ 14.5 37.15625 16.890625 35.375 \r\nQ 19.28125 33.59375 26.515625 31.984375 \r\nL 29.59375 31.296875 \r\nQ 39.15625 29.25 43.1875 25.515625 \r\nQ 47.21875 21.78125 47.21875 15.09375 \r\nQ 47.21875 7.46875 41.1875 3.015625 \r\nQ 35.15625 -1.421875 24.609375 -1.421875 \r\nQ 20.21875 -1.421875 15.453125 -0.5625 \r\nQ 10.6875 0.296875 5.421875 2 \r\nL 5.421875 11.28125 \r\nQ 10.40625 8.6875 15.234375 7.390625 \r\nQ 20.0625 6.109375 24.8125 6.109375 \r\nQ 31.15625 6.109375 34.5625 8.28125 \r\nQ 37.984375 10.453125 37.984375 14.40625 \r\nQ 37.984375 18.0625 35.515625 20.015625 \r\nQ 33.0625 21.96875 24.703125 23.78125 \r\nL 21.578125 24.515625 \r\nQ 13.234375 26.265625 9.515625 29.90625 \r\nQ 5.8125 33.546875 5.8125 39.890625 \r\nQ 5.8125 47.609375 11.28125 51.796875 \r\nQ 16.75 56 26.8125 56 \r\nQ 31.78125 56 36.171875 55.265625 \r\nQ 40.578125 54.546875 44.28125 53.078125 \r\nz\r\n\" id=\"DejaVuSans-115\"/>\r\n      </defs>\r\n      <use xlink:href=\"#DejaVuSans-73\"/>\r\n      <use x=\"29.492188\" xlink:href=\"#DejaVuSans-110\"/>\r\n      <use x=\"92.871094\" xlink:href=\"#DejaVuSans-99\"/>\r\n      <use x=\"147.851562\" xlink:href=\"#DejaVuSans-104\"/>\r\n      <use x=\"211.230469\" xlink:href=\"#DejaVuSans-101\"/>\r\n      <use x=\"272.753906\" xlink:href=\"#DejaVuSans-115\"/>\r\n     </g>\r\n    </g>\r\n   </g>\r\n   <g id=\"matplotlib.axis_2\">\r\n    <g id=\"ytick_1\">\r\n     <g id=\"line2d_11\">\r\n      <path clip-path=\"url(#p1e5dd0a549)\" d=\"M 32.67625 324.728114 \r\nL 704.20125 324.728114 \r\n\" style=\"fill:none;stroke:#cbcbcb;\"/>\r\n     </g>\r\n     <g id=\"line2d_12\"/>\r\n     <g id=\"text_7\">\r\n      <!-- 0 -->\r\n      <g transform=\"translate(22.81375 328.527332)scale(0.1 -0.1)\">\r\n       <use xlink:href=\"#DejaVuSans-48\"/>\r\n      </g>\r\n     </g>\r\n    </g>\r\n    <g id=\"ytick_2\">\r\n     <g id=\"line2d_13\">\r\n      <path clip-path=\"url(#p1e5dd0a549)\" d=\"M 32.67625 282.000841 \r\nL 704.20125 282.000841 \r\n\" style=\"fill:none;stroke:#cbcbcb;\"/>\r\n     </g>\r\n     <g id=\"line2d_14\"/>\r\n     <g id=\"text_8\">\r\n      <!-- 1 -->\r\n      <g transform=\"translate(22.81375 285.80006)scale(0.1 -0.1)\">\r\n       <use xlink:href=\"#DejaVuSans-49\"/>\r\n      </g>\r\n     </g>\r\n    </g>\r\n    <g id=\"ytick_3\">\r\n     <g id=\"line2d_15\">\r\n      <path clip-path=\"url(#p1e5dd0a549)\" d=\"M 32.67625 239.273568 \r\nL 704.20125 239.273568 \r\n\" style=\"fill:none;stroke:#cbcbcb;\"/>\r\n     </g>\r\n     <g id=\"line2d_16\"/>\r\n     <g id=\"text_9\">\r\n      <!-- 2 -->\r\n      <g transform=\"translate(22.81375 243.072787)scale(0.1 -0.1)\">\r\n       <use xlink:href=\"#DejaVuSans-50\"/>\r\n      </g>\r\n     </g>\r\n    </g>\r\n    <g id=\"ytick_4\">\r\n     <g id=\"line2d_17\">\r\n      <path clip-path=\"url(#p1e5dd0a549)\" d=\"M 32.67625 196.546295 \r\nL 704.20125 196.546295 \r\n\" style=\"fill:none;stroke:#cbcbcb;\"/>\r\n     </g>\r\n     <g id=\"line2d_18\"/>\r\n     <g id=\"text_10\">\r\n      <!-- 3 -->\r\n      <g transform=\"translate(22.81375 200.345514)scale(0.1 -0.1)\">\r\n       <use xlink:href=\"#DejaVuSans-51\"/>\r\n      </g>\r\n     </g>\r\n    </g>\r\n    <g id=\"ytick_5\">\r\n     <g id=\"line2d_19\">\r\n      <path clip-path=\"url(#p1e5dd0a549)\" d=\"M 32.67625 153.819023 \r\nL 704.20125 153.819023 \r\n\" style=\"fill:none;stroke:#cbcbcb;\"/>\r\n     </g>\r\n     <g id=\"line2d_20\"/>\r\n     <g id=\"text_11\">\r\n      <!-- 4 -->\r\n      <g transform=\"translate(22.81375 157.618241)scale(0.1 -0.1)\">\r\n       <use xlink:href=\"#DejaVuSans-52\"/>\r\n      </g>\r\n     </g>\r\n    </g>\r\n    <g id=\"ytick_6\">\r\n     <g id=\"line2d_21\">\r\n      <path clip-path=\"url(#p1e5dd0a549)\" d=\"M 32.67625 111.09175 \r\nL 704.20125 111.09175 \r\n\" style=\"fill:none;stroke:#cbcbcb;\"/>\r\n     </g>\r\n     <g id=\"line2d_22\"/>\r\n     <g id=\"text_12\">\r\n      <!-- 5 -->\r\n      <g transform=\"translate(22.81375 114.890969)scale(0.1 -0.1)\">\r\n       <defs>\r\n        <path d=\"M 10.796875 72.90625 \r\nL 49.515625 72.90625 \r\nL 49.515625 64.59375 \r\nL 19.828125 64.59375 \r\nL 19.828125 46.734375 \r\nQ 21.96875 47.46875 24.109375 47.828125 \r\nQ 26.265625 48.1875 28.421875 48.1875 \r\nQ 40.625 48.1875 47.75 41.5 \r\nQ 54.890625 34.8125 54.890625 23.390625 \r\nQ 54.890625 11.625 47.5625 5.09375 \r\nQ 40.234375 -1.421875 26.90625 -1.421875 \r\nQ 22.3125 -1.421875 17.546875 -0.640625 \r\nQ 12.796875 0.140625 7.71875 1.703125 \r\nL 7.71875 11.625 \r\nQ 12.109375 9.234375 16.796875 8.0625 \r\nQ 21.484375 6.890625 26.703125 6.890625 \r\nQ 35.15625 6.890625 40.078125 11.328125 \r\nQ 45.015625 15.765625 45.015625 23.390625 \r\nQ 45.015625 31 40.078125 35.4375 \r\nQ 35.15625 39.890625 26.703125 39.890625 \r\nQ 22.75 39.890625 18.8125 39.015625 \r\nQ 14.890625 38.140625 10.796875 36.28125 \r\nz\r\n\" id=\"DejaVuSans-53\"/>\r\n       </defs>\r\n       <use xlink:href=\"#DejaVuSans-53\"/>\r\n      </g>\r\n     </g>\r\n    </g>\r\n    <g id=\"ytick_7\">\r\n     <g id=\"line2d_23\">\r\n      <path clip-path=\"url(#p1e5dd0a549)\" d=\"M 32.67625 68.364477 \r\nL 704.20125 68.364477 \r\n\" style=\"fill:none;stroke:#cbcbcb;\"/>\r\n     </g>\r\n     <g id=\"line2d_24\"/>\r\n     <g id=\"text_13\">\r\n      <!-- 6 -->\r\n      <g transform=\"translate(22.81375 72.163696)scale(0.1 -0.1)\">\r\n       <use xlink:href=\"#DejaVuSans-54\"/>\r\n      </g>\r\n     </g>\r\n    </g>\r\n    <g id=\"ytick_8\">\r\n     <g id=\"line2d_25\">\r\n      <path clip-path=\"url(#p1e5dd0a549)\" d=\"M 32.67625 25.637205 \r\nL 704.20125 25.637205 \r\n\" style=\"fill:none;stroke:#cbcbcb;\"/>\r\n     </g>\r\n     <g id=\"line2d_26\"/>\r\n     <g id=\"text_14\">\r\n      <!-- 7 -->\r\n      <g transform=\"translate(22.81375 29.436423)scale(0.1 -0.1)\">\r\n       <use xlink:href=\"#DejaVuSans-55\"/>\r\n      </g>\r\n     </g>\r\n    </g>\r\n    <g id=\"text_15\">\r\n     <!-- Temp -->\r\n     <g transform=\"translate(16.318125 197.58175)rotate(-90)scale(0.12 -0.12)\">\r\n      <defs>\r\n       <path d=\"M -0.296875 72.90625 \r\nL 61.375 72.90625 \r\nL 61.375 64.59375 \r\nL 35.5 64.59375 \r\nL 35.5 0 \r\nL 25.59375 0 \r\nL 25.59375 64.59375 \r\nL -0.296875 64.59375 \r\nz\r\n\" id=\"DejaVuSans-84\"/>\r\n       <path d=\"M 52 44.1875 \r\nQ 55.375 50.25 60.0625 53.125 \r\nQ 64.75 56 71.09375 56 \r\nQ 79.640625 56 84.28125 50.015625 \r\nQ 88.921875 44.046875 88.921875 33.015625 \r\nL 88.921875 0 \r\nL 79.890625 0 \r\nL 79.890625 32.71875 \r\nQ 79.890625 40.578125 77.09375 44.375 \r\nQ 74.3125 48.1875 68.609375 48.1875 \r\nQ 61.625 48.1875 57.5625 43.546875 \r\nQ 53.515625 38.921875 53.515625 30.90625 \r\nL 53.515625 0 \r\nL 44.484375 0 \r\nL 44.484375 32.71875 \r\nQ 44.484375 40.625 41.703125 44.40625 \r\nQ 38.921875 48.1875 33.109375 48.1875 \r\nQ 26.21875 48.1875 22.15625 43.53125 \r\nQ 18.109375 38.875 18.109375 30.90625 \r\nL 18.109375 0 \r\nL 9.078125 0 \r\nL 9.078125 54.6875 \r\nL 18.109375 54.6875 \r\nL 18.109375 46.1875 \r\nQ 21.1875 51.21875 25.484375 53.609375 \r\nQ 29.78125 56 35.6875 56 \r\nQ 41.65625 56 45.828125 52.96875 \r\nQ 50 49.953125 52 44.1875 \r\nz\r\n\" id=\"DejaVuSans-109\"/>\r\n       <path d=\"M 18.109375 8.203125 \r\nL 18.109375 -20.796875 \r\nL 9.078125 -20.796875 \r\nL 9.078125 54.6875 \r\nL 18.109375 54.6875 \r\nL 18.109375 46.390625 \r\nQ 20.953125 51.265625 25.265625 53.625 \r\nQ 29.59375 56 35.59375 56 \r\nQ 45.5625 56 51.78125 48.09375 \r\nQ 58.015625 40.1875 58.015625 27.296875 \r\nQ 58.015625 14.40625 51.78125 6.484375 \r\nQ 45.5625 -1.421875 35.59375 -1.421875 \r\nQ 29.59375 -1.421875 25.265625 0.953125 \r\nQ 20.953125 3.328125 18.109375 8.203125 \r\nz\r\nM 48.6875 27.296875 \r\nQ 48.6875 37.203125 44.609375 42.84375 \r\nQ 40.53125 48.484375 33.40625 48.484375 \r\nQ 26.265625 48.484375 22.1875 42.84375 \r\nQ 18.109375 37.203125 18.109375 27.296875 \r\nQ 18.109375 17.390625 22.1875 11.75 \r\nQ 26.265625 6.109375 33.40625 6.109375 \r\nQ 40.53125 6.109375 44.609375 11.75 \r\nQ 48.6875 17.390625 48.6875 27.296875 \r\nz\r\n\" id=\"DejaVuSans-112\"/>\r\n      </defs>\r\n      <use xlink:href=\"#DejaVuSans-84\"/>\r\n      <use x=\"44.083984\" xlink:href=\"#DejaVuSans-101\"/>\r\n      <use x=\"105.607422\" xlink:href=\"#DejaVuSans-109\"/>\r\n      <use x=\"203.019531\" xlink:href=\"#DejaVuSans-112\"/>\r\n     </g>\r\n    </g>\r\n   </g>\r\n   <g id=\"line2d_27\">\r\n    <path clip-path=\"url(#p1e5dd0a549)\" d=\"M 63.200114 321.309932 \r\nL 63.474856 321.309932 \r\nL 63.749598 324.728114 \r\nL 64.02434 324.728114 \r\nL 64.299083 324.300841 \r\nL 64.573825 324.728114 \r\nL 64.848567 324.728114 \r\nL 65.123309 319.173568 \r\nL 65.398052 324.728114 \r\nL 65.947536 324.728114 \r\nL 66.222278 323.446295 \r\nM 67.046505 322.59175 \r\nL 67.321247 324.728114 \r\nL 67.59599 323.446295 \r\nL 67.870732 324.728114 \r\nL 68.145474 322.59175 \r\nL 68.420216 324.728114 \r\nL 68.694959 323.873568 \r\nL 68.969701 268.328114 \r\nL 69.244443 306.782659 \r\nL 69.519185 322.164477 \r\nL 69.793928 322.59175 \r\nL 70.06867 324.728114 \r\nL 70.892897 324.728114 \r\nL 71.167639 323.873568 \r\nL 71.442381 324.728114 \r\nL 71.991866 324.728114 \r\nL 72.266608 322.164477 \r\nL 72.54135 323.873568 \r\nL 72.816092 324.728114 \r\nL 77.761453 324.728114 \r\nL 78.036195 324.300841 \r\nL 78.310937 324.728114 \r\nL 78.860422 324.728114 \r\nL 79.135164 322.59175 \r\nL 79.409906 318.319023 \r\nL 79.684648 324.300841 \r\nL 79.959391 324.728114 \r\nL 80.234133 323.446295 \r\nL 80.508875 324.728114 \r\nL 81.333102 324.728114 \r\nL 81.607844 314.473568 \r\nL 81.882586 323.446295 \r\nL 82.157329 324.728114 \r\nL 83.805782 324.728114 \r\nL 84.080524 321.737205 \r\nL 84.355267 324.728114 \r\nL 86.827947 324.728114 \r\nL 87.377431 322.59175 \r\nL 87.652174 324.300841 \r\nL 87.926916 319.173568 \r\nL 88.201658 318.746295 \r\nL 88.4764 322.59175 \r\nL 89.025885 322.59175 \r\nL 89.300627 324.728114 \r\nL 89.575369 324.300841 \r\nL 89.850112 324.728114 \r\nL 90.124854 318.746295 \r\nL 90.399596 319.600841 \r\nL 90.674338 323.446295 \r\nL 90.949081 324.728114 \r\nL 91.223823 323.446295 \r\nL 91.498565 306.355386 \r\nL 91.773307 323.873568 \r\nL 92.04805 324.728114 \r\nL 92.322792 323.446295 \r\nL 92.597534 302.509932 \r\nL 92.872276 322.59175 \r\nL 93.147019 323.019023 \r\nL 93.421761 324.300841 \r\nL 93.696503 322.59175 \r\nL 93.971245 323.446295 \r\nL 94.245988 324.728114 \r\nL 94.52073 324.728114 \r\nL 94.795472 324.300841 \r\nL 95.070214 319.173568 \r\nL 95.344957 324.300841 \r\nL 95.619699 324.728114 \r\nL 95.894441 324.728114 \r\nL 96.169183 324.300841 \r\nL 96.718668 324.300841 \r\nL 96.99341 324.728114 \r\nL 97.268152 323.873568 \r\nL 97.542895 324.728114 \r\nL 98.092379 323.019023 \r\nL 98.367121 319.600841 \r\nL 98.641863 324.300841 \r\nL 98.916606 324.728114 \r\nL 104.411451 324.728114 \r\nL 104.686193 317.89175 \r\nL 104.960935 324.728114 \r\nL 105.235677 323.019023 \r\nL 105.51042 323.446295 \r\nL 105.785162 324.728114 \r\nL 106.334646 324.728114 \r\nL 106.609389 317.037205 \r\nL 106.884131 324.728114 \r\nL 108.807327 324.728114 \r\nL 109.082069 302.937205 \r\nL 109.356811 324.728114 \r\nL 109.906296 324.728114 \r\nL 110.181038 311.482659 \r\nL 110.45578 212.782659 \r\nL 110.730522 324.300841 \r\nL 111.005265 324.728114 \r\nL 111.280007 324.728114 \r\nL 111.554749 321.737205 \r\nL 111.829491 324.728114 \r\nL 112.653718 324.728114 \r\nL 112.92846 322.164477 \r\nL 113.203203 322.164477 \r\nL 113.477945 324.300841 \r\nL 113.752687 324.728114 \r\nL 114.027429 323.446295 \r\nL 114.302172 324.728114 \r\nL 114.851656 324.728114 \r\nL 115.126398 273.882659 \r\nL 115.401141 293.537205 \r\nL 115.675883 304.646295 \r\nL 115.950625 324.728114 \r\nL 116.225367 309.773568 \r\nL 116.50011 324.728114 \r\nL 121.170728 324.728114 \r\nL 121.44547 323.873568 \r\nL 121.720212 324.728114 \r\nL 126.940315 324.728114 \r\nL 127.215057 313.619023 \r\nL 127.489799 324.300841 \r\nL 127.764542 324.728114 \r\nL 128.039284 323.873568 \r\nL 128.314026 324.728114 \r\nL 128.588768 323.873568 \r\nL 128.863511 322.59175 \r\nL 129.138253 314.900841 \r\nL 129.412995 311.055386 \r\nL 129.687737 323.446295 \r\nL 129.96248 324.728114 \r\nL 131.061449 324.728114 \r\nL 131.336191 319.600841 \r\nL 131.610933 286.700841 \r\nL 131.885675 313.619023 \r\nL 132.160418 324.728114 \r\nL 134.083613 324.728114 \r\nL 134.358356 324.300841 \r\nL 134.633098 324.728114 \r\nL 135.182582 324.728114 \r\nL 135.457325 322.59175 \r\nL 135.732067 324.300841 \r\nL 136.006809 324.728114 \r\nL 136.281551 324.300841 \r\nL 136.556294 324.728114 \r\nL 137.38052 324.728114 \r\nL 137.930005 319.173568 \r\nL 138.204747 318.319023 \r\nL 138.479489 324.300841 \r\nL 138.754232 323.873568 \r\nL 139.028974 324.728114 \r\nL 139.303716 313.619023 \r\nL 139.578458 323.873568 \r\nL 139.853201 324.728114 \r\nL 140.127943 324.728114 \r\nL 140.402685 323.873568 \r\nL 140.677427 324.728114 \r\nL 142.051139 324.728114 \r\nL 142.600623 321.309932 \r\nL 142.875365 323.873568 \r\nL 143.150107 324.728114 \r\nL 144.249076 324.728114 \r\nL 144.523819 322.59175 \r\nL 144.798561 324.728114 \r\nL 145.073303 323.873568 \r\nL 145.348045 324.728114 \r\nL 145.89753 324.728114 \r\nL 146.172272 322.164477 \r\nL 146.447014 324.728114 \r\nL 147.545983 324.728114 \r\nL 147.820726 321.309932 \r\nL 148.095468 323.873568 \r\nL 148.37021 323.873568 \r\nL 148.644952 323.019023 \r\nL 148.919695 323.019023 \r\nL 149.194437 324.728114 \r\nL 151.117633 324.728114 \r\nL 151.392375 321.737205 \r\nL 151.667117 323.873568 \r\nL 151.941859 324.728114 \r\nL 152.216602 323.873568 \r\nL 152.491344 323.446295 \r\nL 152.766086 322.59175 \r\nL 153.040828 323.446295 \r\nL 153.315571 324.728114 \r\nL 153.590313 323.446295 \r\nL 153.865055 324.728114 \r\nL 154.139797 322.59175 \r\nL 154.41454 324.728114 \r\nL 156.062993 324.728114 \r\nL 156.337735 323.873568 \r\nL 156.612478 324.728114 \r\nL 156.88722 324.728114 \r\nL 157.161962 323.873568 \r\nL 157.436704 324.728114 \r\nL 159.909385 324.728114 \r\nL 160.184127 323.873568 \r\nL 160.458869 324.728114 \r\nL 161.83258 324.728114 \r\nL 162.107323 232.864477 \r\nL 162.382065 321.309932 \r\nL 162.656807 323.446295 \r\nL 162.931549 317.037205 \r\nL 163.206292 318.746295 \r\nL 163.481034 317.464477 \r\nL 163.755776 324.728114 \r\nL 164.030518 320.455386 \r\nL 164.305261 324.728114 \r\nL 164.580003 323.873568 \r\nL 164.854745 321.737205 \r\nL 165.129487 323.446295 \r\nL 165.40423 320.028114 \r\nL 165.678972 322.59175 \r\nL 165.953714 320.455386 \r\nL 166.228456 315.328114 \r\nL 166.503198 324.300841 \r\nL 166.777941 324.300841 \r\nL 167.052683 317.037205 \r\nL 167.327425 323.019023 \r\nL 167.602167 308.919023 \r\nL 167.87691 286.273568 \r\nL 168.151652 319.600841 \r\nL 168.426394 324.300841 \r\nL 168.701136 323.019023 \r\nL 168.975879 324.728114 \r\nL 169.250621 324.300841 \r\nL 169.525363 320.882659 \r\nL 169.800105 322.164477 \r\nL 170.074848 320.882659 \r\nL 170.34959 318.319023 \r\nL 170.624332 324.728114 \r\nL 170.899074 323.873568 \r\nL 171.173817 322.164477 \r\nL 171.448559 319.600841 \r\nL 171.723301 321.309932 \r\nL 171.998043 303.79175 \r\nL 172.82227 323.873568 \r\nL 173.097012 323.019023 \r\nL 173.371755 324.728114 \r\nL 173.646497 324.728114 \r\nL 173.921239 322.59175 \r\nL 174.195981 324.728114 \r\nL 175.020208 324.728114 \r\nL 175.29495 323.873568 \r\nL 175.569693 323.446295 \r\nL 175.844435 324.728114 \r\nL 176.668662 324.728114 \r\nL 177.218146 322.59175 \r\nL 177.492888 322.164477 \r\nL 177.767631 324.728114 \r\nL 178.042373 318.319023 \r\nL 178.317115 320.455386 \r\nL 178.591857 324.300841 \r\nL 178.8666 324.728114 \r\nL 179.141342 323.019023 \r\nL 179.416084 322.164477 \r\nL 179.690826 320.028114 \r\nL 179.965569 323.873568 \r\nL 180.240311 323.873568 \r\nL 180.515053 320.455386 \r\nL 180.789795 323.446295 \r\nL 181.064538 324.300841 \r\nL 181.33928 324.728114 \r\nL 181.888764 324.728114 \r\nL 182.163507 323.873568 \r\nL 182.438249 323.873568 \r\nL 182.712991 324.728114 \r\nL 182.987733 318.746295 \r\nL 183.537218 324.728114 \r\nL 184.361445 324.728114 \r\nL 184.636187 322.164477 \r\nL 184.910929 324.728114 \r\nL 185.185671 318.746295 \r\nL 185.460414 323.446295 \r\nL 185.735156 324.300841 \r\nL 186.009898 320.028114 \r\nL 186.28464 320.028114 \r\nL 186.559383 323.873568 \r\nL 186.834125 307.209932 \r\nL 187.108867 323.446295 \r\nL 187.383609 316.182659 \r\nL 187.658352 322.59175 \r\nL 187.933094 322.59175 \r\nL 188.207836 322.164477 \r\nL 188.482578 323.873568 \r\nL 188.75732 323.019023 \r\nL 189.032063 322.59175 \r\nL 189.306805 310.628114 \r\nL 189.581547 311.909932 \r\nL 189.856289 323.019023 \r\nL 190.131032 320.455386 \r\nL 190.405774 310.200841 \r\nL 190.680516 323.873568 \r\nL 190.955258 317.464477 \r\nL 191.230001 323.446295 \r\nL 191.504743 310.200841 \r\nL 191.779485 323.873568 \r\nL 192.054227 323.873568 \r\nL 192.32897 324.300841 \r\nL 192.603712 320.455386 \r\nL 193.153196 323.873568 \r\nL 193.427939 324.300841 \r\nL 193.702681 320.028114 \r\nL 193.977423 312.337205 \r\nL 194.252165 315.755386 \r\nL 194.526908 323.873568 \r\nL 194.80165 323.446295 \r\nL 195.076392 317.464477 \r\nL 195.351134 320.455386 \r\nL 195.625877 318.746295 \r\nL 195.900619 323.446295 \r\nL 196.175361 313.619023 \r\nL 196.450103 323.446295 \r\nL 196.724846 320.882659 \r\nL 196.999588 317.037205 \r\nL 197.27433 315.755386 \r\nL 197.549072 298.237205 \r\nL 198.098557 324.728114 \r\nL 199.197526 324.728114 \r\nL 199.472268 322.164477 \r\nL 199.74701 324.728114 \r\nL 203.043917 324.728114 \r\nL 203.31866 323.019023 \r\nL 203.593402 324.300841 \r\nL 204.142886 318.319023 \r\nL 204.417629 319.600841 \r\nL 204.692371 324.728114 \r\nL 204.967113 324.728114 \r\nL 205.241855 318.746295 \r\nL 205.516598 324.728114 \r\nL 207.439793 324.728114 \r\nL 207.714536 317.89175 \r\nL 207.989278 278.582659 \r\nL 208.26402 278.582659 \r\nL 208.538762 323.873568 \r\nL 208.813505 324.728114 \r\nL 209.088247 282.000841 \r\nL 209.362989 279.009932 \r\nL 209.637731 200.819023 \r\nL 209.912474 324.728114 \r\nL 210.461958 324.728114 \r\nL 210.7367 290.546295 \r\nL 211.011442 324.728114 \r\nL 211.835669 324.728114 \r\nL 212.110411 322.164477 \r\nL 212.385154 324.728114 \r\nL 213.484123 324.728114 \r\nL 213.758865 317.89175 \r\nL 214.033607 230.728114 \r\nL 214.857834 324.728114 \r\nL 215.132576 320.455386 \r\nL 215.407318 302.937205 \r\nL 215.682061 324.728114 \r\nL 215.956803 324.728114 \r\nL 216.231545 290.546295 \r\nL 216.506287 319.173568 \r\nL 216.78103 323.446295 \r\nL 217.055772 324.728114 \r\nL 218.154741 324.728114 \r\nL 218.429483 316.609932 \r\nL 218.704225 324.728114 \r\nL 220.077937 324.728114 \r\nL 220.352679 299.09175 \r\nL 220.627421 319.173568 \r\nL 220.902163 324.728114 \r\nL 221.176906 324.728114 \r\nL 221.451648 323.446295 \r\nL 221.72639 324.728114 \r\nL 222.001132 321.309932 \r\nL 222.275875 324.728114 \r\nL 222.825359 324.728114 \r\nL 223.100101 321.309932 \r\nL 223.374844 323.019023 \r\nL 223.649586 323.019023 \r\nL 223.924328 324.728114 \r\nL 224.748555 324.728114 \r\nL 225.023297 324.300841 \r\nL 225.298039 323.446295 \r\nL 225.572782 323.446295 \r\nL 225.847524 313.19175 \r\nL 226.122266 295.246295 \r\nL 226.397008 305.500841 \r\nL 226.671751 303.79175 \r\nL 226.946493 307.209932 \r\nL 227.221235 321.309932 \r\nL 227.495977 323.873568 \r\nL 227.77072 310.628114 \r\nL 228.045462 275.164477 \r\nL 228.320204 281.573568 \r\nL 228.594946 323.873568 \r\nL 228.869689 324.728114 \r\nL 229.419173 324.728114 \r\nL 229.693915 320.455386 \r\nL 229.968658 213.637205 \r\nL 230.2434 309.773568 \r\nL 230.518142 273.028114 \r\nL 230.792884 321.737205 \r\nL 231.067627 323.446295 \r\nL 231.342369 324.300841 \r\nL 231.617111 324.728114 \r\nL 232.166596 324.728114 \r\nL 232.441338 321.737205 \r\nL 232.71608 315.328114 \r\nL 232.990822 255.509932 \r\nL 233.265564 322.59175 \r\nL 233.540307 323.446295 \r\nL 233.815049 323.019023 \r\nL 234.089791 323.873568 \r\nL 234.639276 321.309932 \r\nL 234.914018 323.446295 \r\nL 235.18876 323.873568 \r\nL 235.463502 320.882659 \r\nL 235.738245 323.873568 \r\nL 236.012987 324.728114 \r\nL 236.562471 324.728114 \r\nL 236.837214 323.873568 \r\nL 237.111956 299.946295 \r\nL 237.386698 308.919023 \r\nL 237.66144 323.873568 \r\nL 237.936183 324.728114 \r\nL 238.210925 312.337205 \r\nL 238.485667 323.873568 \r\nL 238.760409 316.182659 \r\nL 239.309894 323.446295 \r\nL 239.584636 320.455386 \r\nL 239.859378 316.182659 \r\nL 240.134121 318.319023 \r\nL 240.408863 324.728114 \r\nL 240.958347 324.728114 \r\nL 241.23309 323.873568 \r\nL 241.507832 323.873568 \r\nL 241.782574 315.755386 \r\nL 242.057316 314.473568 \r\nL 242.332059 316.609932 \r\nL 242.606801 309.346295 \r\nL 243.156285 317.464477 \r\nL 243.431028 323.873568 \r\nL 243.70577 309.773568 \r\nL 243.980512 314.046295 \r\nL 244.255254 322.59175 \r\nL 244.529997 322.59175 \r\nL 244.804739 323.873568 \r\nL 245.079481 320.455386 \r\nL 245.354223 324.728114 \r\nL 245.628966 324.728114 \r\nL 245.903708 321.309932 \r\nL 246.17845 323.873568 \r\nL 246.453192 324.728114 \r\nL 246.727935 324.300841 \r\nL 247.002677 323.446295 \r\nL 247.277419 323.019023 \r\nL 247.552161 322.164477 \r\nL 247.826904 322.59175 \r\nL 248.101646 319.173568 \r\nL 248.376388 323.446295 \r\nL 248.65113 324.728114 \r\nL 248.925873 324.728114 \r\nL 249.200615 323.873568 \r\nL 249.475357 323.873568 \r\nL 249.750099 320.882659 \r\nL 250.024842 324.728114 \r\nL 250.299584 324.300841 \r\nL 250.574326 324.300841 \r\nL 250.849068 310.628114 \r\nL 251.123811 322.59175 \r\nL 251.398553 323.446295 \r\nL 251.948037 319.600841 \r\nL 252.22278 323.446295 \r\nL 252.497522 324.728114 \r\nL 252.772264 319.600841 \r\nL 253.047006 324.728114 \r\nL 253.321749 321.737205 \r\nL 253.596491 322.164477 \r\nL 253.871233 299.946295 \r\nL 254.145975 323.446295 \r\nL 254.420718 322.164477 \r\nL 254.69546 324.728114 \r\nL 254.970202 319.173568 \r\nL 255.519687 324.728114 \r\nL 255.794429 324.728114 \r\nL 256.069171 227.309932 \r\nL 256.343913 324.728114 \r\nL 256.618655 323.873568 \r\nL 256.893398 323.873568 \r\nL 257.16814 318.746295 \r\nL 257.442882 323.019023 \r\nM 257.992367 324.728114 \r\nL 258.267109 316.609932 \r\nM 258.816593 323.019023 \r\nL 259.091336 314.900841 \r\nL 259.366078 324.300841 \r\nL 259.64082 312.337205 \r\nM 260.190305 311.055386 \r\nL 260.465047 246.109932 \r\nL 260.739789 321.737205 \r\nL 261.014531 321.737205 \r\nM 261.564016 314.046295 \r\nL 261.838758 323.873568 \r\nL 262.1135 317.464477 \r\nL 262.388243 318.319023 \r\nL 262.662985 324.728114 \r\nL 262.937727 324.728114 \r\nL 263.212469 323.873568 \r\nL 263.487212 324.728114 \r\nL 263.761954 324.728114 \r\nL 264.036696 316.182659 \r\nL 264.311438 322.164477 \r\nL 264.586181 321.309932 \r\nL 264.860923 323.446295 \r\nL 265.135665 323.446295 \r\nL 265.410407 324.728114 \r\nL 266.234634 324.728114 \r\nM 266.784119 323.019023 \r\nL 267.058861 324.728114 \r\nL 267.333603 323.873568 \r\nL 267.608345 324.728114 \r\nL 267.883088 323.873568 \r\nM 268.432572 323.446295 \r\nL 268.707314 324.728114 \r\nL 268.982057 324.300841 \r\nL 269.256799 323.446295 \r\nM 269.806283 324.300841 \r\nL 270.081026 324.728114 \r\nL 270.355768 316.182659 \r\nL 270.63051 321.737205 \r\nL 270.905252 313.619023 \r\nL 271.454737 324.728114 \r\nL 273.10319 324.728114 \r\nL 273.377933 319.173568 \r\nL 273.652675 323.873568 \r\nL 273.927417 317.464477 \r\nL 274.202159 324.728114 \r\nL 275.026386 324.728114 \r\nL 275.301128 322.59175 \r\nL 275.575871 324.728114 \r\nL 275.850613 317.037205 \r\nL 276.125355 324.728114 \r\nM 276.949582 323.873568 \r\nL 277.224324 323.446295 \r\nL 277.499066 324.728114 \r\nL 277.773809 323.019023 \r\nL 278.048551 323.446295 \r\nL 278.323293 321.737205 \r\nL 278.598035 307.637205 \r\nL 278.872777 313.619023 \r\nL 279.14752 324.728114 \r\nL 279.422262 316.182659 \r\nM 279.971746 323.873568 \r\nL 280.246489 313.619023 \r\nL 280.521231 324.728114 \r\nM 281.070715 310.200841 \r\nL 281.345458 319.600841 \r\nL 281.894942 324.728114 \r\nL 282.169684 324.728114 \r\nL 282.444427 323.019023 \r\nL 282.719169 324.728114 \r\nL 282.993911 324.728114 \r\nL 283.268653 320.882659 \r\nL 283.543396 322.59175 \r\nL 283.818138 323.446295 \r\nL 284.09288 319.173568 \r\nM 284.642365 323.873568 \r\nL 284.917107 324.300841 \r\nL 285.191849 300.800841 \r\nL 285.466591 312.337205 \r\nL 285.741334 309.346295 \r\nL 286.016076 324.728114 \r\nL 286.290818 324.300841 \r\nL 286.56556 324.728114 \r\nL 287.115045 324.728114 \r\nL 287.389787 299.519023 \r\nL 287.664529 324.728114 \r\nL 287.939272 323.446295 \r\nL 288.214014 324.728114 \r\nL 288.763498 324.728114 \r\nM 289.862467 324.728114 \r\nL 290.686694 324.728114 \r\nL 290.961436 323.873568 \r\nM 291.785663 324.300841 \r\nL 292.060405 324.728114 \r\nL 292.335148 324.728114 \r\nM 292.884632 324.728114 \r\nL 293.708859 324.728114 \r\nM 294.258343 323.019023 \r\nL 294.533086 286.273568 \r\nL 294.807828 324.728114 \r\nL 295.357312 324.728114 \r\nL 295.632055 222.609932 \r\nL 295.906797 243.119023 \r\nL 296.181539 324.728114 \r\nL 296.731024 324.728114 \r\nL 297.005766 298.237205 \r\nL 297.280508 322.164477 \r\nM 297.829993 324.728114 \r\nL 298.104735 320.028114 \r\nL 298.379477 324.728114 \r\nL 298.654219 324.728114 \r\nM 299.203704 324.728114 \r\nL 299.478446 323.019023 \r\nL 299.753188 276.873568 \r\nM 300.577415 324.728114 \r\nL 300.852157 324.728114 \r\nL 301.126899 303.364477 \r\nL 301.401642 319.173568 \r\nM 301.951126 324.728114 \r\nL 302.225868 324.728114 \r\nM 302.775353 322.164477 \r\nL 303.050095 324.728114 \r\nM 303.59958 324.728114 \r\nL 304.149064 324.728114 \r\nL 304.423806 318.319023 \r\nM 304.973291 324.728114 \r\nL 305.248033 323.446295 \r\nL 305.522775 323.446295 \r\nL 305.797518 324.728114 \r\nL 306.347002 324.728114 \r\nL 306.621744 320.882659 \r\nL 306.896487 324.728114 \r\nL 307.171229 321.737205 \r\nL 307.445971 324.728114 \r\nL 307.720713 324.728114 \r\nM 308.270198 324.728114 \r\nL 308.819682 312.337205 \r\nL 309.094425 324.728114 \r\nL 309.369167 312.337205 \r\nM 309.918651 319.600841 \r\nL 310.193394 324.728114 \r\nL 310.468136 324.728114 \r\nL 310.742878 279.864477 \r\nL 311.01762 294.819023 \r\nM 311.567105 324.728114 \r\nL 311.841847 318.746295 \r\nL 312.116589 323.873568 \r\nL 312.391332 320.882659 \r\nL 312.666074 284.137205 \r\nL 312.940816 274.737205 \r\nL 313.215558 323.446295 \r\nL 313.490301 324.300841 \r\nL 313.765043 324.300841 \r\nL 314.039785 321.309932 \r\nL 314.314527 312.764477 \r\nL 314.58927 322.164477 \r\nL 314.864012 284.137205 \r\nL 315.413496 324.728114 \r\nM 316.237723 322.59175 \r\nL 316.512465 324.728114 \r\nL 316.787208 317.89175 \r\nL 317.06195 324.300841 \r\nL 317.336692 324.300841 \r\nM 317.886177 320.028114 \r\nL 318.160919 320.455386 \r\nL 318.435661 321.737205 \r\nL 318.710403 324.728114 \r\nL 318.985146 324.728114 \r\nL 319.259888 323.873568 \r\nL 319.53463 324.728114 \r\nL 319.809372 323.019023 \r\nL 320.084115 324.728114 \r\nL 320.358857 324.728114 \r\nL 320.633599 318.319023 \r\nL 320.908341 317.89175 \r\nL 321.183084 322.59175 \r\nL 321.732568 324.728114 \r\nL 322.00731 324.728114 \r\nL 322.282053 324.300841 \r\nL 322.556795 324.728114 \r\nL 322.831537 302.082659 \r\nL 323.106279 318.746295 \r\nL 323.381021 309.773568 \r\nL 323.655764 320.455386 \r\nL 324.205248 311.909932 \r\nL 324.47999 323.873568 \r\nL 324.754733 323.873568 \r\nL 325.029475 317.037205 \r\nL 325.304217 316.609932 \r\nL 325.578959 317.464477 \r\nM 327.776897 322.164477 \r\nL 328.05164 324.728114 \r\nL 328.601124 324.728114 \r\nL 328.875866 323.873568 \r\nL 329.150609 311.909932 \r\nL 329.425351 324.728114 \r\nL 329.700093 324.300841 \r\nL 329.974835 319.600841 \r\nL 330.249578 317.89175 \r\nL 330.52432 324.728114 \r\nL 330.799062 320.882659 \r\nL 331.073804 324.728114 \r\nL 331.348547 324.728114 \r\nL 331.623289 319.600841 \r\nL 331.898031 321.737205 \r\nL 332.172773 273.882659 \r\nL 332.447516 319.600841 \r\nL 332.722258 323.873568 \r\nL 332.997 324.728114 \r\nL 333.271742 318.746295 \r\nL 333.546485 323.873568 \r\nM 334.095969 319.600841 \r\nL 334.370711 322.59175 \r\nL 334.645454 324.300841 \r\nL 334.920196 323.019023 \r\nL 335.194938 324.728114 \r\nL 335.46968 324.728114 \r\nL 335.744423 320.455386 \r\nL 336.019165 324.728114 \r\nL 336.568649 324.728114 \r\nM 337.118134 324.300841 \r\nL 337.392876 324.728114 \r\nL 338.491845 324.728114 \r\nL 339.04133 323.873568 \r\nL 339.316072 324.728114 \r\nM 339.865556 324.728114 \r\nL 340.140299 323.019023 \r\nM 343.98669 324.728114 \r\nL 344.261432 322.164477 \r\nL 344.536175 324.728114 \r\nM 345.085659 324.728114 \r\nL 345.360401 323.019023 \r\nM 349.481535 307.637205 \r\nL 349.756277 316.182659 \r\nM 351.404731 324.728114 \r\nL 351.679473 323.873568 \r\nM 361.570194 324.728114 \r\nL 361.844936 324.728114 \r\nM 363.49339 324.728114 \r\nL 363.768132 324.728114 \r\nL 364.042874 322.59175 \r\nL 364.317616 324.728114 \r\nL 365.141843 324.728114 \r\nM 365.691328 324.728114 \r\nL 366.515554 324.728114 \r\nM 368.43875 317.464477 \r\nL 368.713492 324.728114 \r\nL 368.988234 324.728114 \r\nM 369.812461 222.182659 \r\nL 370.087203 305.928114 \r\nL 370.361946 318.746295 \r\nM 371.460915 324.728114 \r\nL 371.735657 324.728114 \r\nM 372.285141 322.164477 \r\nL 372.559884 324.728114 \r\nM 374.757822 324.728114 \r\nL 375.582048 324.728114 \r\nM 383.000089 324.728114 \r\nL 383.274831 324.728114 \r\nM 383.824316 324.728114 \r\nL 384.3738 324.728114 \r\nL 384.648543 319.600841 \r\nM 387.121223 324.728114 \r\nL 388.220192 324.728114 \r\nM 389.593903 272.600841 \r\nL 389.868645 315.755386 \r\nL 390.143388 324.728114 \r\nL 390.41813 324.728114 \r\nL 390.692872 318.746295 \r\nL 390.967614 324.728114 \r\nL 391.242356 324.728114 \r\nL 391.517099 314.046295 \r\nM 392.066583 321.309932 \r\nL 392.341325 293.109932 \r\nL 392.616068 323.873568 \r\nL 392.89081 323.446295 \r\nL 393.165552 320.028114 \r\nL 393.440294 324.300841 \r\nL 393.715037 314.900841 \r\nL 393.989779 318.746295 \r\nL 394.264521 319.600841 \r\nL 394.539263 318.319023 \r\nL 394.814006 305.073568 \r\nL 395.088748 273.882659 \r\nL 395.36349 317.464477 \r\nL 395.638232 324.300841 \r\nL 395.912975 324.728114 \r\nL 396.187717 323.019023 \r\nL 396.462459 322.59175 \r\nL 396.737201 323.019023 \r\nL 397.011944 324.728114 \r\nL 397.286686 324.300841 \r\nL 397.561428 324.728114 \r\nL 398.110913 324.728114 \r\nL 398.385655 310.200841 \r\nL 398.660397 322.59175 \r\nL 398.935139 324.728114 \r\nL 399.209882 317.037205 \r\nL 399.484624 318.319023 \r\nL 400.034108 324.728114 \r\nL 403.8805 324.728114 \r\nL 404.155242 319.600841 \r\nL 404.429984 323.873568 \r\nL 404.704727 324.728114 \r\nM 405.254211 324.728114 \r\nL 405.803696 324.728114 \r\nL 406.078438 319.600841 \r\nL 406.35318 323.873568 \r\nL 406.627922 321.309932 \r\nL 406.902665 322.164477 \r\nL 407.177407 324.300841 \r\nL 407.452149 324.728114 \r\nL 407.726891 319.173568 \r\nL 408.001634 324.300841 \r\nL 408.276376 324.728114 \r\nL 408.82586 324.728114 \r\nL 409.100603 323.873568 \r\nL 409.375345 324.728114 \r\nL 409.650087 324.728114 \r\nL 409.924829 318.319023 \r\nL 410.199572 324.728114 \r\nL 411.848025 324.728114 \r\nL 412.122767 321.737205 \r\nL 412.39751 324.728114 \r\nL 412.672252 323.873568 \r\nL 412.946994 319.173568 \r\nL 413.221736 307.637205 \r\nL 413.496479 321.737205 \r\nL 413.771221 311.482659 \r\nL 414.045963 323.446295 \r\nL 414.320705 315.755386 \r\nL 414.87019 323.446295 \r\nL 415.144932 324.728114 \r\nL 415.419674 324.728114 \r\nL 415.694416 322.164477 \r\nL 415.969159 324.728114 \r\nL 416.243901 317.89175 \r\nL 416.518643 324.300841 \r\nL 416.793385 323.873568 \r\nL 417.068128 311.055386 \r\nL 417.34287 305.500841 \r\nL 417.617612 324.728114 \r\nL 417.892354 321.737205 \r\nL 418.167097 324.300841 \r\nM 418.716581 322.164477 \r\nL 418.991323 324.728114 \r\nL 419.266066 318.319023 \r\nL 419.540808 322.59175 \r\nL 419.81555 324.728114 \r\nL 420.090292 324.728114 \r\nL 420.639777 313.19175 \r\nL 420.914519 323.873568 \r\nL 421.189261 324.300841 \r\nL 421.464004 322.164477 \r\nL 421.738746 318.746295 \r\nL 422.013488 323.873568 \r\nL 422.28823 322.164477 \r\nL 422.562973 324.728114 \r\nL 422.837715 322.164477 \r\nL 423.112457 324.728114 \r\nL 423.387199 322.164477 \r\nL 423.661942 322.59175 \r\nL 423.936684 321.737205 \r\nM 424.760911 317.037205 \r\nL 425.035653 306.782659 \r\nL 425.310395 324.300841 \r\nL 425.585137 324.728114 \r\nL 426.409364 324.728114 \r\nM 427.783075 324.728114 \r\nL 428.057818 324.728114 \r\nL 428.33256 320.028114 \r\nL 428.607302 323.019023 \r\nL 428.882044 324.728114 \r\nL 429.156787 321.309932 \r\nL 429.431529 324.728114 \r\nL 429.981013 324.728114 \r\nM 430.530498 324.728114 \r\nL 432.453694 324.728114 \r\nL 432.728436 247.819023 \r\nL 433.003178 324.728114 \r\nL 433.552663 324.728114 \r\nL 433.827405 109.382659 \r\nL 434.102147 321.737205 \r\nL 434.376889 324.728114 \r\nM 434.926374 296.100841 \r\nL 435.201116 322.164477 \r\nL 435.475858 324.300841 \r\nM 436.025343 319.173568 \r\nL 436.300085 324.728114 \r\nL 436.574827 324.728114 \r\nM 437.124312 324.728114 \r\nL 437.399054 324.728114 \r\nL 437.673796 299.519023 \r\nL 437.948538 261.49175 \r\nL 438.223281 314.046295 \r\nL 438.498023 324.728114 \r\nM 439.32225 324.728114 \r\nL 440.970703 324.728114 \r\nL 441.245445 309.773568 \r\nL 441.520188 324.728114 \r\nL 442.619157 324.728114 \r\nL 442.893899 323.873568 \r\nL 443.168641 321.737205 \r\nL 443.443383 306.355386 \r\nL 443.718126 324.728114 \r\nL 444.26761 324.728114 \r\nL 444.542352 321.309932 \r\nL 444.817095 324.728114 \r\nL 447.015033 324.728114 \r\nM 447.564517 324.728114 \r\nL 448.388744 324.728114 \r\nL 448.663486 309.346295 \r\nL 448.938228 324.728114 \r\nL 449.212971 324.728114 \r\nL 449.487713 311.909932 \r\nL 450.037197 324.728114 \r\nL 450.31194 309.773568 \r\nL 450.586682 223.89175 \r\nM 451.136166 324.728114 \r\nL 451.410909 324.300841 \r\nL 451.685651 324.728114 \r\nL 451.960393 324.728114 \r\nL 452.235135 57.682659 \r\nL 452.509878 268.755386 \r\nL 452.78462 321.737205 \r\nL 453.059362 324.728114 \r\nL 454.707816 324.728114 \r\nL 454.982558 295.673568 \r\nL 455.2573 322.164477 \r\nL 455.532042 324.728114 \r\nL 456.356269 324.728114 \r\nL 456.631011 322.164477 \r\nL 456.905754 324.728114 \r\nL 457.180496 324.728114 \r\nL 457.455238 305.073568 \r\nM 458.004723 324.728114 \r\nL 458.554207 324.728114 \r\nL 458.828949 298.664477 \r\nL 459.103691 301.228114 \r\nL 459.378434 324.728114 \r\nL 460.20266 324.728114 \r\nL 460.477403 320.028114 \r\nL 460.752145 324.728114 \r\nL 461.301629 324.728114 \r\nL 461.576372 318.319023 \r\nL 461.851114 324.728114 \r\nL 463.224825 324.728114 \r\nL 463.77431 314.046295 \r\nL 464.323794 323.446295 \r\nL 464.598536 322.164477 \r\nL 464.873279 324.728114 \r\nL 465.697505 324.728114 \r\nL 465.972248 324.300841 \r\nM 466.521732 324.728114 \r\nL 466.796474 322.59175 \r\nL 467.071217 324.728114 \r\nL 468.444928 324.728114 \r\nL 468.71967 321.737205 \r\nM 469.818639 324.728114 \r\nL 471.467093 324.728114 \r\nL 471.741835 320.028114 \r\nL 472.016577 324.728114 \r\nL 473.390288 324.728114 \r\nL 473.665031 310.628114 \r\nL 473.939773 324.728114 \r\nL 474.214515 324.728114 \r\nM 474.764 322.59175 \r\nL 475.038742 324.728114 \r\nL 479.434618 324.728114 \r\nL 479.70936 321.309932 \r\nL 479.984102 322.164477 \r\nL 480.258845 321.737205 \r\nL 480.533587 322.59175 \r\nM 481.357813 324.728114 \r\nL 481.632556 321.309932 \r\nL 481.907298 232.864477 \r\nL 482.18204 322.164477 \r\nL 482.456782 324.300841 \r\nL 482.731525 319.600841 \r\nL 483.006267 299.09175 \r\nL 483.555751 324.728114 \r\nL 483.830494 314.473568 \r\nL 484.105236 323.873568 \r\nL 484.379978 324.300841 \r\nL 484.65472 319.600841 \r\nL 484.929463 318.746295 \r\nL 485.204205 323.446295 \r\nL 485.753689 317.89175 \r\nL 486.028432 321.737205 \r\nL 486.303174 317.89175 \r\nL 486.577916 320.882659 \r\nL 486.852658 311.909932 \r\nL 487.127401 311.482659 \r\nL 487.402143 310.200841 \r\nL 487.676885 225.173568 \r\nL 487.951627 289.264477 \r\nL 488.22637 322.164477 \r\nL 488.501112 309.346295 \r\nL 488.775854 321.737205 \r\nL 489.050596 324.300841 \r\nL 489.325339 315.328114 \r\nL 489.600081 321.737205 \r\nL 489.874823 310.200841 \r\nL 490.149565 284.564477 \r\nL 490.424308 324.300841 \r\nL 490.69905 323.446295 \r\nL 490.973792 317.464477 \r\nL 491.248534 317.464477 \r\nL 491.523277 324.728114 \r\nL 491.798019 299.519023 \r\nL 492.072761 314.046295 \r\nL 492.622246 322.164477 \r\nL 492.896988 317.89175 \r\nL 493.17173 323.446295 \r\nL 493.446472 324.300841 \r\nL 493.721215 324.728114 \r\nL 494.820184 324.728114 \r\nL 495.094926 312.764477 \r\nL 495.369668 323.446295 \r\nL 495.64441 324.728114 \r\nL 495.919153 324.728114 \r\nL 496.193895 323.019023 \r\nL 496.468637 324.728114 \r\nL 497.018122 323.873568 \r\nL 497.292864 320.028114 \r\nL 497.567606 324.728114 \r\nL 497.842348 324.728114 \r\nL 498.117091 318.319023 \r\nL 498.391833 323.873568 \r\nL 498.666575 321.309932 \r\nL 498.941317 320.028114 \r\nL 499.21606 324.300841 \r\nL 499.490802 315.328114 \r\nL 499.765544 322.59175 \r\nL 500.315029 317.89175 \r\nL 500.589771 321.737205 \r\nL 500.864513 320.455386 \r\nL 501.139255 324.728114 \r\nL 501.68874 324.728114 \r\nL 501.963482 323.446295 \r\nL 502.238224 324.300841 \r\nL 502.512967 324.728114 \r\nL 502.787709 315.755386 \r\nL 503.337193 324.728114 \r\nL 504.710904 324.728114 \r\nL 504.985647 314.473568 \r\nL 505.260389 324.300841 \r\nL 505.535131 324.728114 \r\nL 505.809873 320.028114 \r\nL 506.084616 308.064477 \r\nL 506.359358 320.028114 \r\nL 506.6341 237.137205 \r\nL 506.908842 314.046295 \r\nL 507.183585 311.909932 \r\nL 507.458327 321.309932 \r\nL 507.733069 322.164477 \r\nL 508.007811 317.464477 \r\nL 508.282554 324.728114 \r\nL 508.557296 320.882659 \r\nL 508.832038 322.59175 \r\nL 509.10678 308.919023 \r\nL 509.381523 309.773568 \r\nL 509.656265 291.828114 \r\nL 509.931007 323.019023 \r\nL 510.205749 315.328114 \r\nL 510.480492 324.728114 \r\nL 510.755234 319.600841 \r\nL 511.029976 321.737205 \r\nL 511.304718 311.482659 \r\nL 511.579461 323.873568 \r\nL 511.854203 324.728114 \r\nL 512.128945 324.728114 \r\nL 512.403687 323.019023 \r\nL 512.67843 285.419023 \r\nL 512.953172 318.746295 \r\nL 513.227914 323.446295 \r\nL 513.502656 321.737205 \r\nL 513.777399 317.89175 \r\nL 514.052141 323.446295 \r\nL 514.326883 324.728114 \r\nL 514.601625 320.028114 \r\nL 514.876368 287.982659 \r\nL 515.15111 314.473568 \r\nL 515.425852 316.182659 \r\nL 515.700594 323.873568 \r\nL 515.975337 315.328114 \r\nL 516.250079 322.59175 \r\nL 516.524821 320.882659 \r\nL 516.799563 302.509932 \r\nL 517.074306 312.337205 \r\nL 517.349048 314.046295 \r\nL 517.62379 323.446295 \r\nL 517.898532 324.300841 \r\nL 518.173275 324.728114 \r\nL 518.448017 324.728114 \r\nL 518.997501 320.455386 \r\nL 519.272244 324.728114 \r\nL 520.920697 324.728114 \r\nL 521.195439 324.300841 \r\nL 521.470182 324.728114 \r\nL 522.294408 324.728114 \r\nL 522.569151 323.873568 \r\nL 522.843893 324.728114 \r\nL 523.118635 323.446295 \r\nL 523.393377 320.882659 \r\nL 523.66812 324.300841 \r\nL 523.942862 319.173568 \r\nL 524.217604 290.973568 \r\nL 524.492346 324.728114 \r\nL 524.767089 323.446295 \r\nL 525.041831 324.728114 \r\nL 525.316573 313.619023 \r\nL 525.591315 324.728114 \r\nL 527.239769 324.728114 \r\nL 527.514511 317.037205 \r\nL 527.789253 268.328114 \r\nL 528.063995 324.728114 \r\nL 528.61348 324.728114 \r\nL 529.162964 197.400841 \r\nL 529.437707 324.300841 \r\nL 529.712449 324.728114 \r\nL 529.987191 324.300841 \r\nL 530.261933 293.537205 \r\nL 530.536676 319.173568 \r\nL 530.811418 324.728114 \r\nL 531.08616 320.882659 \r\nL 531.360902 324.728114 \r\nL 531.635645 324.728114 \r\nL 531.910387 322.164477 \r\nL 532.185129 324.728114 \r\nL 533.284098 324.728114 \r\nL 533.55884 323.019023 \r\nL 533.833583 234.146295 \r\nL 534.108325 244.400841 \r\nL 534.383067 313.19175 \r\nL 534.657809 324.728114 \r\nL 534.932552 307.209932 \r\nL 535.207294 323.446295 \r\nL 535.482036 324.728114 \r\nL 535.756778 324.728114 \r\nL 536.031521 296.955386 \r\nL 536.306263 323.446295 \r\nL 536.581005 324.300841 \r\nL 536.855747 324.728114 \r\nL 537.405232 324.728114 \r\nL 537.679974 322.164477 \r\nL 537.954716 324.728114 \r\nL 538.229459 319.600841 \r\nL 538.504201 324.728114 \r\nL 538.778943 324.728114 \r\nL 539.053685 323.873568 \r\nL 539.328428 320.882659 \r\nL 539.60317 324.728114 \r\nL 539.877912 324.728114 \r\nL 540.152654 319.600841 \r\nL 540.427397 284.99175 \r\nL 540.702139 324.728114 \r\nL 540.976881 324.300841 \r\nL 541.251623 324.728114 \r\nL 541.526366 324.300841 \r\nL 541.801108 323.019023 \r\nL 542.07585 324.300841 \r\nL 542.350592 315.755386 \r\nL 542.625335 324.728114 \r\nL 542.900077 313.619023 \r\nL 543.174819 320.882659 \r\nL 543.449561 320.455386 \r\nL 543.724304 322.164477 \r\nL 543.999046 324.728114 \r\nL 544.54853 324.728114 \r\nL 544.823273 324.300841 \r\nL 545.098015 323.446295 \r\nL 545.372757 320.028114 \r\nL 545.647499 299.519023 \r\nL 545.922242 226.455386 \r\nL 546.196984 308.49175 \r\nL 546.471726 304.646295 \r\nL 546.746468 280.29175 \r\nL 547.021211 237.99175 \r\nL 547.295953 323.873568 \r\nL 547.570695 322.59175 \r\nL 547.845437 250.382659 \r\nL 548.12018 257.219023 \r\nL 548.394922 322.164477 \r\nL 548.669664 324.300841 \r\nL 548.944406 324.728114 \r\nL 549.219148 323.873568 \r\nL 549.493891 316.609932 \r\nL 549.768633 292.255386 \r\nL 550.043375 308.919023 \r\nL 550.318117 280.29175 \r\nL 550.59286 319.173568 \r\nL 550.867602 324.300841 \r\nL 551.142344 324.300841 \r\nL 551.417086 324.728114 \r\nL 551.966571 324.728114 \r\nL 552.241313 323.873568 \r\nL 552.790798 257.219023 \r\nL 553.06554 316.182659 \r\nL 553.615024 323.873568 \r\nL 553.889767 319.600841 \r\nL 554.164509 317.464477 \r\nL 554.713993 323.446295 \r\nL 554.988736 321.737205 \r\nL 555.263478 319.173568 \r\nL 555.53822 324.300841 \r\nL 555.812962 323.873568 \r\nL 556.087705 324.300841 \r\nL 556.362447 322.164477 \r\nL 556.637189 322.164477 \r\nL 556.911931 311.909932 \r\nL 557.186674 316.182659 \r\nL 557.461416 324.728114 \r\nL 557.736158 324.728114 \r\nL 558.0109 321.309932 \r\nL 558.285643 307.637205 \r\nL 558.560385 276.873568 \r\nL 558.835127 314.046295 \r\nL 559.109869 324.728114 \r\nL 559.384612 320.882659 \r\nL 559.659354 321.309932 \r\nL 559.934096 319.173568 \r\nL 560.483581 324.728114 \r\nL 561.033065 324.728114 \r\nL 561.307807 323.873568 \r\nL 561.58255 298.237205 \r\nL 561.857292 293.109932 \r\nL 562.132034 314.473568 \r\nL 562.406776 314.473568 \r\nL 562.681519 315.328114 \r\nL 562.956261 301.228114 \r\nL 563.231003 322.164477 \r\nL 563.505745 321.737205 \r\nL 563.780488 314.473568 \r\nL 564.05523 321.309932 \r\nL 564.329972 324.728114 \r\nL 564.604714 316.609932 \r\nL 564.879457 322.164477 \r\nL 565.154199 319.600841 \r\nL 565.428941 309.346295 \r\nL 565.703683 323.873568 \r\nL 565.978426 322.164477 \r\nL 566.253168 324.300841 \r\nL 566.52791 324.728114 \r\nL 566.802652 324.728114 \r\nL 567.077395 324.300841 \r\nL 567.626879 318.319023 \r\nL 567.901621 318.319023 \r\nL 568.451106 324.728114 \r\nL 568.725848 324.728114 \r\nL 569.00059 317.037205 \r\nL 569.275333 324.728114 \r\nL 569.550075 320.028114 \r\nL 569.824817 323.873568 \r\nL 570.099559 323.873568 \r\nL 570.374302 312.764477 \r\nL 570.649044 311.055386 \r\nL 571.198528 322.59175 \r\nL 571.47327 320.455386 \r\nL 571.748013 315.755386 \r\nL 572.022755 322.59175 \r\nL 572.297497 322.59175 \r\nL 572.572239 322.164477 \r\nL 572.846982 323.446295 \r\nL 573.121724 316.182659 \r\nL 573.396466 316.182659 \r\nL 573.671208 298.664477 \r\nL 573.945951 320.028114 \r\nL 574.220693 319.600841 \r\nL 574.495435 324.300841 \r\nL 574.770177 320.882659 \r\nL 575.04492 314.900841 \r\nL 575.319662 324.728114 \r\nL 575.869146 324.728114 \r\nL 576.143889 322.164477 \r\nL 576.418631 324.728114 \r\nL 576.968115 324.728114 \r\nL 577.242858 311.055386 \r\nL 577.5176 319.600841 \r\nL 577.792342 324.300841 \r\nL 578.067084 322.164477 \r\nL 578.341827 262.773568 \r\nL 578.616569 320.028114 \r\nM 579.166053 236.282659 \r\nL 579.715538 322.59175 \r\nL 579.99028 219.619023 \r\nL 580.265022 324.300841 \r\nL 580.539765 323.446295 \r\nL 580.814507 282.000841 \r\nL 581.089249 305.928114 \r\nL 581.363991 317.037205 \r\nL 581.638734 282.000841 \r\nL 581.913476 267.046295 \r\nL 582.188218 318.319023 \r\nL 582.46296 309.773568 \r\nL 582.737703 275.164477 \r\nL 583.012445 299.09175 \r\nL 583.287187 280.29175 \r\nL 583.561929 273.455386 \r\nL 583.836672 38.455386 \r\nL 584.386156 298.664477 \r\nL 584.660898 314.900841 \r\nL 584.935641 306.782659 \r\nL 585.210383 314.046295 \r\nL 585.485125 306.355386 \r\nL 585.759867 281.146295 \r\nL 586.03461 292.682659 \r\nL 586.309352 310.628114 \r\nL 586.584094 313.19175 \r\nL 586.858836 323.019023 \r\nL 587.133579 281.146295 \r\nL 587.408321 282.000841 \r\nL 587.683063 322.59175 \r\nL 587.957805 261.064477 \r\nL 588.232548 308.49175 \r\nL 588.50729 281.146295 \r\nL 588.782032 298.664477 \r\nL 589.056774 305.073568 \r\nL 589.331517 176.89175 \r\nL 589.606259 290.119023 \r\nL 589.881001 323.019023 \r\nL 590.155743 324.300841 \r\nL 590.430486 323.019023 \r\nL 590.705228 324.728114 \r\nL 590.97997 324.728114 \r\nL 591.254712 309.773568 \r\nL 591.529455 323.873568 \r\nL 591.804197 322.164477 \r\nL 592.078939 324.728114 \r\nL 592.353681 310.628114 \r\nL 592.628424 324.728114 \r\nL 592.903166 308.49175 \r\nL 593.177908 304.219023 \r\nL 593.45265 324.728114 \r\nL 593.727393 282.000841 \r\nL 594.002135 320.882659 \r\nL 594.276877 266.19175 \r\nL 594.551619 314.473568 \r\nL 594.826361 294.819023 \r\nL 595.375846 324.728114 \r\nL 595.650588 271.319023 \r\nL 595.92533 308.919023 \r\nL 596.200073 314.046295 \r\nL 596.474815 284.137205 \r\nL 596.749557 267.046295 \r\nL 597.024299 320.882659 \r\nL 597.299042 323.019023 \r\nL 597.573784 323.873568 \r\nL 597.848526 322.164477 \r\nL 598.123268 308.49175 \r\nL 598.398011 322.59175 \r\nL 598.672753 322.59175 \r\nL 598.947495 302.082659 \r\nL 599.222237 323.019023 \r\nL 599.49698 324.300841 \r\nL 599.771722 324.728114 \r\nL 600.321206 324.728114 \r\nL 600.595949 323.873568 \r\nL 600.870691 322.59175 \r\nL 601.145433 285.846295 \r\nL 601.420175 323.873568 \r\nM 601.96966 202.100841 \r\nL 602.244402 234.573568 \r\nL 602.519144 315.328114 \r\nL 603.068629 280.719023 \r\nL 603.343371 311.909932 \r\nL 603.618113 312.337205 \r\nL 603.892856 295.246295 \r\nL 604.167598 316.182659 \r\nL 604.44234 290.973568 \r\nL 604.717082 293.964477 \r\nL 605.266567 255.509932 \r\nL 605.541309 311.482659 \r\nL 605.816051 256.364477 \r\nL 606.090794 324.728114 \r\nL 606.365536 323.873568 \r\nL 606.640278 323.446295 \r\nL 606.91502 306.782659 \r\nL 607.189763 323.019023 \r\nL 607.464505 319.173568 \r\nL 607.739247 324.300841 \r\nL 608.013989 320.882659 \r\nL 608.288732 310.628114 \r\nL 608.563474 323.446295 \r\nL 608.838216 324.728114 \r\nM 609.387701 318.319023 \r\nL 609.662443 324.728114 \r\nL 610.211927 271.746295 \r\nL 610.48667 289.264477 \r\nL 610.761412 278.582659 \r\nL 611.036154 308.49175 \r\nL 611.310896 261.49175 \r\nL 611.585639 318.746295 \r\nL 611.860381 318.746295 \r\nL 612.135123 280.719023 \r\nL 612.409865 223.464477 \r\nL 612.684608 286.273568 \r\nL 612.95935 323.446295 \r\nL 613.234092 324.728114 \r\nL 613.783577 324.728114 \r\nL 614.058319 304.646295 \r\nL 614.333061 320.455386 \r\nL 614.607803 324.728114 \r\nL 614.882546 323.446295 \r\nL 615.157288 324.728114 \r\nL 616.530999 324.728114 \r\nL 616.805741 324.300841 \r\nL 617.080483 324.728114 \r\nL 617.355226 324.728114 \r\nL 617.629968 321.737205 \r\nL 617.90471 324.728114 \r\nL 618.179452 324.728114 \r\nL 618.454195 321.309932 \r\nL 618.728937 293.964477 \r\nL 619.003679 288.409932 \r\nL 619.553164 211.928114 \r\nL 619.827906 320.455386 \r\nL 620.102648 323.446295 \r\nL 620.37739 324.728114 \r\nL 620.652133 301.228114 \r\nL 620.926875 324.728114 \r\nL 621.751102 324.728114 \r\nM 622.300586 324.728114 \r\nL 622.575328 324.728114 \r\nL 622.850071 248.246295 \r\nL 623.124813 324.728114 \r\nL 623.674297 324.728114 \r\nL 623.94904 293.537205 \r\nL 624.223782 246.537205 \r\nL 624.498524 324.728114 \r\nL 624.773266 324.300841 \r\nL 625.322751 319.173568 \r\nM 625.872235 320.455386 \r\nL 626.146978 324.728114 \r\nL 626.42172 321.737205 \r\nL 626.696462 311.055386 \r\nL 626.971204 324.728114 \r\nL 627.245947 324.728114 \r\nL 627.520689 319.600841 \r\nL 627.795431 324.728114 \r\nL 628.070173 324.728114 \r\nL 628.344916 299.946295 \r\nL 628.619658 239.273568 \r\nL 628.8944 299.946295 \r\nL 629.169142 300.800841 \r\nL 629.443885 324.728114 \r\nL 629.718627 309.773568 \r\nL 629.993369 324.728114 \r\nL 630.542854 324.728114 \r\nL 630.817596 324.300841 \r\nL 631.092338 324.728114 \r\nL 631.36708 324.728114 \r\nM 631.916565 324.728114 \r\nL 632.466049 324.728114 \r\nM 633.015534 324.728114 \r\nL 633.839761 324.728114 \r\nL 634.114503 323.446295 \r\nL 634.389245 317.464477 \r\nL 634.663987 304.219023 \r\nL 634.93873 324.728114 \r\nL 635.213472 324.728114 \r\nL 635.488214 295.673568 \r\nL 635.762956 321.737205 \r\nM 636.312441 316.182659 \r\nL 636.587183 324.728114 \r\nL 636.861925 314.900841 \r\nL 637.136668 323.873568 \r\nL 637.41141 305.500841 \r\nL 637.686152 324.728114 \r\nM 638.235637 324.728114 \r\nL 638.510379 324.728114 \r\nL 638.785121 314.046295 \r\nL 639.059863 296.955386 \r\nL 639.334605 314.900841 \r\nL 639.609348 204.237205 \r\nL 639.88409 286.273568 \r\nL 640.158832 320.028114 \r\nL 640.433574 269.182659 \r\nL 640.708317 282.855386 \r\nL 640.983059 318.746295 \r\nL 641.257801 324.728114 \r\nL 641.532543 246.109932 \r\nL 641.807286 267.046295 \r\nL 642.082028 309.773568 \r\nL 642.35677 322.59175 \r\nL 642.631512 324.728114 \r\nL 642.906255 315.328114 \r\nL 643.180997 320.028114 \r\nL 643.455739 290.973568 \r\nL 643.730481 324.728114 \r\nL 644.005224 290.546295 \r\nL 644.279966 314.046295 \r\nL 644.554708 324.728114 \r\nM 645.104193 320.455386 \r\nL 645.378935 324.728114 \r\nL 645.653677 323.446295 \r\nL 645.928419 277.300841 \r\nL 646.203162 314.900841 \r\nL 646.477904 301.228114 \r\nL 646.752646 305.928114 \r\nL 647.027388 320.455386 \r\nL 647.302131 320.455386 \r\nL 647.576873 282.000841 \r\nL 648.126357 311.909932 \r\nL 648.4011 322.164477 \r\nL 648.675842 324.728114 \r\nM 649.225326 324.728114 \r\nL 649.500069 311.909932 \r\nL 649.774811 305.928114 \r\nL 650.049553 232.009932 \r\nL 650.599038 324.728114 \r\nL 650.87378 303.364477 \r\nL 651.148522 324.728114 \r\nM 652.247491 289.69175 \r\nL 652.522233 324.300841 \r\nL 652.796976 324.728114 \r\nL 653.071718 324.300841 \r\nL 653.34646 324.728114 \r\nM 653.895945 294.819023 \r\nL 654.170687 290.119023 \r\nL 654.445429 296.955386 \r\nL 654.720171 290.119023 \r\nL 654.994914 252.519023 \r\nL 655.269656 320.455386 \r\nL 655.544398 320.455386 \r\nL 655.81914 294.819023 \r\nL 656.093883 307.637205 \r\nL 656.368625 311.482659 \r\nL 656.643367 311.909932 \r\nL 656.918109 312.764477 \r\nL 657.192852 303.364477 \r\nL 657.467594 315.328114 \r\nL 657.742336 303.364477 \r\nL 658.017078 323.873568 \r\nL 658.291821 320.455386 \r\nL 658.566563 323.873568 \r\nL 658.841305 323.019023 \r\nL 659.116047 316.182659 \r\nL 659.39079 320.455386 \r\nL 659.665532 303.364477 \r\nL 659.940274 307.637205 \r\nL 660.215016 324.728114 \r\nL 660.489759 324.728114 \r\nL 660.764501 323.873568 \r\nL 661.039243 311.909932 \r\nL 661.313985 323.873568 \r\nL 661.588727 324.728114 \r\nL 661.86347 323.873568 \r\nL 662.138212 324.728114 \r\nL 662.412954 322.59175 \r\nL 662.687696 295.673568 \r\nL 662.962439 295.673568 \r\nL 663.237181 320.455386 \r\nL 663.511923 303.364477 \r\nL 663.786665 308.064477 \r\nL 664.061408 222.182659 \r\nL 664.33615 313.19175 \r\nL 664.610892 294.819023 \r\nL 664.885634 320.455386 \r\nL 665.160377 153.819023 \r\nL 665.435119 290.546295 \r\nL 665.709861 288.837205 \r\nL 665.984603 311.909932 \r\nL 666.259346 311.909932 \r\nL 666.534088 324.728114 \r\nL 666.80883 307.637205 \r\nL 667.083572 311.909932 \r\nL 667.358315 311.909932 \r\nL 667.633057 324.728114 \r\nM 668.182541 314.046295 \r\nL 668.457284 322.164477 \r\nM 669.28151 322.59175 \r\nL 669.556253 310.200841 \r\nL 669.830995 318.319023 \r\nL 670.105737 321.737205 \r\nM 671.204706 315.328114 \r\nL 671.479448 306.782659 \r\nL 671.754191 306.782659 \r\nL 672.028933 319.173568 \r\nM 673.127902 300.800841 \r\nL 673.677386 305.500841 \r\nL 673.677386 305.500841 \r\n\" style=\"fill:none;stroke:#008fd5;stroke-width:4;\"/>\r\n   </g>\r\n   <g id=\"patch_3\">\r\n    <path d=\"M 32.67625 339.04175 \r\nL 32.67625 24.14175 \r\n\" style=\"fill:none;stroke:#f0f0f0;stroke-linecap:square;stroke-linejoin:miter;stroke-width:3;\"/>\r\n   </g>\r\n   <g id=\"patch_4\">\r\n    <path d=\"M 704.20125 339.04175 \r\nL 704.20125 24.14175 \r\n\" style=\"fill:none;stroke:#f0f0f0;stroke-linecap:square;stroke-linejoin:miter;stroke-width:3;\"/>\r\n   </g>\r\n   <g id=\"patch_5\">\r\n    <path d=\"M 32.67625 339.04175 \r\nL 704.20125 339.04175 \r\n\" style=\"fill:none;stroke:#f0f0f0;stroke-linecap:square;stroke-linejoin:miter;stroke-width:3;\"/>\r\n   </g>\r\n   <g id=\"patch_6\">\r\n    <path d=\"M 32.67625 24.14175 \r\nL 704.20125 24.14175 \r\n\" style=\"fill:none;stroke:#f0f0f0;stroke-linecap:square;stroke-linejoin:miter;stroke-width:3;\"/>\r\n   </g>\r\n   <g id=\"text_16\">\r\n    <!-- Precipitation for last 12 months -->\r\n    <g transform=\"translate(255.11975 18.14175)scale(0.144 -0.144)\">\r\n     <defs>\r\n      <path d=\"M 19.671875 64.796875 \r\nL 19.671875 37.40625 \r\nL 32.078125 37.40625 \r\nQ 38.96875 37.40625 42.71875 40.96875 \r\nQ 46.484375 44.53125 46.484375 51.125 \r\nQ 46.484375 57.671875 42.71875 61.234375 \r\nQ 38.96875 64.796875 32.078125 64.796875 \r\nz\r\nM 9.8125 72.90625 \r\nL 32.078125 72.90625 \r\nQ 44.34375 72.90625 50.609375 67.359375 \r\nQ 56.890625 61.8125 56.890625 51.125 \r\nQ 56.890625 40.328125 50.609375 34.8125 \r\nQ 44.34375 29.296875 32.078125 29.296875 \r\nL 19.671875 29.296875 \r\nL 19.671875 0 \r\nL 9.8125 0 \r\nz\r\n\" id=\"DejaVuSans-80\"/>\r\n      <path d=\"M 41.109375 46.296875 \r\nQ 39.59375 47.171875 37.8125 47.578125 \r\nQ 36.03125 48 33.890625 48 \r\nQ 26.265625 48 22.1875 43.046875 \r\nQ 18.109375 38.09375 18.109375 28.8125 \r\nL 18.109375 0 \r\nL 9.078125 0 \r\nL 9.078125 54.6875 \r\nL 18.109375 54.6875 \r\nL 18.109375 46.1875 \r\nQ 20.953125 51.171875 25.484375 53.578125 \r\nQ 30.03125 56 36.53125 56 \r\nQ 37.453125 56 38.578125 55.875 \r\nQ 39.703125 55.765625 41.0625 55.515625 \r\nz\r\n\" id=\"DejaVuSans-114\"/>\r\n      <path d=\"M 9.421875 54.6875 \r\nL 18.40625 54.6875 \r\nL 18.40625 0 \r\nL 9.421875 0 \r\nz\r\nM 9.421875 75.984375 \r\nL 18.40625 75.984375 \r\nL 18.40625 64.59375 \r\nL 9.421875 64.59375 \r\nz\r\n\" id=\"DejaVuSans-105\"/>\r\n      <path d=\"M 18.3125 70.21875 \r\nL 18.3125 54.6875 \r\nL 36.8125 54.6875 \r\nL 36.8125 47.703125 \r\nL 18.3125 47.703125 \r\nL 18.3125 18.015625 \r\nQ 18.3125 11.328125 20.140625 9.421875 \r\nQ 21.96875 7.515625 27.59375 7.515625 \r\nL 36.8125 7.515625 \r\nL 36.8125 0 \r\nL 27.59375 0 \r\nQ 17.1875 0 13.234375 3.875 \r\nQ 9.28125 7.765625 9.28125 18.015625 \r\nL 9.28125 47.703125 \r\nL 2.6875 47.703125 \r\nL 2.6875 54.6875 \r\nL 9.28125 54.6875 \r\nL 9.28125 70.21875 \r\nz\r\n\" id=\"DejaVuSans-116\"/>\r\n      <path d=\"M 34.28125 27.484375 \r\nQ 23.390625 27.484375 19.1875 25 \r\nQ 14.984375 22.515625 14.984375 16.5 \r\nQ 14.984375 11.71875 18.140625 8.90625 \r\nQ 21.296875 6.109375 26.703125 6.109375 \r\nQ 34.1875 6.109375 38.703125 11.40625 \r\nQ 43.21875 16.703125 43.21875 25.484375 \r\nL 43.21875 27.484375 \r\nz\r\nM 52.203125 31.203125 \r\nL 52.203125 0 \r\nL 43.21875 0 \r\nL 43.21875 8.296875 \r\nQ 40.140625 3.328125 35.546875 0.953125 \r\nQ 30.953125 -1.421875 24.3125 -1.421875 \r\nQ 15.921875 -1.421875 10.953125 3.296875 \r\nQ 6 8.015625 6 15.921875 \r\nQ 6 25.140625 12.171875 29.828125 \r\nQ 18.359375 34.515625 30.609375 34.515625 \r\nL 43.21875 34.515625 \r\nL 43.21875 35.40625 \r\nQ 43.21875 41.609375 39.140625 45 \r\nQ 35.0625 48.390625 27.6875 48.390625 \r\nQ 23 48.390625 18.546875 47.265625 \r\nQ 14.109375 46.140625 10.015625 43.890625 \r\nL 10.015625 52.203125 \r\nQ 14.9375 54.109375 19.578125 55.046875 \r\nQ 24.21875 56 28.609375 56 \r\nQ 40.484375 56 46.34375 49.84375 \r\nQ 52.203125 43.703125 52.203125 31.203125 \r\nz\r\n\" id=\"DejaVuSans-97\"/>\r\n      <path d=\"M 30.609375 48.390625 \r\nQ 23.390625 48.390625 19.1875 42.75 \r\nQ 14.984375 37.109375 14.984375 27.296875 \r\nQ 14.984375 17.484375 19.15625 11.84375 \r\nQ 23.34375 6.203125 30.609375 6.203125 \r\nQ 37.796875 6.203125 41.984375 11.859375 \r\nQ 46.1875 17.53125 46.1875 27.296875 \r\nQ 46.1875 37.015625 41.984375 42.703125 \r\nQ 37.796875 48.390625 30.609375 48.390625 \r\nz\r\nM 30.609375 56 \r\nQ 42.328125 56 49.015625 48.375 \r\nQ 55.71875 40.765625 55.71875 27.296875 \r\nQ 55.71875 13.875 49.015625 6.21875 \r\nQ 42.328125 -1.421875 30.609375 -1.421875 \r\nQ 18.84375 -1.421875 12.171875 6.21875 \r\nQ 5.515625 13.875 5.515625 27.296875 \r\nQ 5.515625 40.765625 12.171875 48.375 \r\nQ 18.84375 56 30.609375 56 \r\nz\r\n\" id=\"DejaVuSans-111\"/>\r\n      <path id=\"DejaVuSans-32\"/>\r\n      <path d=\"M 37.109375 75.984375 \r\nL 37.109375 68.5 \r\nL 28.515625 68.5 \r\nQ 23.6875 68.5 21.796875 66.546875 \r\nQ 19.921875 64.59375 19.921875 59.515625 \r\nL 19.921875 54.6875 \r\nL 34.71875 54.6875 \r\nL 34.71875 47.703125 \r\nL 19.921875 47.703125 \r\nL 19.921875 0 \r\nL 10.890625 0 \r\nL 10.890625 47.703125 \r\nL 2.296875 47.703125 \r\nL 2.296875 54.6875 \r\nL 10.890625 54.6875 \r\nL 10.890625 58.5 \r\nQ 10.890625 67.625 15.140625 71.796875 \r\nQ 19.390625 75.984375 28.609375 75.984375 \r\nz\r\n\" id=\"DejaVuSans-102\"/>\r\n      <path d=\"M 9.421875 75.984375 \r\nL 18.40625 75.984375 \r\nL 18.40625 0 \r\nL 9.421875 0 \r\nz\r\n\" id=\"DejaVuSans-108\"/>\r\n     </defs>\r\n     <use xlink:href=\"#DejaVuSans-80\"/>\r\n     <use x=\"58.552734\" xlink:href=\"#DejaVuSans-114\"/>\r\n     <use x=\"97.416016\" xlink:href=\"#DejaVuSans-101\"/>\r\n     <use x=\"158.939453\" xlink:href=\"#DejaVuSans-99\"/>\r\n     <use x=\"213.919922\" xlink:href=\"#DejaVuSans-105\"/>\r\n     <use x=\"241.703125\" xlink:href=\"#DejaVuSans-112\"/>\r\n     <use x=\"305.179688\" xlink:href=\"#DejaVuSans-105\"/>\r\n     <use x=\"332.962891\" xlink:href=\"#DejaVuSans-116\"/>\r\n     <use x=\"372.171875\" xlink:href=\"#DejaVuSans-97\"/>\r\n     <use x=\"433.451172\" xlink:href=\"#DejaVuSans-116\"/>\r\n     <use x=\"472.660156\" xlink:href=\"#DejaVuSans-105\"/>\r\n     <use x=\"500.443359\" xlink:href=\"#DejaVuSans-111\"/>\r\n     <use x=\"561.625\" xlink:href=\"#DejaVuSans-110\"/>\r\n     <use x=\"625.003906\" xlink:href=\"#DejaVuSans-32\"/>\r\n     <use x=\"656.791016\" xlink:href=\"#DejaVuSans-102\"/>\r\n     <use x=\"691.996094\" xlink:href=\"#DejaVuSans-111\"/>\r\n     <use x=\"753.177734\" xlink:href=\"#DejaVuSans-114\"/>\r\n     <use x=\"794.291016\" xlink:href=\"#DejaVuSans-32\"/>\r\n     <use x=\"826.078125\" xlink:href=\"#DejaVuSans-108\"/>\r\n     <use x=\"853.861328\" xlink:href=\"#DejaVuSans-97\"/>\r\n     <use x=\"915.140625\" xlink:href=\"#DejaVuSans-115\"/>\r\n     <use x=\"967.240234\" xlink:href=\"#DejaVuSans-116\"/>\r\n     <use x=\"1006.449219\" xlink:href=\"#DejaVuSans-32\"/>\r\n     <use x=\"1038.236328\" xlink:href=\"#DejaVuSans-49\"/>\r\n     <use x=\"1101.859375\" xlink:href=\"#DejaVuSans-50\"/>\r\n     <use x=\"1165.482422\" xlink:href=\"#DejaVuSans-32\"/>\r\n     <use x=\"1197.269531\" xlink:href=\"#DejaVuSans-109\"/>\r\n     <use x=\"1294.681641\" xlink:href=\"#DejaVuSans-111\"/>\r\n     <use x=\"1355.863281\" xlink:href=\"#DejaVuSans-110\"/>\r\n     <use x=\"1419.242188\" xlink:href=\"#DejaVuSans-116\"/>\r\n     <use x=\"1458.451172\" xlink:href=\"#DejaVuSans-104\"/>\r\n     <use x=\"1521.830078\" xlink:href=\"#DejaVuSans-115\"/>\r\n    </g>\r\n   </g>\r\n   <g id=\"legend_1\">\r\n    <g id=\"patch_7\">\r\n     <path d=\"M 643.12 46.819875 \r\nL 697.20125 46.819875 \r\nQ 699.20125 46.819875 699.20125 44.819875 \r\nL 699.20125 31.14175 \r\nQ 699.20125 29.14175 697.20125 29.14175 \r\nL 643.12 29.14175 \r\nQ 641.12 29.14175 641.12 31.14175 \r\nL 641.12 44.819875 \r\nQ 641.12 46.819875 643.12 46.819875 \r\nz\r\n\" style=\"fill:#f0f0f0;opacity:0.8;stroke:#cccccc;stroke-linejoin:miter;stroke-width:0.5;\"/>\r\n    </g>\r\n    <g id=\"line2d_28\">\r\n     <path d=\"M 645.12 37.240187 \r\nL 665.12 37.240187 \r\n\" style=\"fill:none;stroke:#008fd5;stroke-width:4;\"/>\r\n    </g>\r\n    <g id=\"line2d_29\"/>\r\n    <g id=\"text_17\">\r\n     <!-- prcp -->\r\n     <g transform=\"translate(673.12 40.740187)scale(0.1 -0.1)\">\r\n      <use xlink:href=\"#DejaVuSans-112\"/>\r\n      <use x=\"63.476562\" xlink:href=\"#DejaVuSans-114\"/>\r\n      <use x=\"102.339844\" xlink:href=\"#DejaVuSans-99\"/>\r\n      <use x=\"157.320312\" xlink:href=\"#DejaVuSans-112\"/>\r\n     </g>\r\n    </g>\r\n   </g>\r\n  </g>\r\n </g>\r\n <defs>\r\n  <clipPath id=\"p1e5dd0a549\">\r\n   <rect height=\"314.9\" width=\"671.525\" x=\"32.67625\" y=\"24.14175\"/>\r\n  </clipPath>\r\n </defs>\r\n</svg>\r\n",
      "image/png": "[encoded data removed]"
     },
     "metadata": {
      "needs_background": "light"
     }
    }
   ],
   "source": [
    "prcp_data_df.plot(\"date\", \"prcp\", rot=90, figsize=(10,6), title=\"Precipitation for last 12 months\")\n",
    "plt.xticks()\n",
    "plt.xlabel(\"Inches\")\n",
    "plt.ylabel(\"Temp\")\n",
    "plt.tight_layout()\n",
    "plt.savefig(\"images/12_mo_prcp.png\")\n"
   ]
  },
  {
   "cell_type": "code",
   "execution_count": 21,
   "metadata": {},
   "outputs": [
    {
     "output_type": "stream",
     "name": "stdout",
     "text": [
      "The summary of precip data from the last year is: \n"
     ]
    },
    {
     "output_type": "execute_result",
     "data": {
      "text/plain": [
       "              prcp\n",
       "count  2015.000000\n",
       "mean      0.176462\n",
       "std       0.460288\n",
       "min       0.000000\n",
       "25%       0.000000\n",
       "50%       0.020000\n",
       "75%       0.130000\n",
       "max       6.700000"
      ],
      "text/html": "<div>\n<style scoped>\n    .dataframe tbody tr th:only-of-type {\n        vertical-align: middle;\n    }\n\n    .dataframe tbody tr th {\n        vertical-align: top;\n    }\n\n    .dataframe thead th {\n        text-align: right;\n    }\n</style>\n<table border=\"1\" class=\"dataframe\">\n  <thead>\n    <tr style=\"text-align: right;\">\n      <th></th>\n      <th>prcp</th>\n    </tr>\n  </thead>\n  <tbody>\n    <tr>\n      <th>count</th>\n      <td>2015.000000</td>\n    </tr>\n    <tr>\n      <th>mean</th>\n      <td>0.176462</td>\n    </tr>\n    <tr>\n      <th>std</th>\n      <td>0.460288</td>\n    </tr>\n    <tr>\n      <th>min</th>\n      <td>0.000000</td>\n    </tr>\n    <tr>\n      <th>25%</th>\n      <td>0.000000</td>\n    </tr>\n    <tr>\n      <th>50%</th>\n      <td>0.020000</td>\n    </tr>\n    <tr>\n      <th>75%</th>\n      <td>0.130000</td>\n    </tr>\n    <tr>\n      <th>max</th>\n      <td>6.700000</td>\n    </tr>\n  </tbody>\n</table>\n</div>"
     },
     "metadata": {},
     "execution_count": 21
    }
   ],
   "source": [
    "# Use Pandas to calcualte the summary statistics for the precipitation data\n",
    "prcp_summary = prcp_data_df[[\"prcp\"]].describe()\n",
    "print(\"The summary of precip data from the last year is: \") \n",
    "prcp_summary"
   ]
  },
  {
   "cell_type": "code",
   "execution_count": 22,
   "metadata": {},
   "outputs": [
    {
     "output_type": "execute_result",
     "data": {
      "text/plain": [
       "9"
      ]
     },
     "metadata": {},
     "execution_count": 22
    }
   ],
   "source": [
    "# Design a query to show how many stations are available in this dataset?\n",
    "station_count = session.query(station).count()\n",
    "station_count"
   ]
  },
  {
   "cell_type": "code",
   "execution_count": 23,
   "metadata": {},
   "outputs": [
    {
     "output_type": "stream",
     "name": "stdout",
     "text": [
      "This is the activity count: \n[('USC00519281', 2772),\n ('USC00519397', 2724),\n ('USC00513117', 2709),\n ('USC00519523', 2669),\n ('USC00516128', 2612),\n ('USC00514830', 2202),\n ('USC00511918', 1979),\n ('USC00517948', 1372),\n ('USC00518838', 511)]\n"
     ]
    }
   ],
   "source": [
    "# What are the most active stations? (i.e. what stations have the most rows)?\n",
    "# List the stations and the counts in descending order.\n",
    "activity_count = (session.query(measurement.station, func.count(measurement.date)).group_by(measurement.station).order_by(func.count(measurement.date).desc()).all())\n",
    "print(\"This is the activity count: \")\n",
    "pprint(activity_count)"
   ]
  },
  {
   "cell_type": "code",
   "execution_count": 24,
   "metadata": {},
   "outputs": [
    {
     "output_type": "execute_result",
     "data": {
      "text/plain": [
       "       Station  Measurement Count\n",
       "0  USC00519281               2772\n",
       "1  USC00519397               2724\n",
       "2  USC00513117               2709\n",
       "3  USC00519523               2669\n",
       "4  USC00516128               2612\n",
       "5  USC00514830               2202\n",
       "6  USC00511918               1979\n",
       "7  USC00517948               1372\n",
       "8  USC00518838                511"
      ],
      "text/html": "<div>\n<style scoped>\n    .dataframe tbody tr th:only-of-type {\n        vertical-align: middle;\n    }\n\n    .dataframe tbody tr th {\n        vertical-align: top;\n    }\n\n    .dataframe thead th {\n        text-align: right;\n    }\n</style>\n<table border=\"1\" class=\"dataframe\">\n  <thead>\n    <tr style=\"text-align: right;\">\n      <th></th>\n      <th>Station</th>\n      <th>Measurement Count</th>\n    </tr>\n  </thead>\n  <tbody>\n    <tr>\n      <th>0</th>\n      <td>USC00519281</td>\n      <td>2772</td>\n    </tr>\n    <tr>\n      <th>1</th>\n      <td>USC00519397</td>\n      <td>2724</td>\n    </tr>\n    <tr>\n      <th>2</th>\n      <td>USC00513117</td>\n      <td>2709</td>\n    </tr>\n    <tr>\n      <th>3</th>\n      <td>USC00519523</td>\n      <td>2669</td>\n    </tr>\n    <tr>\n      <th>4</th>\n      <td>USC00516128</td>\n      <td>2612</td>\n    </tr>\n    <tr>\n      <th>5</th>\n      <td>USC00514830</td>\n      <td>2202</td>\n    </tr>\n    <tr>\n      <th>6</th>\n      <td>USC00511918</td>\n      <td>1979</td>\n    </tr>\n    <tr>\n      <th>7</th>\n      <td>USC00517948</td>\n      <td>1372</td>\n    </tr>\n    <tr>\n      <th>8</th>\n      <td>USC00518838</td>\n      <td>511</td>\n    </tr>\n  </tbody>\n</table>\n</div>"
     },
     "metadata": {},
     "execution_count": 24
    }
   ],
   "source": [
    "active_stations_df = pd.DataFrame(activity_count, columns=[\"Station\", \"Measurement Count\"], )\n",
    "active_stations_df"
   ]
  },
  {
   "cell_type": "code",
   "execution_count": 25,
   "metadata": {},
   "outputs": [
    {
     "output_type": "stream",
     "name": "stdout",
     "text": [
      "('USC00519281', 2772)\n"
     ]
    }
   ],
   "source": [
    "most_active = (session.query(measurement.station, func.count(measurement.date)).group_by(measurement.station).order_by(func.count(measurement.date).desc()).first())\n",
    "print(most_active)"
   ]
  },
  {
   "cell_type": "code",
   "execution_count": 26,
   "metadata": {},
   "outputs": [
    {
     "output_type": "execute_result",
     "data": {
      "text/plain": [
       "       Station          Station Name  min-temp  max-temp   avg-temp\n",
       "0  USC00519281  WAIKIKI 717.2, HI US      54.0      85.0  71.663781"
      ],
      "text/html": "<div>\n<style scoped>\n    .dataframe tbody tr th:only-of-type {\n        vertical-align: middle;\n    }\n\n    .dataframe tbody tr th {\n        vertical-align: top;\n    }\n\n    .dataframe thead th {\n        text-align: right;\n    }\n</style>\n<table border=\"1\" class=\"dataframe\">\n  <thead>\n    <tr style=\"text-align: right;\">\n      <th></th>\n      <th>Station</th>\n      <th>Station Name</th>\n      <th>min-temp</th>\n      <th>max-temp</th>\n      <th>avg-temp</th>\n    </tr>\n  </thead>\n  <tbody>\n    <tr>\n      <th>0</th>\n      <td>USC00519281</td>\n      <td>WAIKIKI 717.2, HI US</td>\n      <td>54.0</td>\n      <td>85.0</td>\n      <td>71.663781</td>\n    </tr>\n  </tbody>\n</table>\n</div>"
     },
     "metadata": {},
     "execution_count": 26
    }
   ],
   "source": [
    "# Using the station id from the previous query, calculate the lowest temperature recorded, \n",
    "# highest temperature recorded, and average temperature of the most active station?\n",
    "most_active = session.query(measurement.station, station.name, \n",
    "                                     func.min(measurement.tobs),\n",
    "                                     func.max(measurement.tobs), \n",
    "                                     func.avg(measurement.tobs)).filter(measurement.station == 'USC00519281')\n",
    "\n",
    "pd.DataFrame(most_active, columns=[\"Station\", \"Station Name\", \"min-temp\", \"max-temp\", \"avg-temp\"])"
   ]
  },
  {
   "cell_type": "code",
   "execution_count": null,
   "metadata": {},
   "outputs": [],
   "source": []
  },
  {
   "cell_type": "code",
   "execution_count": 27,
   "metadata": {},
   "outputs": [
    {
     "output_type": "execute_result",
     "data": {
      "text/plain": [
       "           date  temp\n",
       "0    2016-08-24  77.0\n",
       "1    2016-08-25  80.0\n",
       "2    2016-08-26  80.0\n",
       "3    2016-08-27  75.0\n",
       "4    2016-08-28  73.0\n",
       "..          ...   ...\n",
       "346  2017-08-14  77.0\n",
       "347  2017-08-15  77.0\n",
       "348  2017-08-16  76.0\n",
       "349  2017-08-17  76.0\n",
       "350  2017-08-18  79.0\n",
       "\n",
       "[351 rows x 2 columns]"
      ],
      "text/html": "<div>\n<style scoped>\n    .dataframe tbody tr th:only-of-type {\n        vertical-align: middle;\n    }\n\n    .dataframe tbody tr th {\n        vertical-align: top;\n    }\n\n    .dataframe thead th {\n        text-align: right;\n    }\n</style>\n<table border=\"1\" class=\"dataframe\">\n  <thead>\n    <tr style=\"text-align: right;\">\n      <th></th>\n      <th>date</th>\n      <th>temp</th>\n    </tr>\n  </thead>\n  <tbody>\n    <tr>\n      <th>0</th>\n      <td>2016-08-24</td>\n      <td>77.0</td>\n    </tr>\n    <tr>\n      <th>1</th>\n      <td>2016-08-25</td>\n      <td>80.0</td>\n    </tr>\n    <tr>\n      <th>2</th>\n      <td>2016-08-26</td>\n      <td>80.0</td>\n    </tr>\n    <tr>\n      <th>3</th>\n      <td>2016-08-27</td>\n      <td>75.0</td>\n    </tr>\n    <tr>\n      <th>4</th>\n      <td>2016-08-28</td>\n      <td>73.0</td>\n    </tr>\n    <tr>\n      <th>...</th>\n      <td>...</td>\n      <td>...</td>\n    </tr>\n    <tr>\n      <th>346</th>\n      <td>2017-08-14</td>\n      <td>77.0</td>\n    </tr>\n    <tr>\n      <th>347</th>\n      <td>2017-08-15</td>\n      <td>77.0</td>\n    </tr>\n    <tr>\n      <th>348</th>\n      <td>2017-08-16</td>\n      <td>76.0</td>\n    </tr>\n    <tr>\n      <th>349</th>\n      <td>2017-08-17</td>\n      <td>76.0</td>\n    </tr>\n    <tr>\n      <th>350</th>\n      <td>2017-08-18</td>\n      <td>79.0</td>\n    </tr>\n  </tbody>\n</table>\n<p>351 rows × 2 columns</p>\n</div>"
     },
     "metadata": {},
     "execution_count": 27
    }
   ],
   "source": [
    "# Choose the station with the highest number of temperature observations.\n",
    "# Query the last 12 months of temperature observation data for this station and plot the results as a histogram\n",
    "most_active_last12 = session.query(measurement.date, measurement.tobs).filter(measurement.station == 'USC00519281').filter(measurement.date >= one_year_ago,  measurement.date <= last_date)\n",
    "\n",
    "most_active_last12_df = pd.DataFrame(most_active_last12, columns=[\"date\", \"temp\"])\n",
    "most_active_last12_df"
   ]
  },
  {
   "cell_type": "code",
   "execution_count": 28,
   "metadata": {},
   "outputs": [
    {
     "output_type": "display_data",
     "data": {
      "text/plain": "<Figure size 432x288 with 1 Axes>",
      "image/svg+xml": "<?xml version=\"1.0\" encoding=\"utf-8\" standalone=\"no\"?>\r\n<!DOCTYPE svg PUBLIC \"-//W3C//DTD SVG 1.1//EN\"\r\n  \"http://www.w3.org/Graphics/SVG/1.1/DTD/svg11.dtd\">\r\n<!-- Created with matplotlib (https://matplotlib.org/) -->\r\n<svg height=\"261.959875pt\" version=\"1.1\" viewBox=\"0 0 422.07875 261.959875\" width=\"422.07875pt\" xmlns=\"http://www.w3.org/2000/svg\" xmlns:xlink=\"http://www.w3.org/1999/xlink\">\r\n <metadata>\r\n  <rdf:RDF xmlns:cc=\"http://creativecommons.org/ns#\" xmlns:dc=\"http://purl.org/dc/elements/1.1/\" xmlns:rdf=\"http://www.w3.org/1999/02/22-rdf-syntax-ns#\">\r\n   <cc:Work>\r\n    <dc:type rdf:resource=\"http://purl.org/dc/dcmitype/StillImage\"/>\r\n    <dc:date>2020-11-06T20:21:26.506343</dc:date>\r\n    <dc:format>image/svg+xml</dc:format>\r\n    <dc:creator>\r\n     <cc:Agent>\r\n      <dc:title>Matplotlib v3.3.2, https://matplotlib.org/</dc:title>\r\n     </cc:Agent>\r\n    </dc:creator>\r\n   </cc:Work>\r\n  </rdf:RDF>\r\n </metadata>\r\n <defs>\r\n  <style type=\"text/css\">*{stroke-linecap:butt;stroke-linejoin:round;}</style>\r\n </defs>\r\n <g id=\"figure_1\">\r\n  <g id=\"patch_1\">\r\n   <path d=\"M 0 261.959875 \r\nL 422.07875 261.959875 \r\nL 422.07875 0 \r\nL 0 0 \r\nz\r\n\" style=\"fill:none;\"/>\r\n  </g>\r\n  <g id=\"axes_1\">\r\n   <g id=\"patch_2\">\r\n    <path d=\"M 39.03875 241.58175 \r\nL 414.87875 241.58175 \r\nL 414.87875 24.14175 \r\nL 39.03875 24.14175 \r\nz\r\n\" style=\"fill:#f0f0f0;\"/>\r\n   </g>\r\n   <g id=\"matplotlib.axis_1\">\r\n    <g id=\"xtick_1\">\r\n     <g id=\"line2d_1\">\r\n      <path clip-path=\"url(#pb9e7d14f1a)\" d=\"M 70.35875 241.58175 \r\nL 70.35875 24.14175 \r\n\" style=\"fill:none;stroke:#cbcbcb;\"/>\r\n     </g>\r\n     <g id=\"line2d_2\"/>\r\n     <g id=\"text_1\">\r\n      <!-- 60 -->\r\n      <g transform=\"translate(63.99625 252.680188)scale(0.1 -0.1)\">\r\n       <defs>\r\n        <path d=\"M 33.015625 40.375 \r\nQ 26.375 40.375 22.484375 35.828125 \r\nQ 18.609375 31.296875 18.609375 23.390625 \r\nQ 18.609375 15.53125 22.484375 10.953125 \r\nQ 26.375 6.390625 33.015625 6.390625 \r\nQ 39.65625 6.390625 43.53125 10.953125 \r\nQ 47.40625 15.53125 47.40625 23.390625 \r\nQ 47.40625 31.296875 43.53125 35.828125 \r\nQ 39.65625 40.375 33.015625 40.375 \r\nz\r\nM 52.59375 71.296875 \r\nL 52.59375 62.3125 \r\nQ 48.875 64.0625 45.09375 64.984375 \r\nQ 41.3125 65.921875 37.59375 65.921875 \r\nQ 27.828125 65.921875 22.671875 59.328125 \r\nQ 17.53125 52.734375 16.796875 39.40625 \r\nQ 19.671875 43.65625 24.015625 45.921875 \r\nQ 28.375 48.1875 33.59375 48.1875 \r\nQ 44.578125 48.1875 50.953125 41.515625 \r\nQ 57.328125 34.859375 57.328125 23.390625 \r\nQ 57.328125 12.15625 50.6875 5.359375 \r\nQ 44.046875 -1.421875 33.015625 -1.421875 \r\nQ 20.359375 -1.421875 13.671875 8.265625 \r\nQ 6.984375 17.96875 6.984375 36.375 \r\nQ 6.984375 53.65625 15.1875 63.9375 \r\nQ 23.390625 74.21875 37.203125 74.21875 \r\nQ 40.921875 74.21875 44.703125 73.484375 \r\nQ 48.484375 72.75 52.59375 71.296875 \r\nz\r\n\" id=\"DejaVuSans-54\"/>\r\n        <path d=\"M 31.78125 66.40625 \r\nQ 24.171875 66.40625 20.328125 58.90625 \r\nQ 16.5 51.421875 16.5 36.375 \r\nQ 16.5 21.390625 20.328125 13.890625 \r\nQ 24.171875 6.390625 31.78125 6.390625 \r\nQ 39.453125 6.390625 43.28125 13.890625 \r\nQ 47.125 21.390625 47.125 36.375 \r\nQ 47.125 51.421875 43.28125 58.90625 \r\nQ 39.453125 66.40625 31.78125 66.40625 \r\nz\r\nM 31.78125 74.21875 \r\nQ 44.046875 74.21875 50.515625 64.515625 \r\nQ 56.984375 54.828125 56.984375 36.375 \r\nQ 56.984375 17.96875 50.515625 8.265625 \r\nQ 44.046875 -1.421875 31.78125 -1.421875 \r\nQ 19.53125 -1.421875 13.0625 8.265625 \r\nQ 6.59375 17.96875 6.59375 36.375 \r\nQ 6.59375 54.828125 13.0625 64.515625 \r\nQ 19.53125 74.21875 31.78125 74.21875 \r\nz\r\n\" id=\"DejaVuSans-48\"/>\r\n       </defs>\r\n       <use xlink:href=\"#DejaVuSans-54\"/>\r\n       <use x=\"63.623047\" xlink:href=\"#DejaVuSans-48\"/>\r\n      </g>\r\n     </g>\r\n    </g>\r\n    <g id=\"xtick_2\">\r\n     <g id=\"line2d_3\">\r\n      <path clip-path=\"url(#pb9e7d14f1a)\" d=\"M 141.540568 241.58175 \r\nL 141.540568 24.14175 \r\n\" style=\"fill:none;stroke:#cbcbcb;\"/>\r\n     </g>\r\n     <g id=\"line2d_4\"/>\r\n     <g id=\"text_2\">\r\n      <!-- 65 -->\r\n      <g transform=\"translate(135.178068 252.680188)scale(0.1 -0.1)\">\r\n       <defs>\r\n        <path d=\"M 10.796875 72.90625 \r\nL 49.515625 72.90625 \r\nL 49.515625 64.59375 \r\nL 19.828125 64.59375 \r\nL 19.828125 46.734375 \r\nQ 21.96875 47.46875 24.109375 47.828125 \r\nQ 26.265625 48.1875 28.421875 48.1875 \r\nQ 40.625 48.1875 47.75 41.5 \r\nQ 54.890625 34.8125 54.890625 23.390625 \r\nQ 54.890625 11.625 47.5625 5.09375 \r\nQ 40.234375 -1.421875 26.90625 -1.421875 \r\nQ 22.3125 -1.421875 17.546875 -0.640625 \r\nQ 12.796875 0.140625 7.71875 1.703125 \r\nL 7.71875 11.625 \r\nQ 12.109375 9.234375 16.796875 8.0625 \r\nQ 21.484375 6.890625 26.703125 6.890625 \r\nQ 35.15625 6.890625 40.078125 11.328125 \r\nQ 45.015625 15.765625 45.015625 23.390625 \r\nQ 45.015625 31 40.078125 35.4375 \r\nQ 35.15625 39.890625 26.703125 39.890625 \r\nQ 22.75 39.890625 18.8125 39.015625 \r\nQ 14.890625 38.140625 10.796875 36.28125 \r\nz\r\n\" id=\"DejaVuSans-53\"/>\r\n       </defs>\r\n       <use xlink:href=\"#DejaVuSans-54\"/>\r\n       <use x=\"63.623047\" xlink:href=\"#DejaVuSans-53\"/>\r\n      </g>\r\n     </g>\r\n    </g>\r\n    <g id=\"xtick_3\">\r\n     <g id=\"line2d_5\">\r\n      <path clip-path=\"url(#pb9e7d14f1a)\" d=\"M 212.722386 241.58175 \r\nL 212.722386 24.14175 \r\n\" style=\"fill:none;stroke:#cbcbcb;\"/>\r\n     </g>\r\n     <g id=\"line2d_6\"/>\r\n     <g id=\"text_3\">\r\n      <!-- 70 -->\r\n      <g transform=\"translate(206.359886 252.680188)scale(0.1 -0.1)\">\r\n       <defs>\r\n        <path d=\"M 8.203125 72.90625 \r\nL 55.078125 72.90625 \r\nL 55.078125 68.703125 \r\nL 28.609375 0 \r\nL 18.3125 0 \r\nL 43.21875 64.59375 \r\nL 8.203125 64.59375 \r\nz\r\n\" id=\"DejaVuSans-55\"/>\r\n       </defs>\r\n       <use xlink:href=\"#DejaVuSans-55\"/>\r\n       <use x=\"63.623047\" xlink:href=\"#DejaVuSans-48\"/>\r\n      </g>\r\n     </g>\r\n    </g>\r\n    <g id=\"xtick_4\">\r\n     <g id=\"line2d_7\">\r\n      <path clip-path=\"url(#pb9e7d14f1a)\" d=\"M 283.904205 241.58175 \r\nL 283.904205 24.14175 \r\n\" style=\"fill:none;stroke:#cbcbcb;\"/>\r\n     </g>\r\n     <g id=\"line2d_8\"/>\r\n     <g id=\"text_4\">\r\n      <!-- 75 -->\r\n      <g transform=\"translate(277.541705 252.680188)scale(0.1 -0.1)\">\r\n       <use xlink:href=\"#DejaVuSans-55\"/>\r\n       <use x=\"63.623047\" xlink:href=\"#DejaVuSans-53\"/>\r\n      </g>\r\n     </g>\r\n    </g>\r\n    <g id=\"xtick_5\">\r\n     <g id=\"line2d_9\">\r\n      <path clip-path=\"url(#pb9e7d14f1a)\" d=\"M 355.086023 241.58175 \r\nL 355.086023 24.14175 \r\n\" style=\"fill:none;stroke:#cbcbcb;\"/>\r\n     </g>\r\n     <g id=\"line2d_10\"/>\r\n     <g id=\"text_5\">\r\n      <!-- 80 -->\r\n      <g transform=\"translate(348.723523 252.680188)scale(0.1 -0.1)\">\r\n       <defs>\r\n        <path d=\"M 31.78125 34.625 \r\nQ 24.75 34.625 20.71875 30.859375 \r\nQ 16.703125 27.09375 16.703125 20.515625 \r\nQ 16.703125 13.921875 20.71875 10.15625 \r\nQ 24.75 6.390625 31.78125 6.390625 \r\nQ 38.8125 6.390625 42.859375 10.171875 \r\nQ 46.921875 13.96875 46.921875 20.515625 \r\nQ 46.921875 27.09375 42.890625 30.859375 \r\nQ 38.875 34.625 31.78125 34.625 \r\nz\r\nM 21.921875 38.8125 \r\nQ 15.578125 40.375 12.03125 44.71875 \r\nQ 8.5 49.078125 8.5 55.328125 \r\nQ 8.5 64.0625 14.71875 69.140625 \r\nQ 20.953125 74.21875 31.78125 74.21875 \r\nQ 42.671875 74.21875 48.875 69.140625 \r\nQ 55.078125 64.0625 55.078125 55.328125 \r\nQ 55.078125 49.078125 51.53125 44.71875 \r\nQ 48 40.375 41.703125 38.8125 \r\nQ 48.828125 37.15625 52.796875 32.3125 \r\nQ 56.78125 27.484375 56.78125 20.515625 \r\nQ 56.78125 9.90625 50.3125 4.234375 \r\nQ 43.84375 -1.421875 31.78125 -1.421875 \r\nQ 19.734375 -1.421875 13.25 4.234375 \r\nQ 6.78125 9.90625 6.78125 20.515625 \r\nQ 6.78125 27.484375 10.78125 32.3125 \r\nQ 14.796875 37.15625 21.921875 38.8125 \r\nz\r\nM 18.3125 54.390625 \r\nQ 18.3125 48.734375 21.84375 45.5625 \r\nQ 25.390625 42.390625 31.78125 42.390625 \r\nQ 38.140625 42.390625 41.71875 45.5625 \r\nQ 45.3125 48.734375 45.3125 54.390625 \r\nQ 45.3125 60.0625 41.71875 63.234375 \r\nQ 38.140625 66.40625 31.78125 66.40625 \r\nQ 25.390625 66.40625 21.84375 63.234375 \r\nQ 18.3125 60.0625 18.3125 54.390625 \r\nz\r\n\" id=\"DejaVuSans-56\"/>\r\n       </defs>\r\n       <use xlink:href=\"#DejaVuSans-56\"/>\r\n       <use x=\"63.623047\" xlink:href=\"#DejaVuSans-48\"/>\r\n      </g>\r\n     </g>\r\n    </g>\r\n   </g>\r\n   <g id=\"matplotlib.axis_2\">\r\n    <g id=\"ytick_1\">\r\n     <g id=\"line2d_11\">\r\n      <path clip-path=\"url(#pb9e7d14f1a)\" d=\"M 39.03875 241.58175 \r\nL 414.87875 241.58175 \r\n\" style=\"fill:none;stroke:#cbcbcb;\"/>\r\n     </g>\r\n     <g id=\"line2d_12\"/>\r\n     <g id=\"text_6\">\r\n      <!-- 0 -->\r\n      <g transform=\"translate(29.17625 245.380969)scale(0.1 -0.1)\">\r\n       <use xlink:href=\"#DejaVuSans-48\"/>\r\n      </g>\r\n     </g>\r\n    </g>\r\n    <g id=\"ytick_2\">\r\n     <g id=\"line2d_13\">\r\n      <path clip-path=\"url(#pb9e7d14f1a)\" d=\"M 39.03875 210.205127 \r\nL 414.87875 210.205127 \r\n\" style=\"fill:none;stroke:#cbcbcb;\"/>\r\n     </g>\r\n     <g id=\"line2d_14\"/>\r\n     <g id=\"text_7\">\r\n      <!-- 10 -->\r\n      <g transform=\"translate(22.81375 214.004345)scale(0.1 -0.1)\">\r\n       <defs>\r\n        <path d=\"M 12.40625 8.296875 \r\nL 28.515625 8.296875 \r\nL 28.515625 63.921875 \r\nL 10.984375 60.40625 \r\nL 10.984375 69.390625 \r\nL 28.421875 72.90625 \r\nL 38.28125 72.90625 \r\nL 38.28125 8.296875 \r\nL 54.390625 8.296875 \r\nL 54.390625 0 \r\nL 12.40625 0 \r\nz\r\n\" id=\"DejaVuSans-49\"/>\r\n       </defs>\r\n       <use xlink:href=\"#DejaVuSans-49\"/>\r\n       <use x=\"63.623047\" xlink:href=\"#DejaVuSans-48\"/>\r\n      </g>\r\n     </g>\r\n    </g>\r\n    <g id=\"ytick_3\">\r\n     <g id=\"line2d_15\">\r\n      <path clip-path=\"url(#pb9e7d14f1a)\" d=\"M 39.03875 178.828503 \r\nL 414.87875 178.828503 \r\n\" style=\"fill:none;stroke:#cbcbcb;\"/>\r\n     </g>\r\n     <g id=\"line2d_16\"/>\r\n     <g id=\"text_8\">\r\n      <!-- 20 -->\r\n      <g transform=\"translate(22.81375 182.627722)scale(0.1 -0.1)\">\r\n       <defs>\r\n        <path d=\"M 19.1875 8.296875 \r\nL 53.609375 8.296875 \r\nL 53.609375 0 \r\nL 7.328125 0 \r\nL 7.328125 8.296875 \r\nQ 12.9375 14.109375 22.625 23.890625 \r\nQ 32.328125 33.6875 34.8125 36.53125 \r\nQ 39.546875 41.84375 41.421875 45.53125 \r\nQ 43.3125 49.21875 43.3125 52.78125 \r\nQ 43.3125 58.59375 39.234375 62.25 \r\nQ 35.15625 65.921875 28.609375 65.921875 \r\nQ 23.96875 65.921875 18.8125 64.3125 \r\nQ 13.671875 62.703125 7.8125 59.421875 \r\nL 7.8125 69.390625 \r\nQ 13.765625 71.78125 18.9375 73 \r\nQ 24.125 74.21875 28.421875 74.21875 \r\nQ 39.75 74.21875 46.484375 68.546875 \r\nQ 53.21875 62.890625 53.21875 53.421875 \r\nQ 53.21875 48.921875 51.53125 44.890625 \r\nQ 49.859375 40.875 45.40625 35.40625 \r\nQ 44.1875 33.984375 37.640625 27.21875 \r\nQ 31.109375 20.453125 19.1875 8.296875 \r\nz\r\n\" id=\"DejaVuSans-50\"/>\r\n       </defs>\r\n       <use xlink:href=\"#DejaVuSans-50\"/>\r\n       <use x=\"63.623047\" xlink:href=\"#DejaVuSans-48\"/>\r\n      </g>\r\n     </g>\r\n    </g>\r\n    <g id=\"ytick_4\">\r\n     <g id=\"line2d_17\">\r\n      <path clip-path=\"url(#pb9e7d14f1a)\" d=\"M 39.03875 147.45188 \r\nL 414.87875 147.45188 \r\n\" style=\"fill:none;stroke:#cbcbcb;\"/>\r\n     </g>\r\n     <g id=\"line2d_18\"/>\r\n     <g id=\"text_9\">\r\n      <!-- 30 -->\r\n      <g transform=\"translate(22.81375 151.251099)scale(0.1 -0.1)\">\r\n       <defs>\r\n        <path d=\"M 40.578125 39.3125 \r\nQ 47.65625 37.796875 51.625 33 \r\nQ 55.609375 28.21875 55.609375 21.1875 \r\nQ 55.609375 10.40625 48.1875 4.484375 \r\nQ 40.765625 -1.421875 27.09375 -1.421875 \r\nQ 22.515625 -1.421875 17.65625 -0.515625 \r\nQ 12.796875 0.390625 7.625 2.203125 \r\nL 7.625 11.71875 \r\nQ 11.71875 9.328125 16.59375 8.109375 \r\nQ 21.484375 6.890625 26.8125 6.890625 \r\nQ 36.078125 6.890625 40.9375 10.546875 \r\nQ 45.796875 14.203125 45.796875 21.1875 \r\nQ 45.796875 27.640625 41.28125 31.265625 \r\nQ 36.765625 34.90625 28.71875 34.90625 \r\nL 20.21875 34.90625 \r\nL 20.21875 43.015625 \r\nL 29.109375 43.015625 \r\nQ 36.375 43.015625 40.234375 45.921875 \r\nQ 44.09375 48.828125 44.09375 54.296875 \r\nQ 44.09375 59.90625 40.109375 62.90625 \r\nQ 36.140625 65.921875 28.71875 65.921875 \r\nQ 24.65625 65.921875 20.015625 65.03125 \r\nQ 15.375 64.15625 9.8125 62.3125 \r\nL 9.8125 71.09375 \r\nQ 15.4375 72.65625 20.34375 73.4375 \r\nQ 25.25 74.21875 29.59375 74.21875 \r\nQ 40.828125 74.21875 47.359375 69.109375 \r\nQ 53.90625 64.015625 53.90625 55.328125 \r\nQ 53.90625 49.265625 50.4375 45.09375 \r\nQ 46.96875 40.921875 40.578125 39.3125 \r\nz\r\n\" id=\"DejaVuSans-51\"/>\r\n       </defs>\r\n       <use xlink:href=\"#DejaVuSans-51\"/>\r\n       <use x=\"63.623047\" xlink:href=\"#DejaVuSans-48\"/>\r\n      </g>\r\n     </g>\r\n    </g>\r\n    <g id=\"ytick_5\">\r\n     <g id=\"line2d_19\">\r\n      <path clip-path=\"url(#pb9e7d14f1a)\" d=\"M 39.03875 116.075256 \r\nL 414.87875 116.075256 \r\n\" style=\"fill:none;stroke:#cbcbcb;\"/>\r\n     </g>\r\n     <g id=\"line2d_20\"/>\r\n     <g id=\"text_10\">\r\n      <!-- 40 -->\r\n      <g transform=\"translate(22.81375 119.874475)scale(0.1 -0.1)\">\r\n       <defs>\r\n        <path d=\"M 37.796875 64.3125 \r\nL 12.890625 25.390625 \r\nL 37.796875 25.390625 \r\nz\r\nM 35.203125 72.90625 \r\nL 47.609375 72.90625 \r\nL 47.609375 25.390625 \r\nL 58.015625 25.390625 \r\nL 58.015625 17.1875 \r\nL 47.609375 17.1875 \r\nL 47.609375 0 \r\nL 37.796875 0 \r\nL 37.796875 17.1875 \r\nL 4.890625 17.1875 \r\nL 4.890625 26.703125 \r\nz\r\n\" id=\"DejaVuSans-52\"/>\r\n       </defs>\r\n       <use xlink:href=\"#DejaVuSans-52\"/>\r\n       <use x=\"63.623047\" xlink:href=\"#DejaVuSans-48\"/>\r\n      </g>\r\n     </g>\r\n    </g>\r\n    <g id=\"ytick_6\">\r\n     <g id=\"line2d_21\">\r\n      <path clip-path=\"url(#pb9e7d14f1a)\" d=\"M 39.03875 84.698633 \r\nL 414.87875 84.698633 \r\n\" style=\"fill:none;stroke:#cbcbcb;\"/>\r\n     </g>\r\n     <g id=\"line2d_22\"/>\r\n     <g id=\"text_11\">\r\n      <!-- 50 -->\r\n      <g transform=\"translate(22.81375 88.497852)scale(0.1 -0.1)\">\r\n       <use xlink:href=\"#DejaVuSans-53\"/>\r\n       <use x=\"63.623047\" xlink:href=\"#DejaVuSans-48\"/>\r\n      </g>\r\n     </g>\r\n    </g>\r\n    <g id=\"ytick_7\">\r\n     <g id=\"line2d_23\">\r\n      <path clip-path=\"url(#pb9e7d14f1a)\" d=\"M 39.03875 53.32201 \r\nL 414.87875 53.32201 \r\n\" style=\"fill:none;stroke:#cbcbcb;\"/>\r\n     </g>\r\n     <g id=\"line2d_24\"/>\r\n     <g id=\"text_12\">\r\n      <!-- 60 -->\r\n      <g transform=\"translate(22.81375 57.121228)scale(0.1 -0.1)\">\r\n       <use xlink:href=\"#DejaVuSans-54\"/>\r\n       <use x=\"63.623047\" xlink:href=\"#DejaVuSans-48\"/>\r\n      </g>\r\n     </g>\r\n    </g>\r\n    <g id=\"text_13\">\r\n     <!-- Frequency -->\r\n     <g transform=\"translate(16.318125 163.857375)rotate(-90)scale(0.12 -0.12)\">\r\n      <defs>\r\n       <path d=\"M 9.8125 72.90625 \r\nL 51.703125 72.90625 \r\nL 51.703125 64.59375 \r\nL 19.671875 64.59375 \r\nL 19.671875 43.109375 \r\nL 48.578125 43.109375 \r\nL 48.578125 34.8125 \r\nL 19.671875 34.8125 \r\nL 19.671875 0 \r\nL 9.8125 0 \r\nz\r\n\" id=\"DejaVuSans-70\"/>\r\n       <path d=\"M 41.109375 46.296875 \r\nQ 39.59375 47.171875 37.8125 47.578125 \r\nQ 36.03125 48 33.890625 48 \r\nQ 26.265625 48 22.1875 43.046875 \r\nQ 18.109375 38.09375 18.109375 28.8125 \r\nL 18.109375 0 \r\nL 9.078125 0 \r\nL 9.078125 54.6875 \r\nL 18.109375 54.6875 \r\nL 18.109375 46.1875 \r\nQ 20.953125 51.171875 25.484375 53.578125 \r\nQ 30.03125 56 36.53125 56 \r\nQ 37.453125 56 38.578125 55.875 \r\nQ 39.703125 55.765625 41.0625 55.515625 \r\nz\r\n\" id=\"DejaVuSans-114\"/>\r\n       <path d=\"M 56.203125 29.59375 \r\nL 56.203125 25.203125 \r\nL 14.890625 25.203125 \r\nQ 15.484375 15.921875 20.484375 11.0625 \r\nQ 25.484375 6.203125 34.421875 6.203125 \r\nQ 39.59375 6.203125 44.453125 7.46875 \r\nQ 49.3125 8.734375 54.109375 11.28125 \r\nL 54.109375 2.78125 \r\nQ 49.265625 0.734375 44.1875 -0.34375 \r\nQ 39.109375 -1.421875 33.890625 -1.421875 \r\nQ 20.796875 -1.421875 13.15625 6.1875 \r\nQ 5.515625 13.8125 5.515625 26.8125 \r\nQ 5.515625 40.234375 12.765625 48.109375 \r\nQ 20.015625 56 32.328125 56 \r\nQ 43.359375 56 49.78125 48.890625 \r\nQ 56.203125 41.796875 56.203125 29.59375 \r\nz\r\nM 47.21875 32.234375 \r\nQ 47.125 39.59375 43.09375 43.984375 \r\nQ 39.0625 48.390625 32.421875 48.390625 \r\nQ 24.90625 48.390625 20.390625 44.140625 \r\nQ 15.875 39.890625 15.1875 32.171875 \r\nz\r\n\" id=\"DejaVuSans-101\"/>\r\n       <path d=\"M 14.796875 27.296875 \r\nQ 14.796875 17.390625 18.875 11.75 \r\nQ 22.953125 6.109375 30.078125 6.109375 \r\nQ 37.203125 6.109375 41.296875 11.75 \r\nQ 45.40625 17.390625 45.40625 27.296875 \r\nQ 45.40625 37.203125 41.296875 42.84375 \r\nQ 37.203125 48.484375 30.078125 48.484375 \r\nQ 22.953125 48.484375 18.875 42.84375 \r\nQ 14.796875 37.203125 14.796875 27.296875 \r\nz\r\nM 45.40625 8.203125 \r\nQ 42.578125 3.328125 38.25 0.953125 \r\nQ 33.9375 -1.421875 27.875 -1.421875 \r\nQ 17.96875 -1.421875 11.734375 6.484375 \r\nQ 5.515625 14.40625 5.515625 27.296875 \r\nQ 5.515625 40.1875 11.734375 48.09375 \r\nQ 17.96875 56 27.875 56 \r\nQ 33.9375 56 38.25 53.625 \r\nQ 42.578125 51.265625 45.40625 46.390625 \r\nL 45.40625 54.6875 \r\nL 54.390625 54.6875 \r\nL 54.390625 -20.796875 \r\nL 45.40625 -20.796875 \r\nz\r\n\" id=\"DejaVuSans-113\"/>\r\n       <path d=\"M 8.5 21.578125 \r\nL 8.5 54.6875 \r\nL 17.484375 54.6875 \r\nL 17.484375 21.921875 \r\nQ 17.484375 14.15625 20.5 10.265625 \r\nQ 23.53125 6.390625 29.59375 6.390625 \r\nQ 36.859375 6.390625 41.078125 11.03125 \r\nQ 45.3125 15.671875 45.3125 23.6875 \r\nL 45.3125 54.6875 \r\nL 54.296875 54.6875 \r\nL 54.296875 0 \r\nL 45.3125 0 \r\nL 45.3125 8.40625 \r\nQ 42.046875 3.421875 37.71875 1 \r\nQ 33.40625 -1.421875 27.6875 -1.421875 \r\nQ 18.265625 -1.421875 13.375 4.4375 \r\nQ 8.5 10.296875 8.5 21.578125 \r\nz\r\nM 31.109375 56 \r\nz\r\n\" id=\"DejaVuSans-117\"/>\r\n       <path d=\"M 54.890625 33.015625 \r\nL 54.890625 0 \r\nL 45.90625 0 \r\nL 45.90625 32.71875 \r\nQ 45.90625 40.484375 42.875 44.328125 \r\nQ 39.84375 48.1875 33.796875 48.1875 \r\nQ 26.515625 48.1875 22.3125 43.546875 \r\nQ 18.109375 38.921875 18.109375 30.90625 \r\nL 18.109375 0 \r\nL 9.078125 0 \r\nL 9.078125 54.6875 \r\nL 18.109375 54.6875 \r\nL 18.109375 46.1875 \r\nQ 21.34375 51.125 25.703125 53.5625 \r\nQ 30.078125 56 35.796875 56 \r\nQ 45.21875 56 50.046875 50.171875 \r\nQ 54.890625 44.34375 54.890625 33.015625 \r\nz\r\n\" id=\"DejaVuSans-110\"/>\r\n       <path d=\"M 48.78125 52.59375 \r\nL 48.78125 44.1875 \r\nQ 44.96875 46.296875 41.140625 47.34375 \r\nQ 37.3125 48.390625 33.40625 48.390625 \r\nQ 24.65625 48.390625 19.8125 42.84375 \r\nQ 14.984375 37.3125 14.984375 27.296875 \r\nQ 14.984375 17.28125 19.8125 11.734375 \r\nQ 24.65625 6.203125 33.40625 6.203125 \r\nQ 37.3125 6.203125 41.140625 7.25 \r\nQ 44.96875 8.296875 48.78125 10.40625 \r\nL 48.78125 2.09375 \r\nQ 45.015625 0.34375 40.984375 -0.53125 \r\nQ 36.96875 -1.421875 32.421875 -1.421875 \r\nQ 20.0625 -1.421875 12.78125 6.34375 \r\nQ 5.515625 14.109375 5.515625 27.296875 \r\nQ 5.515625 40.671875 12.859375 48.328125 \r\nQ 20.21875 56 33.015625 56 \r\nQ 37.15625 56 41.109375 55.140625 \r\nQ 45.0625 54.296875 48.78125 52.59375 \r\nz\r\n\" id=\"DejaVuSans-99\"/>\r\n       <path d=\"M 32.171875 -5.078125 \r\nQ 28.375 -14.84375 24.75 -17.8125 \r\nQ 21.140625 -20.796875 15.09375 -20.796875 \r\nL 7.90625 -20.796875 \r\nL 7.90625 -13.28125 \r\nL 13.1875 -13.28125 \r\nQ 16.890625 -13.28125 18.9375 -11.515625 \r\nQ 21 -9.765625 23.484375 -3.21875 \r\nL 25.09375 0.875 \r\nL 2.984375 54.6875 \r\nL 12.5 54.6875 \r\nL 29.59375 11.921875 \r\nL 46.6875 54.6875 \r\nL 56.203125 54.6875 \r\nz\r\n\" id=\"DejaVuSans-121\"/>\r\n      </defs>\r\n      <use xlink:href=\"#DejaVuSans-70\"/>\r\n      <use x=\"50.269531\" xlink:href=\"#DejaVuSans-114\"/>\r\n      <use x=\"89.132812\" xlink:href=\"#DejaVuSans-101\"/>\r\n      <use x=\"150.65625\" xlink:href=\"#DejaVuSans-113\"/>\r\n      <use x=\"214.132812\" xlink:href=\"#DejaVuSans-117\"/>\r\n      <use x=\"277.511719\" xlink:href=\"#DejaVuSans-101\"/>\r\n      <use x=\"339.035156\" xlink:href=\"#DejaVuSans-110\"/>\r\n      <use x=\"402.414062\" xlink:href=\"#DejaVuSans-99\"/>\r\n      <use x=\"457.394531\" xlink:href=\"#DejaVuSans-121\"/>\r\n     </g>\r\n    </g>\r\n   </g>\r\n   <g id=\"patch_3\">\r\n    <path clip-path=\"url(#pb9e7d14f1a)\" d=\"M 56.122386 241.58175 \r\nL 84.595114 241.58175 \r\nL 84.595114 225.893438 \r\nL 56.122386 225.893438 \r\nz\r\n\" style=\"fill:#008fd5;\"/>\r\n   </g>\r\n   <g id=\"patch_4\">\r\n    <path clip-path=\"url(#pb9e7d14f1a)\" d=\"M 84.595114 241.58175 \r\nL 113.067841 241.58175 \r\nL 113.067841 219.618114 \r\nL 84.595114 219.618114 \r\nz\r\n\" style=\"fill:#008fd5;\"/>\r\n   </g>\r\n   <g id=\"patch_5\">\r\n    <path clip-path=\"url(#pb9e7d14f1a)\" d=\"M 113.067841 241.58175 \r\nL 141.540568 241.58175 \r\nL 141.540568 219.618114 \r\nL 113.067841 219.618114 \r\nz\r\n\" style=\"fill:#008fd5;\"/>\r\n   </g>\r\n   <g id=\"patch_6\">\r\n    <path clip-path=\"url(#pb9e7d14f1a)\" d=\"M 141.540568 241.58175 \r\nL 170.013295 241.58175 \r\nL 170.013295 203.929802 \r\nL 141.540568 203.929802 \r\nz\r\n\" style=\"fill:#008fd5;\"/>\r\n   </g>\r\n   <g id=\"patch_7\">\r\n    <path clip-path=\"url(#pb9e7d14f1a)\" d=\"M 170.013295 241.58175 \r\nL 198.486023 241.58175 \r\nL 198.486023 156.864867 \r\nL 170.013295 156.864867 \r\nz\r\n\" style=\"fill:#008fd5;\"/>\r\n   </g>\r\n   <g id=\"patch_8\">\r\n    <path clip-path=\"url(#pb9e7d14f1a)\" d=\"M 198.486023 241.58175 \r\nL 226.95875 241.58175 \r\nL 226.95875 112.937594 \r\nL 198.486023 112.937594 \r\nz\r\n\" style=\"fill:#008fd5;\"/>\r\n   </g>\r\n   <g id=\"patch_9\">\r\n    <path clip-path=\"url(#pb9e7d14f1a)\" d=\"M 226.95875 241.58175 \r\nL 255.431477 241.58175 \r\nL 255.431477 116.075256 \r\nL 226.95875 116.075256 \r\nz\r\n\" style=\"fill:#008fd5;\"/>\r\n   </g>\r\n   <g id=\"patch_10\">\r\n    <path clip-path=\"url(#pb9e7d14f1a)\" d=\"M 255.431477 241.58175 \r\nL 283.904205 241.58175 \r\nL 283.904205 62.734997 \r\nL 255.431477 62.734997 \r\nz\r\n\" style=\"fill:#008fd5;\"/>\r\n   </g>\r\n   <g id=\"patch_11\">\r\n    <path clip-path=\"url(#pb9e7d14f1a)\" d=\"M 283.904205 241.58175 \r\nL 312.376932 241.58175 \r\nL 312.376932 34.496036 \r\nL 283.904205 34.496036 \r\nz\r\n\" style=\"fill:#008fd5;\"/>\r\n   </g>\r\n   <g id=\"patch_12\">\r\n    <path clip-path=\"url(#pb9e7d14f1a)\" d=\"M 312.376932 241.58175 \r\nL 340.849659 241.58175 \r\nL 340.849659 78.423308 \r\nL 312.376932 78.423308 \r\nz\r\n\" style=\"fill:#008fd5;\"/>\r\n   </g>\r\n   <g id=\"patch_13\">\r\n    <path clip-path=\"url(#pb9e7d14f1a)\" d=\"M 340.849659 241.58175 \r\nL 369.322386 241.58175 \r\nL 369.322386 150.589542 \r\nL 340.849659 150.589542 \r\nz\r\n\" style=\"fill:#008fd5;\"/>\r\n   </g>\r\n   <g id=\"patch_14\">\r\n    <path clip-path=\"url(#pb9e7d14f1a)\" d=\"M 369.322386 241.58175 \r\nL 397.795114 241.58175 \r\nL 397.795114 216.480451 \r\nL 369.322386 216.480451 \r\nz\r\n\" style=\"fill:#008fd5;\"/>\r\n   </g>\r\n   <g id=\"patch_15\">\r\n    <path d=\"M 39.03875 241.58175 \r\nL 39.03875 24.14175 \r\n\" style=\"fill:none;stroke:#f0f0f0;stroke-linecap:square;stroke-linejoin:miter;stroke-width:3;\"/>\r\n   </g>\r\n   <g id=\"patch_16\">\r\n    <path d=\"M 414.87875 241.58175 \r\nL 414.87875 24.14175 \r\n\" style=\"fill:none;stroke:#f0f0f0;stroke-linecap:square;stroke-linejoin:miter;stroke-width:3;\"/>\r\n   </g>\r\n   <g id=\"patch_17\">\r\n    <path d=\"M 39.03875 241.58175 \r\nL 414.87875 241.58175 \r\n\" style=\"fill:none;stroke:#f0f0f0;stroke-linecap:square;stroke-linejoin:miter;stroke-width:3;\"/>\r\n   </g>\r\n   <g id=\"patch_18\">\r\n    <path d=\"M 39.03875 24.14175 \r\nL 414.87875 24.14175 \r\n\" style=\"fill:none;stroke:#f0f0f0;stroke-linecap:square;stroke-linejoin:miter;stroke-width:3;\"/>\r\n   </g>\r\n   <g id=\"text_14\">\r\n    <!-- 12 month tobs for most active station -->\r\n    <g transform=\"translate(90.59525 18.14175)scale(0.144 -0.144)\">\r\n     <defs>\r\n      <path id=\"DejaVuSans-32\"/>\r\n      <path d=\"M 52 44.1875 \r\nQ 55.375 50.25 60.0625 53.125 \r\nQ 64.75 56 71.09375 56 \r\nQ 79.640625 56 84.28125 50.015625 \r\nQ 88.921875 44.046875 88.921875 33.015625 \r\nL 88.921875 0 \r\nL 79.890625 0 \r\nL 79.890625 32.71875 \r\nQ 79.890625 40.578125 77.09375 44.375 \r\nQ 74.3125 48.1875 68.609375 48.1875 \r\nQ 61.625 48.1875 57.5625 43.546875 \r\nQ 53.515625 38.921875 53.515625 30.90625 \r\nL 53.515625 0 \r\nL 44.484375 0 \r\nL 44.484375 32.71875 \r\nQ 44.484375 40.625 41.703125 44.40625 \r\nQ 38.921875 48.1875 33.109375 48.1875 \r\nQ 26.21875 48.1875 22.15625 43.53125 \r\nQ 18.109375 38.875 18.109375 30.90625 \r\nL 18.109375 0 \r\nL 9.078125 0 \r\nL 9.078125 54.6875 \r\nL 18.109375 54.6875 \r\nL 18.109375 46.1875 \r\nQ 21.1875 51.21875 25.484375 53.609375 \r\nQ 29.78125 56 35.6875 56 \r\nQ 41.65625 56 45.828125 52.96875 \r\nQ 50 49.953125 52 44.1875 \r\nz\r\n\" id=\"DejaVuSans-109\"/>\r\n      <path d=\"M 30.609375 48.390625 \r\nQ 23.390625 48.390625 19.1875 42.75 \r\nQ 14.984375 37.109375 14.984375 27.296875 \r\nQ 14.984375 17.484375 19.15625 11.84375 \r\nQ 23.34375 6.203125 30.609375 6.203125 \r\nQ 37.796875 6.203125 41.984375 11.859375 \r\nQ 46.1875 17.53125 46.1875 27.296875 \r\nQ 46.1875 37.015625 41.984375 42.703125 \r\nQ 37.796875 48.390625 30.609375 48.390625 \r\nz\r\nM 30.609375 56 \r\nQ 42.328125 56 49.015625 48.375 \r\nQ 55.71875 40.765625 55.71875 27.296875 \r\nQ 55.71875 13.875 49.015625 6.21875 \r\nQ 42.328125 -1.421875 30.609375 -1.421875 \r\nQ 18.84375 -1.421875 12.171875 6.21875 \r\nQ 5.515625 13.875 5.515625 27.296875 \r\nQ 5.515625 40.765625 12.171875 48.375 \r\nQ 18.84375 56 30.609375 56 \r\nz\r\n\" id=\"DejaVuSans-111\"/>\r\n      <path d=\"M 18.3125 70.21875 \r\nL 18.3125 54.6875 \r\nL 36.8125 54.6875 \r\nL 36.8125 47.703125 \r\nL 18.3125 47.703125 \r\nL 18.3125 18.015625 \r\nQ 18.3125 11.328125 20.140625 9.421875 \r\nQ 21.96875 7.515625 27.59375 7.515625 \r\nL 36.8125 7.515625 \r\nL 36.8125 0 \r\nL 27.59375 0 \r\nQ 17.1875 0 13.234375 3.875 \r\nQ 9.28125 7.765625 9.28125 18.015625 \r\nL 9.28125 47.703125 \r\nL 2.6875 47.703125 \r\nL 2.6875 54.6875 \r\nL 9.28125 54.6875 \r\nL 9.28125 70.21875 \r\nz\r\n\" id=\"DejaVuSans-116\"/>\r\n      <path d=\"M 54.890625 33.015625 \r\nL 54.890625 0 \r\nL 45.90625 0 \r\nL 45.90625 32.71875 \r\nQ 45.90625 40.484375 42.875 44.328125 \r\nQ 39.84375 48.1875 33.796875 48.1875 \r\nQ 26.515625 48.1875 22.3125 43.546875 \r\nQ 18.109375 38.921875 18.109375 30.90625 \r\nL 18.109375 0 \r\nL 9.078125 0 \r\nL 9.078125 75.984375 \r\nL 18.109375 75.984375 \r\nL 18.109375 46.1875 \r\nQ 21.34375 51.125 25.703125 53.5625 \r\nQ 30.078125 56 35.796875 56 \r\nQ 45.21875 56 50.046875 50.171875 \r\nQ 54.890625 44.34375 54.890625 33.015625 \r\nz\r\n\" id=\"DejaVuSans-104\"/>\r\n      <path d=\"M 48.6875 27.296875 \r\nQ 48.6875 37.203125 44.609375 42.84375 \r\nQ 40.53125 48.484375 33.40625 48.484375 \r\nQ 26.265625 48.484375 22.1875 42.84375 \r\nQ 18.109375 37.203125 18.109375 27.296875 \r\nQ 18.109375 17.390625 22.1875 11.75 \r\nQ 26.265625 6.109375 33.40625 6.109375 \r\nQ 40.53125 6.109375 44.609375 11.75 \r\nQ 48.6875 17.390625 48.6875 27.296875 \r\nz\r\nM 18.109375 46.390625 \r\nQ 20.953125 51.265625 25.265625 53.625 \r\nQ 29.59375 56 35.59375 56 \r\nQ 45.5625 56 51.78125 48.09375 \r\nQ 58.015625 40.1875 58.015625 27.296875 \r\nQ 58.015625 14.40625 51.78125 6.484375 \r\nQ 45.5625 -1.421875 35.59375 -1.421875 \r\nQ 29.59375 -1.421875 25.265625 0.953125 \r\nQ 20.953125 3.328125 18.109375 8.203125 \r\nL 18.109375 0 \r\nL 9.078125 0 \r\nL 9.078125 75.984375 \r\nL 18.109375 75.984375 \r\nz\r\n\" id=\"DejaVuSans-98\"/>\r\n      <path d=\"M 44.28125 53.078125 \r\nL 44.28125 44.578125 \r\nQ 40.484375 46.53125 36.375 47.5 \r\nQ 32.28125 48.484375 27.875 48.484375 \r\nQ 21.1875 48.484375 17.84375 46.4375 \r\nQ 14.5 44.390625 14.5 40.28125 \r\nQ 14.5 37.15625 16.890625 35.375 \r\nQ 19.28125 33.59375 26.515625 31.984375 \r\nL 29.59375 31.296875 \r\nQ 39.15625 29.25 43.1875 25.515625 \r\nQ 47.21875 21.78125 47.21875 15.09375 \r\nQ 47.21875 7.46875 41.1875 3.015625 \r\nQ 35.15625 -1.421875 24.609375 -1.421875 \r\nQ 20.21875 -1.421875 15.453125 -0.5625 \r\nQ 10.6875 0.296875 5.421875 2 \r\nL 5.421875 11.28125 \r\nQ 10.40625 8.6875 15.234375 7.390625 \r\nQ 20.0625 6.109375 24.8125 6.109375 \r\nQ 31.15625 6.109375 34.5625 8.28125 \r\nQ 37.984375 10.453125 37.984375 14.40625 \r\nQ 37.984375 18.0625 35.515625 20.015625 \r\nQ 33.0625 21.96875 24.703125 23.78125 \r\nL 21.578125 24.515625 \r\nQ 13.234375 26.265625 9.515625 29.90625 \r\nQ 5.8125 33.546875 5.8125 39.890625 \r\nQ 5.8125 47.609375 11.28125 51.796875 \r\nQ 16.75 56 26.8125 56 \r\nQ 31.78125 56 36.171875 55.265625 \r\nQ 40.578125 54.546875 44.28125 53.078125 \r\nz\r\n\" id=\"DejaVuSans-115\"/>\r\n      <path d=\"M 37.109375 75.984375 \r\nL 37.109375 68.5 \r\nL 28.515625 68.5 \r\nQ 23.6875 68.5 21.796875 66.546875 \r\nQ 19.921875 64.59375 19.921875 59.515625 \r\nL 19.921875 54.6875 \r\nL 34.71875 54.6875 \r\nL 34.71875 47.703125 \r\nL 19.921875 47.703125 \r\nL 19.921875 0 \r\nL 10.890625 0 \r\nL 10.890625 47.703125 \r\nL 2.296875 47.703125 \r\nL 2.296875 54.6875 \r\nL 10.890625 54.6875 \r\nL 10.890625 58.5 \r\nQ 10.890625 67.625 15.140625 71.796875 \r\nQ 19.390625 75.984375 28.609375 75.984375 \r\nz\r\n\" id=\"DejaVuSans-102\"/>\r\n      <path d=\"M 34.28125 27.484375 \r\nQ 23.390625 27.484375 19.1875 25 \r\nQ 14.984375 22.515625 14.984375 16.5 \r\nQ 14.984375 11.71875 18.140625 8.90625 \r\nQ 21.296875 6.109375 26.703125 6.109375 \r\nQ 34.1875 6.109375 38.703125 11.40625 \r\nQ 43.21875 16.703125 43.21875 25.484375 \r\nL 43.21875 27.484375 \r\nz\r\nM 52.203125 31.203125 \r\nL 52.203125 0 \r\nL 43.21875 0 \r\nL 43.21875 8.296875 \r\nQ 40.140625 3.328125 35.546875 0.953125 \r\nQ 30.953125 -1.421875 24.3125 -1.421875 \r\nQ 15.921875 -1.421875 10.953125 3.296875 \r\nQ 6 8.015625 6 15.921875 \r\nQ 6 25.140625 12.171875 29.828125 \r\nQ 18.359375 34.515625 30.609375 34.515625 \r\nL 43.21875 34.515625 \r\nL 43.21875 35.40625 \r\nQ 43.21875 41.609375 39.140625 45 \r\nQ 35.0625 48.390625 27.6875 48.390625 \r\nQ 23 48.390625 18.546875 47.265625 \r\nQ 14.109375 46.140625 10.015625 43.890625 \r\nL 10.015625 52.203125 \r\nQ 14.9375 54.109375 19.578125 55.046875 \r\nQ 24.21875 56 28.609375 56 \r\nQ 40.484375 56 46.34375 49.84375 \r\nQ 52.203125 43.703125 52.203125 31.203125 \r\nz\r\n\" id=\"DejaVuSans-97\"/>\r\n      <path d=\"M 9.421875 54.6875 \r\nL 18.40625 54.6875 \r\nL 18.40625 0 \r\nL 9.421875 0 \r\nz\r\nM 9.421875 75.984375 \r\nL 18.40625 75.984375 \r\nL 18.40625 64.59375 \r\nL 9.421875 64.59375 \r\nz\r\n\" id=\"DejaVuSans-105\"/>\r\n      <path d=\"M 2.984375 54.6875 \r\nL 12.5 54.6875 \r\nL 29.59375 8.796875 \r\nL 46.6875 54.6875 \r\nL 56.203125 54.6875 \r\nL 35.6875 0 \r\nL 23.484375 0 \r\nz\r\n\" id=\"DejaVuSans-118\"/>\r\n     </defs>\r\n     <use xlink:href=\"#DejaVuSans-49\"/>\r\n     <use x=\"63.623047\" xlink:href=\"#DejaVuSans-50\"/>\r\n     <use x=\"127.246094\" xlink:href=\"#DejaVuSans-32\"/>\r\n     <use x=\"159.033203\" xlink:href=\"#DejaVuSans-109\"/>\r\n     <use x=\"256.445312\" xlink:href=\"#DejaVuSans-111\"/>\r\n     <use x=\"317.626953\" xlink:href=\"#DejaVuSans-110\"/>\r\n     <use x=\"381.005859\" xlink:href=\"#DejaVuSans-116\"/>\r\n     <use x=\"420.214844\" xlink:href=\"#DejaVuSans-104\"/>\r\n     <use x=\"483.59375\" xlink:href=\"#DejaVuSans-32\"/>\r\n     <use x=\"515.380859\" xlink:href=\"#DejaVuSans-116\"/>\r\n     <use x=\"554.589844\" xlink:href=\"#DejaVuSans-111\"/>\r\n     <use x=\"615.771484\" xlink:href=\"#DejaVuSans-98\"/>\r\n     <use x=\"679.248047\" xlink:href=\"#DejaVuSans-115\"/>\r\n     <use x=\"731.347656\" xlink:href=\"#DejaVuSans-32\"/>\r\n     <use x=\"763.134766\" xlink:href=\"#DejaVuSans-102\"/>\r\n     <use x=\"798.339844\" xlink:href=\"#DejaVuSans-111\"/>\r\n     <use x=\"859.521484\" xlink:href=\"#DejaVuSans-114\"/>\r\n     <use x=\"900.634766\" xlink:href=\"#DejaVuSans-32\"/>\r\n     <use x=\"932.421875\" xlink:href=\"#DejaVuSans-109\"/>\r\n     <use x=\"1029.833984\" xlink:href=\"#DejaVuSans-111\"/>\r\n     <use x=\"1091.015625\" xlink:href=\"#DejaVuSans-115\"/>\r\n     <use x=\"1143.115234\" xlink:href=\"#DejaVuSans-116\"/>\r\n     <use x=\"1182.324219\" xlink:href=\"#DejaVuSans-32\"/>\r\n     <use x=\"1214.111328\" xlink:href=\"#DejaVuSans-97\"/>\r\n     <use x=\"1275.390625\" xlink:href=\"#DejaVuSans-99\"/>\r\n     <use x=\"1330.371094\" xlink:href=\"#DejaVuSans-116\"/>\r\n     <use x=\"1369.580078\" xlink:href=\"#DejaVuSans-105\"/>\r\n     <use x=\"1397.363281\" xlink:href=\"#DejaVuSans-118\"/>\r\n     <use x=\"1456.542969\" xlink:href=\"#DejaVuSans-101\"/>\r\n     <use x=\"1518.066406\" xlink:href=\"#DejaVuSans-32\"/>\r\n     <use x=\"1549.853516\" xlink:href=\"#DejaVuSans-115\"/>\r\n     <use x=\"1601.953125\" xlink:href=\"#DejaVuSans-116\"/>\r\n     <use x=\"1641.162109\" xlink:href=\"#DejaVuSans-97\"/>\r\n     <use x=\"1702.441406\" xlink:href=\"#DejaVuSans-116\"/>\r\n     <use x=\"1741.650391\" xlink:href=\"#DejaVuSans-105\"/>\r\n     <use x=\"1769.433594\" xlink:href=\"#DejaVuSans-111\"/>\r\n     <use x=\"1830.615234\" xlink:href=\"#DejaVuSans-110\"/>\r\n    </g>\r\n   </g>\r\n   <g id=\"legend_1\">\r\n    <g id=\"patch_19\">\r\n     <path d=\"M 349.71625 46.819875 \r\nL 407.87875 46.819875 \r\nQ 409.87875 46.819875 409.87875 44.819875 \r\nL 409.87875 31.14175 \r\nQ 409.87875 29.14175 407.87875 29.14175 \r\nL 349.71625 29.14175 \r\nQ 347.71625 29.14175 347.71625 31.14175 \r\nL 347.71625 44.819875 \r\nQ 347.71625 46.819875 349.71625 46.819875 \r\nz\r\n\" style=\"fill:#f0f0f0;opacity:0.8;stroke:#cccccc;stroke-linejoin:miter;stroke-width:0.5;\"/>\r\n    </g>\r\n    <g id=\"patch_20\">\r\n     <path d=\"M 351.71625 40.740187 \r\nL 371.71625 40.740187 \r\nL 371.71625 33.740187 \r\nL 351.71625 33.740187 \r\nz\r\n\" style=\"fill:#008fd5;\"/>\r\n    </g>\r\n    <g id=\"text_15\">\r\n     <!-- temp -->\r\n     <g transform=\"translate(379.71625 40.740187)scale(0.1 -0.1)\">\r\n      <defs>\r\n       <path d=\"M 18.109375 8.203125 \r\nL 18.109375 -20.796875 \r\nL 9.078125 -20.796875 \r\nL 9.078125 54.6875 \r\nL 18.109375 54.6875 \r\nL 18.109375 46.390625 \r\nQ 20.953125 51.265625 25.265625 53.625 \r\nQ 29.59375 56 35.59375 56 \r\nQ 45.5625 56 51.78125 48.09375 \r\nQ 58.015625 40.1875 58.015625 27.296875 \r\nQ 58.015625 14.40625 51.78125 6.484375 \r\nQ 45.5625 -1.421875 35.59375 -1.421875 \r\nQ 29.59375 -1.421875 25.265625 0.953125 \r\nQ 20.953125 3.328125 18.109375 8.203125 \r\nz\r\nM 48.6875 27.296875 \r\nQ 48.6875 37.203125 44.609375 42.84375 \r\nQ 40.53125 48.484375 33.40625 48.484375 \r\nQ 26.265625 48.484375 22.1875 42.84375 \r\nQ 18.109375 37.203125 18.109375 27.296875 \r\nQ 18.109375 17.390625 22.1875 11.75 \r\nQ 26.265625 6.109375 33.40625 6.109375 \r\nQ 40.53125 6.109375 44.609375 11.75 \r\nQ 48.6875 17.390625 48.6875 27.296875 \r\nz\r\n\" id=\"DejaVuSans-112\"/>\r\n      </defs>\r\n      <use xlink:href=\"#DejaVuSans-116\"/>\r\n      <use x=\"39.208984\" xlink:href=\"#DejaVuSans-101\"/>\r\n      <use x=\"100.732422\" xlink:href=\"#DejaVuSans-109\"/>\r\n      <use x=\"198.144531\" xlink:href=\"#DejaVuSans-112\"/>\r\n     </g>\r\n    </g>\r\n   </g>\r\n  </g>\r\n </g>\r\n <defs>\r\n  <clipPath id=\"pb9e7d14f1a\">\r\n   <rect height=\"217.44\" width=\"375.84\" x=\"39.03875\" y=\"24.14175\"/>\r\n  </clipPath>\r\n </defs>\r\n</svg>\r\n",
      "image/png": "[encoded data removed]"
     },
     "metadata": {
      "needs_background": "light"
     }
    }
   ],
   "source": [
    "\n",
    "most_active_last12_df.plot.hist(\"tobs\", bins=12)\n",
    "plt.title(\"12 month tobs for most active station\")\n",
    "plt.savefig(\"images/12_mo_histogram.png\")"
   ]
  },
  {
   "cell_type": "markdown",
   "metadata": {},
   "source": [
    "## Bonus Challenge Assignment"
   ]
  },
  {
   "cell_type": "code",
   "execution_count": 29,
   "metadata": {},
   "outputs": [
    {
     "output_type": "stream",
     "name": "stdout",
     "text": [
      "[(62.0, 69.57142857142857, 74.0)]\n"
     ]
    }
   ],
   "source": [
    "# This function called `calc_temps` will accept start date and end date in the format '%Y-%m-%d' \n",
    "# and return the minimum, average, and maximum temperatures for that range of dates\n",
    "def calc_temps(start_date, end_date):\n",
    "    \"\"\"TMIN, TAVG, and TMAX for a list of dates.\n",
    "    \n",
    "    Args:\n",
    "        start_date (string): A date string in the format %Y-%m-%d\n",
    "        end_date (string): A date string in the format %Y-%m-%d\n",
    "        \n",
    "    Returns:\n",
    "        TMIN, TAVE, and TMAX\n",
    "    \"\"\"\n",
    "    \n",
    "    return session.query(func.min(measurement.tobs), func.avg(measurement.tobs), func.max(measurement.tobs)).\\\n",
    "        filter(measurement.date >= start_date).filter(measurement.date <= end_date).all()\n",
    "\n",
    "# function usage example\n",
    "print(calc_temps('2012-02-28', '2012-03-05'))"
   ]
  },
  {
   "cell_type": "code",
   "execution_count": 30,
   "metadata": {},
   "outputs": [
    {
     "output_type": "stream",
     "name": "stdout",
     "text": [
      "[(58.0, 74.53786848072562, 87.0)]\n"
     ]
    }
   ],
   "source": [
    "# Use your previous function `calc_temps` to calculate the tmin, tavg, and tmax \n",
    "# for your trip using the previous year's data for those same dates.\n",
    "trip_calc = calc_temps('2016-08-24', '2017-08-18')\n",
    "print(trip_calc)"
   ]
  },
  {
   "cell_type": "code",
   "execution_count": 31,
   "metadata": {},
   "outputs": [],
   "source": [
    "# Plot the results from your previous query as a bar chart. \n",
    "# Use \"Trip Avg Temp\" as your Title\n",
    "# Use the average temperature for the y value\n",
    "# Use the peak-to-peak (tmax-tmin) value as the y error bar (yerr)\n"
   ]
  },
  {
   "cell_type": "code",
   "execution_count": 32,
   "metadata": {},
   "outputs": [],
   "source": [
    "# Calculate the total amount of rainfall per weather station for your trip dates using the previous year's matching dates.\n",
    "# Sort this in descending order by precipitation amount and list the station, name, latitude, longitude, and elevation\n",
    "\n"
   ]
  },
  {
   "cell_type": "code",
   "execution_count": 33,
   "metadata": {},
   "outputs": [
    {
     "output_type": "execute_result",
     "data": {
      "text/plain": [
       "[(62.0, 69.15384615384616, 77.0)]"
      ]
     },
     "metadata": {},
     "execution_count": 33
    }
   ],
   "source": [
    "# Create a query that will calculate the daily normals \n",
    "# (i.e. the averages for tmin, tmax, and tavg for all historic data matching a specific month and day)\n",
    "\n",
    "def daily_normals(date):\n",
    "    \"\"\"Daily Normals.\n",
    "    \n",
    "    Args:\n",
    "        date (str): A date string in the format '%m-%d'\n",
    "        \n",
    "    Returns:\n",
    "        A list of tuples containing the daily normals, tmin, tavg, and tmax\n",
    "    \n",
    "    \"\"\"\n",
    "    \n",
    "    sel = [func.min(measurement.tobs), func.avg(measurement.tobs), func.max(measurement.tobs)]\n",
    "    return session.query(*sel).filter(func.strftime(\"%m-%d\", measurement.date) == date).all()\n",
    "    \n",
    "daily_normals(\"01-01\")"
   ]
  },
  {
   "cell_type": "code",
   "execution_count": 34,
   "metadata": {},
   "outputs": [],
   "source": [
    "# calculate the daily normals for your trip\n",
    "# push each tuple of calculations into a list called `normals`\n",
    "\n",
    "# Set the start and end date of the trip\n",
    "\n",
    "# Use the start and end date to create a range of dates\n",
    "\n",
    "# Stip off the year and save a list of %m-%d strings\n",
    "\n",
    "# Loop through the list of %m-%d strings and calculate the normals for each date\n"
   ]
  },
  {
   "cell_type": "code",
   "execution_count": 35,
   "metadata": {},
   "outputs": [],
   "source": [
    "# Load the previous query results into a Pandas DataFrame and add the `trip_dates` range as the `date` index\n"
   ]
  },
  {
   "cell_type": "code",
   "execution_count": 36,
   "metadata": {},
   "outputs": [],
   "source": [
    "# Plot the daily normals as an area plot with `stacked=False`\n"
   ]
  },
  {
   "cell_type": "code",
   "execution_count": 39,
   "metadata": {},
   "outputs": [
    {
     "output_type": "error",
     "ename": "NameError",
     "evalue": "name 'header' is not defined",
     "traceback": [
      "\u001b[1;31m---------------------------------------------------------------------------\u001b[0m",
      "\u001b[1;31mNameError\u001b[0m                                 Traceback (most recent call last)",
      "\u001b[1;32m<ipython-input-39-78ca27db367c>\u001b[0m in \u001b[0;36m<module>\u001b[1;34m\u001b[0m\n\u001b[0;32m      5\u001b[0m         \u001b[1;31m# most_active_last12_1_df = pd.DataFrame(most_active_last12, columns=[\"date\", \"temp\"])\u001b[0m\u001b[1;33m\u001b[0m\u001b[1;33m\u001b[0m\u001b[1;33m\u001b[0m\u001b[0m\n\u001b[0;32m      6\u001b[0m \u001b[0mtemps\u001b[0m \u001b[1;33m=\u001b[0m \u001b[0mlist\u001b[0m\u001b[1;33m(\u001b[0m\u001b[0mnp\u001b[0m\u001b[1;33m.\u001b[0m\u001b[0mravel\u001b[0m\u001b[1;33m(\u001b[0m\u001b[0mmost_active_last12\u001b[0m\u001b[1;33m)\u001b[0m\u001b[1;33m)\u001b[0m\u001b[1;33m\u001b[0m\u001b[1;33m\u001b[0m\u001b[0m\n\u001b[1;32m----> 7\u001b[1;33m \u001b[0mtemps\u001b[0m\u001b[1;33m(\u001b[0m\u001b[0mheader\u001b[0m\u001b[1;33m)\u001b[0m\u001b[1;33m\u001b[0m\u001b[1;33m\u001b[0m\u001b[0m\n\u001b[0m",
      "\u001b[1;31mNameError\u001b[0m: name 'header' is not defined"
     ]
    }
   ],
   "source": [
    "last_date_tobs = session.query(func.max(measurement.date)).first()[0]\n",
    "date_time_obj_tobs = dt.datetime.strptime(last_date_tobs, '%Y-%m-%d')\n",
    "one_year_ago_tobs = date_time_obj_tobs - timedelta(days=365)\n",
    "most_active_last12 = session.query(measurement.tobs, measurement.date).filter(measurement.station == 'USC00519281').filter(measurement.date >= one_year_ago_tobs,  measurement.date <= last_date_tobs).all()\n",
    "        # most_active_last12_1_df = pd.DataFrame(most_active_last12, columns=[\"date\", \"temp\"])\n",
    "temps = list(np.ravel(most_active_last12))\n",
    "temps"
   ]
  },
  {
   "cell_type": "code",
   "execution_count": 36,
   "metadata": {},
   "outputs": [
    {
     "output_type": "execute_result",
     "data": {
      "text/plain": [
       "['2016-08-24',\n",
       " 0.08,\n",
       " '2016-08-25',\n",
       " 0.08,\n",
       " '2016-08-26',\n",
       " 0.0,\n",
       " '2016-08-27',\n",
       " 0.0,\n",
       " '2016-08-28',\n",
       " 0.01,\n",
       " '2016-08-29',\n",
       " 0.0,\n",
       " '2016-08-30',\n",
       " 0.0,\n",
       " '2016-08-31',\n",
       " 0.13,\n",
       " '2016-09-01',\n",
       " 0.0,\n",
       " '2016-09-02',\n",
       " 0.0,\n",
       " '2016-09-03',\n",
       " 0.0,\n",
       " '2016-09-04',\n",
       " 0.03,\n",
       " '2016-09-05',\n",
       " None,\n",
       " '2016-09-06',\n",
       " None,\n",
       " '2016-09-07',\n",
       " 0.05,\n",
       " '2016-09-08',\n",
       " 0.0,\n",
       " '2016-09-09',\n",
       " 0.03,\n",
       " '2016-09-10',\n",
       " 0.0,\n",
       " '2016-09-11',\n",
       " 0.05,\n",
       " '2016-09-12',\n",
       " 0.0,\n",
       " '2016-09-13',\n",
       " 0.02,\n",
       " '2016-09-14',\n",
       " 1.32,\n",
       " '2016-09-15',\n",
       " 0.42,\n",
       " '2016-09-16',\n",
       " 0.06,\n",
       " '2016-09-17',\n",
       " 0.05,\n",
       " '2016-09-18',\n",
       " 0.0,\n",
       " '2016-09-19',\n",
       " 0.0,\n",
       " '2016-09-20',\n",
       " 0.0,\n",
       " '2016-09-21',\n",
       " 0.0,\n",
       " '2016-09-22',\n",
       " 0.02,\n",
       " '2016-09-23',\n",
       " 0.0,\n",
       " '2016-09-24',\n",
       " 0.0,\n",
       " '2016-09-25',\n",
       " 0.0,\n",
       " '2016-09-26',\n",
       " 0.06,\n",
       " '2016-09-27',\n",
       " 0.02,\n",
       " '2016-09-28',\n",
       " 0.0,\n",
       " '2016-09-29',\n",
       " 0.0,\n",
       " '2016-09-30',\n",
       " 0.0,\n",
       " '2016-10-01',\n",
       " 0.0,\n",
       " '2016-10-02',\n",
       " 0.0,\n",
       " '2016-10-03',\n",
       " 0.0,\n",
       " '2016-10-04',\n",
       " 0.0,\n",
       " '2016-10-05',\n",
       " 0.0,\n",
       " '2016-10-06',\n",
       " 0.0,\n",
       " '2016-10-07',\n",
       " 0.0,\n",
       " '2016-10-08',\n",
       " 0.0,\n",
       " '2016-10-09',\n",
       " 0.0,\n",
       " '2016-10-10',\n",
       " 0.0,\n",
       " '2016-10-11',\n",
       " 0.0,\n",
       " '2016-10-12',\n",
       " 0.0,\n",
       " '2016-10-13',\n",
       " 0.0,\n",
       " '2016-10-14',\n",
       " 0.0,\n",
       " '2016-10-15',\n",
       " 0.0,\n",
       " '2016-10-16',\n",
       " 0.0,\n",
       " '2016-10-17',\n",
       " 0.01,\n",
       " '2016-10-18',\n",
       " 0.0,\n",
       " '2016-10-19',\n",
       " 0.0,\n",
       " '2016-10-20',\n",
       " 0.0,\n",
       " '2016-10-21',\n",
       " 0.05,\n",
       " '2016-10-22',\n",
       " 0.15,\n",
       " '2016-10-23',\n",
       " 0.01,\n",
       " '2016-10-24',\n",
       " 0.0,\n",
       " '2016-10-25',\n",
       " 0.03,\n",
       " '2016-10-26',\n",
       " 0.0,\n",
       " '2016-10-27',\n",
       " 0.0,\n",
       " '2016-10-28',\n",
       " 0.0,\n",
       " '2016-10-29',\n",
       " 0.0,\n",
       " '2016-10-30',\n",
       " 0.24,\n",
       " '2016-10-31',\n",
       " 0.03,\n",
       " '2016-11-01',\n",
       " 0.0,\n",
       " '2016-11-02',\n",
       " 0.0,\n",
       " '2016-11-03',\n",
       " 0.0,\n",
       " '2016-11-04',\n",
       " 0.0,\n",
       " '2016-11-05',\n",
       " 0.0,\n",
       " '2016-11-06',\n",
       " 0.0,\n",
       " '2016-11-07',\n",
       " 0.0,\n",
       " '2016-11-08',\n",
       " 0.07,\n",
       " '2016-11-09',\n",
       " 0.0,\n",
       " '2016-11-10',\n",
       " 0.0,\n",
       " '2016-11-11',\n",
       " 0.0,\n",
       " '2016-11-12',\n",
       " 0.0,\n",
       " '2016-11-13',\n",
       " 0.0,\n",
       " '2016-11-14',\n",
       " 0.0,\n",
       " '2016-11-15',\n",
       " 0.0,\n",
       " '2016-11-16',\n",
       " 0.0,\n",
       " '2016-11-17',\n",
       " 0.0,\n",
       " '2016-11-18',\n",
       " 0.0,\n",
       " '2016-11-19',\n",
       " 0.03,\n",
       " '2016-11-20',\n",
       " 0.05,\n",
       " '2016-11-21',\n",
       " 0.01,\n",
       " '2016-11-22',\n",
       " 0.13,\n",
       " '2016-11-23',\n",
       " 0.14,\n",
       " '2016-11-24',\n",
       " 0.05,\n",
       " '2016-11-25',\n",
       " 0.05,\n",
       " '2016-11-26',\n",
       " 0.05,\n",
       " '2016-11-27',\n",
       " 0.0,\n",
       " '2016-11-28',\n",
       " 0.01,\n",
       " '2016-11-29',\n",
       " 0.0,\n",
       " '2016-11-30',\n",
       " 0.14,\n",
       " '2016-12-01',\n",
       " 0.12,\n",
       " '2016-12-02',\n",
       " 0.03,\n",
       " '2016-12-03',\n",
       " 0.0,\n",
       " '2016-12-04',\n",
       " 0.03,\n",
       " '2016-12-05',\n",
       " 0.43,\n",
       " '2016-12-06',\n",
       " 0.02,\n",
       " '2016-12-07',\n",
       " 0.0,\n",
       " '2016-12-08',\n",
       " 0.03,\n",
       " '2016-12-09',\n",
       " 0.52,\n",
       " '2016-12-10',\n",
       " 0.05,\n",
       " '2016-12-11',\n",
       " 0.04,\n",
       " '2016-12-12',\n",
       " 0.01,\n",
       " '2016-12-13',\n",
       " 0.05,\n",
       " '2016-12-14',\n",
       " 0.03,\n",
       " '2016-12-15',\n",
       " 0.0,\n",
       " '2016-12-16',\n",
       " 0.0,\n",
       " '2016-12-17',\n",
       " 0.01,\n",
       " '2016-12-18',\n",
       " 0.13,\n",
       " '2016-12-19',\n",
       " 0.01,\n",
       " '2016-12-20',\n",
       " 0.0,\n",
       " '2016-12-21',\n",
       " 0.0,\n",
       " '2016-12-22',\n",
       " 0.01,\n",
       " '2016-12-23',\n",
       " 0.01,\n",
       " '2016-12-24',\n",
       " 0.01,\n",
       " '2016-12-25',\n",
       " 0.0,\n",
       " '2016-12-26',\n",
       " 0.02,\n",
       " '2016-12-27',\n",
       " 0.0,\n",
       " '2016-12-28',\n",
       " 0.02,\n",
       " '2016-12-29',\n",
       " 0.04,\n",
       " '2016-12-30',\n",
       " 0.12,\n",
       " '2016-12-31',\n",
       " 0.01,\n",
       " '2017-01-01',\n",
       " 0.0,\n",
       " '2017-01-02',\n",
       " 0.0,\n",
       " '2017-01-03',\n",
       " 0.0,\n",
       " '2017-01-04',\n",
       " 0.0,\n",
       " '2017-01-05',\n",
       " 0.0,\n",
       " '2017-01-06',\n",
       " 0.0,\n",
       " '2017-01-07',\n",
       " 0.0,\n",
       " '2017-01-08',\n",
       " 0.0,\n",
       " '2017-01-09',\n",
       " 0.0,\n",
       " '2017-01-10',\n",
       " 0.0,\n",
       " '2017-01-11',\n",
       " 0.0,\n",
       " '2017-01-12',\n",
       " 0.0,\n",
       " '2017-01-13',\n",
       " 0.0,\n",
       " '2017-01-14',\n",
       " 0.0,\n",
       " '2017-01-15',\n",
       " 0.0,\n",
       " '2017-01-16',\n",
       " 0.0,\n",
       " '2017-01-17',\n",
       " 0.0,\n",
       " '2017-01-18',\n",
       " 0.0,\n",
       " '2017-01-19',\n",
       " 0.0,\n",
       " '2017-01-20',\n",
       " 0.0,\n",
       " '2017-01-21',\n",
       " 0.0,\n",
       " '2017-01-22',\n",
       " 0.16,\n",
       " '2017-01-23',\n",
       " 0.0,\n",
       " '2017-01-24',\n",
       " 0.04,\n",
       " '2017-01-25',\n",
       " 0.03,\n",
       " '2017-01-26',\n",
       " 0.0,\n",
       " '2017-01-27',\n",
       " 0.0,\n",
       " '2017-01-28',\n",
       " 0.0,\n",
       " '2017-01-29',\n",
       " 0.18,\n",
       " '2017-01-30',\n",
       " 0.0,\n",
       " '2017-01-31',\n",
       " 0.0,\n",
       " '2017-02-01',\n",
       " 0.0,\n",
       " '2017-02-02',\n",
       " 0.0,\n",
       " '2017-02-03',\n",
       " 0.0,\n",
       " '2017-02-04',\n",
       " 0.0,\n",
       " '2017-02-05',\n",
       " 0.0,\n",
       " '2017-02-06',\n",
       " 0.0,\n",
       " '2017-02-07',\n",
       " 0.51,\n",
       " '2017-02-08',\n",
       " 0.0,\n",
       " '2017-02-09',\n",
       " 0.0,\n",
       " '2017-02-10',\n",
       " 0.0,\n",
       " '2017-02-11',\n",
       " 0.31,\n",
       " '2017-02-12',\n",
       " 2.62,\n",
       " '2017-02-13',\n",
       " 0.01,\n",
       " '2017-02-14',\n",
       " 0.0,\n",
       " '2017-02-15',\n",
       " 0.0,\n",
       " '2017-02-16',\n",
       " 0.07,\n",
       " '2017-02-17',\n",
       " 0.0,\n",
       " '2017-02-18',\n",
       " 0.0,\n",
       " '2017-02-19',\n",
       " 0.0,\n",
       " '2017-02-20',\n",
       " 0.0,\n",
       " '2017-02-21',\n",
       " 0.06,\n",
       " '2017-02-22',\n",
       " 0.06,\n",
       " '2017-02-23',\n",
       " 0.01,\n",
       " '2017-02-24',\n",
       " 0.0,\n",
       " '2017-02-25',\n",
       " 0.03,\n",
       " '2017-02-26',\n",
       " 0.0,\n",
       " '2017-02-27',\n",
       " 0.0,\n",
       " '2017-02-28',\n",
       " 0.0,\n",
       " '2017-03-01',\n",
       " 1.19,\n",
       " '2017-03-02',\n",
       " 0.73,\n",
       " '2017-03-03',\n",
       " 0.47,\n",
       " '2017-03-04',\n",
       " 0.0,\n",
       " '2017-03-05',\n",
       " 0.35,\n",
       " '2017-03-06',\n",
       " 0.0,\n",
       " '2017-03-07',\n",
       " 0.0,\n",
       " '2017-03-08',\n",
       " 0.0,\n",
       " '2017-03-09',\n",
       " 0.0,\n",
       " '2017-03-10',\n",
       " 0.0,\n",
       " '2017-03-11',\n",
       " 0.0,\n",
       " '2017-03-12',\n",
       " 0.0,\n",
       " '2017-03-13',\n",
       " 0.0,\n",
       " '2017-03-14',\n",
       " 0.0,\n",
       " '2017-03-15',\n",
       " 0.0,\n",
       " '2017-03-16',\n",
       " 0.0,\n",
       " '2017-03-17',\n",
       " 0.0,\n",
       " '2017-03-18',\n",
       " 0.0,\n",
       " '2017-03-19',\n",
       " 0.0,\n",
       " '2017-03-20',\n",
       " 0.0,\n",
       " '2017-03-21',\n",
       " 0.0,\n",
       " '2017-03-22',\n",
       " 0.0,\n",
       " '2017-03-23',\n",
       " 0.0,\n",
       " '2017-03-24',\n",
       " 0.02,\n",
       " '2017-03-25',\n",
       " 0.0,\n",
       " '2017-03-26',\n",
       " 0.0,\n",
       " '2017-03-27',\n",
       " 0.0,\n",
       " '2017-03-28',\n",
       " 0.0,\n",
       " '2017-03-29',\n",
       " 0.0,\n",
       " '2017-03-30',\n",
       " 0.0,\n",
       " '2017-03-31',\n",
       " 0.0,\n",
       " '2017-04-01',\n",
       " 0.0,\n",
       " '2017-04-02',\n",
       " 0.0,\n",
       " '2017-04-03',\n",
       " 0.0,\n",
       " '2017-04-04',\n",
       " 0.0,\n",
       " '2017-04-05',\n",
       " 0.0,\n",
       " '2017-04-06',\n",
       " 0.0,\n",
       " '2017-04-07',\n",
       " 0.0,\n",
       " '2017-04-08',\n",
       " 0.0,\n",
       " '2017-04-09',\n",
       " 0.0,\n",
       " '2017-04-10',\n",
       " 0.0,\n",
       " '2017-04-11',\n",
       " 0.0,\n",
       " '2017-04-12',\n",
       " 0.0,\n",
       " '2017-04-13',\n",
       " 0.0,\n",
       " '2017-04-14',\n",
       " 0.26,\n",
       " '2017-04-15',\n",
       " 0.01,\n",
       " '2017-04-16',\n",
       " 0.0,\n",
       " '2017-04-17',\n",
       " 0.02,\n",
       " '2017-04-18',\n",
       " 0.0,\n",
       " '2017-04-19',\n",
       " 0.02,\n",
       " '2017-04-20',\n",
       " 0.05,\n",
       " '2017-04-21',\n",
       " 0.23,\n",
       " '2017-04-22',\n",
       " 0.32,\n",
       " '2017-04-23',\n",
       " 0.03,\n",
       " '2017-04-24',\n",
       " 0.0,\n",
       " '2017-04-25',\n",
       " 0.0,\n",
       " '2017-04-26',\n",
       " 0.0,\n",
       " '2017-04-27',\n",
       " 0.0,\n",
       " '2017-04-28',\n",
       " 0.0,\n",
       " '2017-04-29',\n",
       " 0.12,\n",
       " '2017-04-30',\n",
       " 0.89,\n",
       " '2017-05-01',\n",
       " 0.26,\n",
       " '2017-05-02',\n",
       " 0.0,\n",
       " '2017-05-03',\n",
       " 0.0,\n",
       " '2017-05-04',\n",
       " 0.0,\n",
       " '2017-05-05',\n",
       " 0.0,\n",
       " '2017-05-06',\n",
       " 0.0,\n",
       " '2017-05-07',\n",
       " 0.0,\n",
       " '2017-05-08',\n",
       " 0.0,\n",
       " '2017-05-10',\n",
       " 0.0,\n",
       " '2017-05-11',\n",
       " 0.01,\n",
       " '2017-05-12',\n",
       " 0.0,\n",
       " '2017-05-13',\n",
       " 0.0,\n",
       " '2017-05-14',\n",
       " 0.0,\n",
       " '2017-05-15',\n",
       " 0.05,\n",
       " '2017-05-16',\n",
       " 0.01,\n",
       " '2017-05-17',\n",
       " 0.0,\n",
       " '2017-05-18',\n",
       " 0.01,\n",
       " '2017-05-19',\n",
       " 0.0,\n",
       " '2017-05-20',\n",
       " 0.0,\n",
       " '2017-05-21',\n",
       " 0.0,\n",
       " '2017-05-22',\n",
       " 0.0,\n",
       " '2017-05-23',\n",
       " 0.08,\n",
       " '2017-05-24',\n",
       " 0.13,\n",
       " '2017-05-25',\n",
       " 0.15,\n",
       " '2017-05-27',\n",
       " 0.01,\n",
       " '2017-05-28',\n",
       " 0.02,\n",
       " '2017-05-29',\n",
       " 0.0,\n",
       " '2017-05-30',\n",
       " 0.26,\n",
       " '2017-05-31',\n",
       " 0.02,\n",
       " '2017-06-01',\n",
       " 0.0,\n",
       " '2017-06-02',\n",
       " 0.0,\n",
       " '2017-06-03',\n",
       " 0.02,\n",
       " '2017-06-04',\n",
       " 0.0,\n",
       " '2017-06-05',\n",
       " 0.0,\n",
       " '2017-06-06',\n",
       " 0.0,\n",
       " '2017-06-07',\n",
       " 0.0,\n",
       " '2017-06-08',\n",
       " 0.0,\n",
       " '2017-06-09',\n",
       " 0.0,\n",
       " '2017-06-10',\n",
       " 0.04,\n",
       " '2017-06-11',\n",
       " 0.08,\n",
       " '2017-06-12',\n",
       " 0.02,\n",
       " '2017-06-13',\n",
       " 0.0,\n",
       " '2017-06-14',\n",
       " 0.0,\n",
       " '2017-06-15',\n",
       " 0.0,\n",
       " '2017-06-16',\n",
       " 0.0,\n",
       " '2017-06-17',\n",
       " 0.0,\n",
       " '2017-06-18',\n",
       " 0.05,\n",
       " '2017-06-19',\n",
       " 0.0,\n",
       " '2017-06-20',\n",
       " 0.02,\n",
       " '2017-06-21',\n",
       " 0.0,\n",
       " '2017-06-22',\n",
       " 0.0,\n",
       " '2017-06-23',\n",
       " 0.0,\n",
       " '2017-06-24',\n",
       " 0.06,\n",
       " '2017-06-25',\n",
       " 0.0,\n",
       " '2017-06-26',\n",
       " 0.0,\n",
       " '2017-06-27',\n",
       " 0.0,\n",
       " '2017-06-28',\n",
       " 0.0,\n",
       " '2017-06-29',\n",
       " 0.0,\n",
       " '2017-06-30',\n",
       " 0.08,\n",
       " '2017-07-01',\n",
       " 0.02,\n",
       " '2017-07-02',\n",
       " 0.02,\n",
       " '2017-07-03',\n",
       " 0.04,\n",
       " '2017-07-04',\n",
       " 0.04,\n",
       " '2017-07-05',\n",
       " 0.0,\n",
       " '2017-07-06',\n",
       " 0.0,\n",
       " '2017-07-07',\n",
       " 0.0,\n",
       " '2017-07-08',\n",
       " 0.0,\n",
       " '2017-07-09',\n",
       " 0.0,\n",
       " '2017-07-10',\n",
       " 0.0,\n",
       " '2017-07-11',\n",
       " 0.0,\n",
       " '2017-07-12',\n",
       " 0.0,\n",
       " '2017-07-13',\n",
       " 0.07,\n",
       " '2017-07-14',\n",
       " 0.02,\n",
       " '2017-07-15',\n",
       " 0.0,\n",
       " '2017-07-16',\n",
       " 0.02,\n",
       " '2017-07-17',\n",
       " 0.03,\n",
       " '2017-07-18',\n",
       " 0.05,\n",
       " '2017-07-20',\n",
       " 0.03,\n",
       " '2017-07-21',\n",
       " 0.0,\n",
       " '2017-07-22',\n",
       " 0.03,\n",
       " '2017-07-23',\n",
       " 0.0,\n",
       " '2017-07-24',\n",
       " 0.05,\n",
       " '2017-07-25',\n",
       " 0.0,\n",
       " '2017-07-26',\n",
       " 0.0,\n",
       " '2017-07-27',\n",
       " 0.0,\n",
       " '2017-07-28',\n",
       " 0.0,\n",
       " '2017-07-29',\n",
       " 0.0,\n",
       " '2017-07-30',\n",
       " 0.0,\n",
       " '2017-07-31',\n",
       " 0.0,\n",
       " '2017-08-01',\n",
       " 0.02,\n",
       " '2017-08-02',\n",
       " 0.0,\n",
       " '2017-08-03',\n",
       " 0.0,\n",
       " '2017-08-04',\n",
       " 0.02,\n",
       " '2017-08-05',\n",
       " 0.0,\n",
       " '2017-08-06',\n",
       " 0.0,\n",
       " '2017-08-07',\n",
       " 0.0,\n",
       " '2017-08-08',\n",
       " 0.0,\n",
       " '2017-08-09',\n",
       " 0.0,\n",
       " '2017-08-10',\n",
       " 0.0,\n",
       " '2017-08-11',\n",
       " 0.0,\n",
       " '2017-08-12',\n",
       " 0.0,\n",
       " '2017-08-13',\n",
       " 0.0,\n",
       " '2017-08-14',\n",
       " 0.0,\n",
       " '2017-08-15',\n",
       " 0.02,\n",
       " '2017-08-18',\n",
       " 0.0,\n",
       " '2017-08-19',\n",
       " 0.0,\n",
       " '2017-08-20',\n",
       " 0.0,\n",
       " '2017-08-21',\n",
       " 0.0,\n",
       " '2017-08-22',\n",
       " 0.0,\n",
       " '2017-08-23',\n",
       " 0.0,\n",
       " '2016-08-24',\n",
       " 2.15,\n",
       " '2016-08-25',\n",
       " 0.08,\n",
       " '2016-08-26',\n",
       " 0.03,\n",
       " '2016-08-27',\n",
       " 0.18,\n",
       " '2016-08-28',\n",
       " 0.14,\n",
       " '2016-08-29',\n",
       " 0.17,\n",
       " '2016-08-30',\n",
       " 0.0,\n",
       " '2016-08-31',\n",
       " 0.1,\n",
       " '2016-09-01',\n",
       " 0.0,\n",
       " '2016-09-02',\n",
       " 0.02,\n",
       " '2016-09-03',\n",
       " 0.07,\n",
       " '2016-09-04',\n",
       " 0.03,\n",
       " '2016-09-05',\n",
       " 0.11,\n",
       " '2016-09-06',\n",
       " 0.05,\n",
       " '2016-09-07',\n",
       " 0.1,\n",
       " '2016-09-08',\n",
       " 0.22,\n",
       " '2016-09-09',\n",
       " 0.01,\n",
       " '2016-09-10',\n",
       " 0.01,\n",
       " '2016-09-11',\n",
       " 0.18,\n",
       " '2016-09-12',\n",
       " 0.04,\n",
       " '2016-09-13',\n",
       " 0.37,\n",
       " '2016-09-14',\n",
       " 0.9,\n",
       " '2016-09-15',\n",
       " 0.12,\n",
       " '2016-09-16',\n",
       " 0.01,\n",
       " '2016-09-17',\n",
       " 0.04,\n",
       " '2016-09-18',\n",
       " 0.0,\n",
       " '2016-09-19',\n",
       " 0.01,\n",
       " '2016-09-20',\n",
       " 0.09,\n",
       " '2016-09-21',\n",
       " 0.06,\n",
       " '2016-09-22',\n",
       " 0.09,\n",
       " '2016-09-23',\n",
       " 0.15,\n",
       " '2016-09-24',\n",
       " 0.0,\n",
       " '2016-09-25',\n",
       " 0.02,\n",
       " '2016-09-26',\n",
       " 0.06,\n",
       " '2016-09-27',\n",
       " 0.12,\n",
       " '2016-09-28',\n",
       " 0.08,\n",
       " '2016-09-29',\n",
       " 0.49,\n",
       " '2016-09-30',\n",
       " 0.31,\n",
       " '2016-10-01',\n",
       " 0.14,\n",
       " '2016-10-02',\n",
       " 0.02,\n",
       " '2016-10-03',\n",
       " 0.04,\n",
       " '2016-10-04',\n",
       " 0.0,\n",
       " '2016-10-05',\n",
       " 0.0,\n",
       " '2016-10-06',\n",
       " 0.05,\n",
       " '2016-10-07',\n",
       " 0.0,\n",
       " '2016-10-08',\n",
       " 0.0,\n",
       " '2016-10-09',\n",
       " 0.0,\n",
       " '2016-10-10',\n",
       " 0.0,\n",
       " '2016-10-11',\n",
       " 0.02,\n",
       " '2016-10-12',\n",
       " 0.03,\n",
       " '2016-10-13',\n",
       " 0.0,\n",
       " '2016-10-14',\n",
       " 0.0,\n",
       " '2016-10-15',\n",
       " 0.0,\n",
       " '2016-10-16',\n",
       " 0.0,\n",
       " '2016-10-17',\n",
       " 0.03,\n",
       " '2016-10-18',\n",
       " 0.05,\n",
       " '2016-10-19',\n",
       " 0.06,\n",
       " '2016-10-20',\n",
       " 0.0,\n",
       " '2016-10-21',\n",
       " 0.15,\n",
       " '2016-10-22',\n",
       " 0.1,\n",
       " '2016-10-23',\n",
       " 0.01,\n",
       " '2016-10-24',\n",
       " 0.0,\n",
       " '2016-10-25',\n",
       " 0.04,\n",
       " '2016-10-26',\n",
       " 0.06,\n",
       " '2016-10-27',\n",
       " 0.11,\n",
       " '2016-10-28',\n",
       " 0.02,\n",
       " '2016-10-29',\n",
       " 0.02,\n",
       " '2016-10-30',\n",
       " 0.1,\n",
       " '2016-10-31',\n",
       " 0.03,\n",
       " '2016-11-01',\n",
       " 0.01,\n",
       " '2016-11-02',\n",
       " 0.0,\n",
       " '2016-11-03',\n",
       " 0.0,\n",
       " '2016-11-04',\n",
       " 0.0,\n",
       " '2016-11-05',\n",
       " 0.02,\n",
       " '2016-11-06',\n",
       " 0.02,\n",
       " '2016-11-07',\n",
       " 0.0,\n",
       " '2016-11-08',\n",
       " 0.14,\n",
       " '2016-11-09',\n",
       " 0.08,\n",
       " '2016-11-10',\n",
       " 0.0,\n",
       " '2016-11-11',\n",
       " 0.0,\n",
       " '2016-11-12',\n",
       " 0.0,\n",
       " '2016-11-13',\n",
       " 0.0,\n",
       " '2016-11-14',\n",
       " 0.06,\n",
       " '2016-11-15',\n",
       " 0.0,\n",
       " '2016-11-16',\n",
       " 0.14,\n",
       " '2016-11-17',\n",
       " 0.03,\n",
       " '2016-11-18',\n",
       " 0.01,\n",
       " '2016-11-19',\n",
       " 0.11,\n",
       " '2016-11-20',\n",
       " 0.11,\n",
       " '2016-11-21',\n",
       " 0.02,\n",
       " '2016-11-22',\n",
       " 0.41,\n",
       " '2016-11-23',\n",
       " 0.03,\n",
       " '2016-11-24',\n",
       " 0.2,\n",
       " '2016-11-25',\n",
       " 0.05,\n",
       " '2016-11-26',\n",
       " 0.05,\n",
       " '2016-11-27',\n",
       " 0.06,\n",
       " '2016-11-28',\n",
       " 0.02,\n",
       " '2016-11-29',\n",
       " 0.04,\n",
       " '2016-11-30',\n",
       " 0.05,\n",
       " '2016-12-01',\n",
       " 0.33,\n",
       " '2016-12-02',\n",
       " 0.3,\n",
       " '2016-12-03',\n",
       " 0.04,\n",
       " '2016-12-04',\n",
       " 0.1,\n",
       " '2016-12-05',\n",
       " 0.34,\n",
       " '2016-12-06',\n",
       " 0.02,\n",
       " '2016-12-07',\n",
       " 0.17,\n",
       " '2016-12-08',\n",
       " 0.03,\n",
       " '2016-12-09',\n",
       " 0.34,\n",
       " '2016-12-10',\n",
       " 0.02,\n",
       " '2016-12-11',\n",
       " 0.02,\n",
       " '2016-12-12',\n",
       " 0.01,\n",
       " '2016-12-13',\n",
       " 0.1,\n",
       " '2016-12-14',\n",
       " 0.05,\n",
       " '2016-12-15',\n",
       " 0.02,\n",
       " '2016-12-16',\n",
       " 0.01,\n",
       " '2016-12-17',\n",
       " 0.11,\n",
       " '2016-12-18',\n",
       " 0.29,\n",
       " '2016-12-19',\n",
       " 0.21,\n",
       " '2016-12-20',\n",
       " 0.02,\n",
       " '2016-12-21',\n",
       " 0.03,\n",
       " '2016-12-22',\n",
       " 0.17,\n",
       " '2016-12-23',\n",
       " 0.1,\n",
       " '2016-12-24',\n",
       " 0.14,\n",
       " '2016-12-25',\n",
       " 0.03,\n",
       " '2016-12-26',\n",
       " 0.26,\n",
       " '2016-12-27',\n",
       " 0.03,\n",
       " '2016-12-28',\n",
       " 0.09,\n",
       " '2016-12-29',\n",
       " 0.18,\n",
       " '2016-12-30',\n",
       " 0.21,\n",
       " '2016-12-31',\n",
       " 0.62,\n",
       " '2017-01-01',\n",
       " 0.29,\n",
       " '2017-01-02',\n",
       " 0.0,\n",
       " '2017-01-03',\n",
       " 0.0,\n",
       " '2017-01-04',\n",
       " 0.0,\n",
       " '2017-01-05',\n",
       " 0.0,\n",
       " '2017-01-06',\n",
       " 0.0,\n",
       " '2017-01-07',\n",
       " 0.06,\n",
       " '2017-01-08',\n",
       " 0.0,\n",
       " '2017-01-09',\n",
       " 0.0,\n",
       " '2017-01-10',\n",
       " 0.0,\n",
       " ...]"
      ]
     },
     "metadata": {},
     "execution_count": 36
    }
   ],
   "source": [
    "last_date = session.query(func.max(measurement.date)).first()[0]\n",
    "date_time_obj = dt.datetime.strptime(last_date, '%Y-%m-%d')\n",
    "one_year_ago = date_time_obj - timedelta(days=365)\n",
    "one_year_ago_query = session.query(measurement.date, measurement.prcp).filter(measurement.date >= one_year_ago,  measurement.date <= last_date).all()\n",
    "precip = list(np.ravel(one_year_ago_query))\n",
    "precip"
   ]
  },
  {
   "cell_type": "code",
   "execution_count": null,
   "metadata": {},
   "outputs": [],
   "source": []
  }
 ],
 "metadata": {
  "environment": {
   "name": "common-cpu.m54",
   "type": "gcloud",
   "uri": "gcr.io/deeplearning-platform-release/base-cpu:m54"
  },
  "kernel_info": {
   "name": "python3"
  },
  "kernelspec": {
   "display_name": "Python 3",
   "language": "python",
   "name": "python3"
  },
  "language_info": {
   "codemirror_mode": {
    "name": "ipython",
    "version": 3
   },
   "file_extension": ".py",
   "mimetype": "text/x-python",
   "name": "python",
   "nbconvert_exporter": "python",
   "pygments_lexer": "ipython3",
   "version": "3.7.9-final"
  },
  "nteract": {
   "version": "0.12.3"
  },
  "varInspector": {
   "cols": {
    "lenName": 16,
    "lenType": 16,
    "lenVar": 40
   },
   "kernels_config": {
    "python": {
     "delete_cmd_postfix": "",
     "delete_cmd_prefix": "del ",
     "library": "var_list.py",
     "varRefreshCmd": "print(var_dic_list())"
    },
    "r": {
     "delete_cmd_postfix": ") ",
     "delete_cmd_prefix": "rm(",
     "library": "var_list.r",
     "varRefreshCmd": "cat(var_dic_list()) "
    }
   },
   "types_to_exclude": [
    "module",
    "function",
    "builtin_function_or_method",
    "instance",
    "_Feature"
   ],
   "window_display": false
  }
 },
 "nbformat": 4,
 "nbformat_minor": 4
}